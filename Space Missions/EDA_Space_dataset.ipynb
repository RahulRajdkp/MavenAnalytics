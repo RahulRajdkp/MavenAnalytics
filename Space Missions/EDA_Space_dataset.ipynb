{
 "cells": [
  {
   "cell_type": "markdown",
   "metadata": {},
   "source": [
    "# Exploratory Data Analysis\n",
    "**Space Dataset from Maven Analytics**"
   ]
  },
  {
   "cell_type": "code",
   "execution_count": 1,
   "metadata": {},
   "outputs": [],
   "source": [
    "import pandas as pd\n",
    "import matplotlib.pyplot as plt\n",
    "import seaborn as sns"
   ]
  },
  {
   "cell_type": "markdown",
   "metadata": {},
   "source": [
    "1. **Reading Excel or csv**"
   ]
  },
  {
   "cell_type": "code",
   "execution_count": 2,
   "metadata": {},
   "outputs": [
    {
     "data": {
      "text/html": [
       "<div>\n",
       "<style scoped>\n",
       "    .dataframe tbody tr th:only-of-type {\n",
       "        vertical-align: middle;\n",
       "    }\n",
       "\n",
       "    .dataframe tbody tr th {\n",
       "        vertical-align: top;\n",
       "    }\n",
       "\n",
       "    .dataframe thead th {\n",
       "        text-align: right;\n",
       "    }\n",
       "</style>\n",
       "<table border=\"1\" class=\"dataframe\">\n",
       "  <thead>\n",
       "    <tr style=\"text-align: right;\">\n",
       "      <th></th>\n",
       "      <th>Year of Birth</th>\n",
       "      <th>Gender</th>\n",
       "      <th>Ethnicity</th>\n",
       "      <th>Child's First Name</th>\n",
       "      <th>Count</th>\n",
       "      <th>Rank</th>\n",
       "    </tr>\n",
       "  </thead>\n",
       "  <tbody>\n",
       "    <tr>\n",
       "      <th>0</th>\n",
       "      <td>2011</td>\n",
       "      <td>MALE</td>\n",
       "      <td>ASIAN AND PACIFIC ISLANDER</td>\n",
       "      <td>AARAV</td>\n",
       "      <td>15</td>\n",
       "      <td>51</td>\n",
       "    </tr>\n",
       "    <tr>\n",
       "      <th>1</th>\n",
       "      <td>2011</td>\n",
       "      <td>MALE</td>\n",
       "      <td>ASIAN AND PACIFIC ISLANDER</td>\n",
       "      <td>AARON</td>\n",
       "      <td>51</td>\n",
       "      <td>19</td>\n",
       "    </tr>\n",
       "    <tr>\n",
       "      <th>2</th>\n",
       "      <td>2011</td>\n",
       "      <td>MALE</td>\n",
       "      <td>ASIAN AND PACIFIC ISLANDER</td>\n",
       "      <td>ABDUL</td>\n",
       "      <td>20</td>\n",
       "      <td>46</td>\n",
       "    </tr>\n",
       "  </tbody>\n",
       "</table>\n",
       "</div>"
      ],
      "text/plain": [
       "   Year of Birth Gender                   Ethnicity Child's First Name  Count  \\\n",
       "0           2011   MALE  ASIAN AND PACIFIC ISLANDER              AARAV     15   \n",
       "1           2011   MALE  ASIAN AND PACIFIC ISLANDER              AARON     51   \n",
       "2           2011   MALE  ASIAN AND PACIFIC ISLANDER              ABDUL     20   \n",
       "\n",
       "   Rank  \n",
       "0    51  \n",
       "1    19  \n",
       "2    46  "
      ]
     },
     "execution_count": 2,
     "metadata": {},
     "output_type": "execute_result"
    }
   ],
   "source": [
    "baby = pd.read_excel('babynames.xlsx')\n",
    "baby.head(3)"
   ]
  },
  {
   "cell_type": "code",
   "execution_count": 3,
   "metadata": {
    "scrolled": false
   },
   "outputs": [
    {
     "data": {
      "text/html": [
       "<div>\n",
       "<style scoped>\n",
       "    .dataframe tbody tr th:only-of-type {\n",
       "        vertical-align: middle;\n",
       "    }\n",
       "\n",
       "    .dataframe tbody tr th {\n",
       "        vertical-align: top;\n",
       "    }\n",
       "\n",
       "    .dataframe thead th {\n",
       "        text-align: right;\n",
       "    }\n",
       "</style>\n",
       "<table border=\"1\" class=\"dataframe\">\n",
       "  <thead>\n",
       "    <tr style=\"text-align: right;\">\n",
       "      <th></th>\n",
       "      <th>Company</th>\n",
       "      <th>Location</th>\n",
       "      <th>Date</th>\n",
       "      <th>Time</th>\n",
       "      <th>Rocket</th>\n",
       "      <th>Mission</th>\n",
       "      <th>RocketStatus</th>\n",
       "      <th>Price</th>\n",
       "      <th>MissionStatus</th>\n",
       "    </tr>\n",
       "  </thead>\n",
       "  <tbody>\n",
       "    <tr>\n",
       "      <th>0</th>\n",
       "      <td>RVSN USSR</td>\n",
       "      <td>Site 1/5, Baikonur Cosmodrome, Kazakhstan</td>\n",
       "      <td>1957-10-04</td>\n",
       "      <td>19:28:00</td>\n",
       "      <td>Sputnik 8K71PS</td>\n",
       "      <td>Sputnik-1</td>\n",
       "      <td>Retired</td>\n",
       "      <td>NaN</td>\n",
       "      <td>Success</td>\n",
       "    </tr>\n",
       "    <tr>\n",
       "      <th>1</th>\n",
       "      <td>RVSN USSR</td>\n",
       "      <td>Site 1/5, Baikonur Cosmodrome, Kazakhstan</td>\n",
       "      <td>1957-11-03</td>\n",
       "      <td>02:30:00</td>\n",
       "      <td>Sputnik 8K71PS</td>\n",
       "      <td>Sputnik-2</td>\n",
       "      <td>Retired</td>\n",
       "      <td>NaN</td>\n",
       "      <td>Success</td>\n",
       "    </tr>\n",
       "    <tr>\n",
       "      <th>2</th>\n",
       "      <td>US Navy</td>\n",
       "      <td>LC-18A, Cape Canaveral AFS, Florida, USA</td>\n",
       "      <td>1957-12-06</td>\n",
       "      <td>16:44:00</td>\n",
       "      <td>Vanguard</td>\n",
       "      <td>Vanguard TV3</td>\n",
       "      <td>Retired</td>\n",
       "      <td>NaN</td>\n",
       "      <td>Failure</td>\n",
       "    </tr>\n",
       "    <tr>\n",
       "      <th>3</th>\n",
       "      <td>AMBA</td>\n",
       "      <td>LC-26A, Cape Canaveral AFS, Florida, USA</td>\n",
       "      <td>1958-02-01</td>\n",
       "      <td>03:48:00</td>\n",
       "      <td>Juno I</td>\n",
       "      <td>Explorer 1</td>\n",
       "      <td>Retired</td>\n",
       "      <td>NaN</td>\n",
       "      <td>Success</td>\n",
       "    </tr>\n",
       "    <tr>\n",
       "      <th>4</th>\n",
       "      <td>US Navy</td>\n",
       "      <td>LC-18A, Cape Canaveral AFS, Florida, USA</td>\n",
       "      <td>1958-02-05</td>\n",
       "      <td>07:33:00</td>\n",
       "      <td>Vanguard</td>\n",
       "      <td>Vanguard TV3BU</td>\n",
       "      <td>Retired</td>\n",
       "      <td>NaN</td>\n",
       "      <td>Failure</td>\n",
       "    </tr>\n",
       "    <tr>\n",
       "      <th>5</th>\n",
       "      <td>AMBA</td>\n",
       "      <td>LC-26A, Cape Canaveral AFS, Florida, USA</td>\n",
       "      <td>1958-03-05</td>\n",
       "      <td>18:27:00</td>\n",
       "      <td>Juno I</td>\n",
       "      <td>Explorer 2</td>\n",
       "      <td>Retired</td>\n",
       "      <td>NaN</td>\n",
       "      <td>Failure</td>\n",
       "    </tr>\n",
       "    <tr>\n",
       "      <th>6</th>\n",
       "      <td>US Navy</td>\n",
       "      <td>LC-18A, Cape Canaveral AFS, Florida, USA</td>\n",
       "      <td>1958-03-17</td>\n",
       "      <td>12:15:00</td>\n",
       "      <td>Vanguard</td>\n",
       "      <td>Vanguard 1</td>\n",
       "      <td>Retired</td>\n",
       "      <td>NaN</td>\n",
       "      <td>Success</td>\n",
       "    </tr>\n",
       "    <tr>\n",
       "      <th>7</th>\n",
       "      <td>AMBA</td>\n",
       "      <td>LC-5, Cape Canaveral AFS, Florida, USA</td>\n",
       "      <td>1958-03-26</td>\n",
       "      <td>17:38:00</td>\n",
       "      <td>Juno I</td>\n",
       "      <td>Explorer 3</td>\n",
       "      <td>Retired</td>\n",
       "      <td>NaN</td>\n",
       "      <td>Success</td>\n",
       "    </tr>\n",
       "    <tr>\n",
       "      <th>8</th>\n",
       "      <td>RVSN USSR</td>\n",
       "      <td>Site 1/5, Baikonur Cosmodrome, Kazakhstan</td>\n",
       "      <td>1958-04-27</td>\n",
       "      <td>09:01:00</td>\n",
       "      <td>Sputnik 8A91</td>\n",
       "      <td>Sputnik-3 #1</td>\n",
       "      <td>Retired</td>\n",
       "      <td>NaN</td>\n",
       "      <td>Failure</td>\n",
       "    </tr>\n",
       "    <tr>\n",
       "      <th>9</th>\n",
       "      <td>US Navy</td>\n",
       "      <td>LC-18A, Cape Canaveral AFS, Florida, USA</td>\n",
       "      <td>1958-04-28</td>\n",
       "      <td>02:53:00</td>\n",
       "      <td>Vanguard</td>\n",
       "      <td>Vanguard TV5</td>\n",
       "      <td>Retired</td>\n",
       "      <td>NaN</td>\n",
       "      <td>Failure</td>\n",
       "    </tr>\n",
       "  </tbody>\n",
       "</table>\n",
       "</div>"
      ],
      "text/plain": [
       "     Company                                   Location        Date      Time  \\\n",
       "0  RVSN USSR  Site 1/5, Baikonur Cosmodrome, Kazakhstan  1957-10-04  19:28:00   \n",
       "1  RVSN USSR  Site 1/5, Baikonur Cosmodrome, Kazakhstan  1957-11-03  02:30:00   \n",
       "2    US Navy   LC-18A, Cape Canaveral AFS, Florida, USA  1957-12-06  16:44:00   \n",
       "3       AMBA   LC-26A, Cape Canaveral AFS, Florida, USA  1958-02-01  03:48:00   \n",
       "4    US Navy   LC-18A, Cape Canaveral AFS, Florida, USA  1958-02-05  07:33:00   \n",
       "5       AMBA   LC-26A, Cape Canaveral AFS, Florida, USA  1958-03-05  18:27:00   \n",
       "6    US Navy   LC-18A, Cape Canaveral AFS, Florida, USA  1958-03-17  12:15:00   \n",
       "7       AMBA     LC-5, Cape Canaveral AFS, Florida, USA  1958-03-26  17:38:00   \n",
       "8  RVSN USSR  Site 1/5, Baikonur Cosmodrome, Kazakhstan  1958-04-27  09:01:00   \n",
       "9    US Navy   LC-18A, Cape Canaveral AFS, Florida, USA  1958-04-28  02:53:00   \n",
       "\n",
       "           Rocket         Mission RocketStatus Price MissionStatus  \n",
       "0  Sputnik 8K71PS       Sputnik-1      Retired   NaN       Success  \n",
       "1  Sputnik 8K71PS       Sputnik-2      Retired   NaN       Success  \n",
       "2        Vanguard    Vanguard TV3      Retired   NaN       Failure  \n",
       "3          Juno I      Explorer 1      Retired   NaN       Success  \n",
       "4        Vanguard  Vanguard TV3BU      Retired   NaN       Failure  \n",
       "5          Juno I      Explorer 2      Retired   NaN       Failure  \n",
       "6        Vanguard      Vanguard 1      Retired   NaN       Success  \n",
       "7          Juno I      Explorer 3      Retired   NaN       Success  \n",
       "8    Sputnik 8A91    Sputnik-3 #1      Retired   NaN       Failure  \n",
       "9        Vanguard    Vanguard TV5      Retired   NaN       Failure  "
      ]
     },
     "execution_count": 3,
     "metadata": {},
     "output_type": "execute_result"
    }
   ],
   "source": [
    "sp = pd.read_csv('space_miss.csv')\n",
    "sp.head(10)"
   ]
  },
  {
   "cell_type": "code",
   "execution_count": 4,
   "metadata": {},
   "outputs": [
    {
     "name": "stdout",
     "output_type": "stream",
     "text": [
      "        Company                                         Location        Date  \\\n",
      "0     RVSN USSR        Site 1/5, Baikonur Cosmodrome, Kazakhstan  1957-10-04   \n",
      "1     RVSN USSR        Site 1/5, Baikonur Cosmodrome, Kazakhstan  1957-11-03   \n",
      "2       US Navy         LC-18A, Cape Canaveral AFS, Florida, USA  1957-12-06   \n",
      "3          AMBA         LC-26A, Cape Canaveral AFS, Florida, USA  1958-02-01   \n",
      "4       US Navy         LC-18A, Cape Canaveral AFS, Florida, USA  1958-02-05   \n",
      "...         ...                                              ...         ...   \n",
      "4625     SpaceX          SLC-4E, Vandenberg SFB, California, USA  2022-07-22   \n",
      "4626       CASC  LC-101, Wenchang Satellite Launch Center, China  2022-07-24   \n",
      "4627     SpaceX       LC-39A, Kennedy Space Center, Florida, USA  2022-07-24   \n",
      "4628  CAS Space           Jiuquan Satellite Launch Center, China  2022-07-27   \n",
      "4629       CASC     LC-3, Xichang Satellite Launch Center, China  2022-07-29   \n",
      "\n",
      "          Time            Rocket              Mission RocketStatus  Price  \\\n",
      "0     19:28:00    Sputnik 8K71PS            Sputnik-1      Retired    NaN   \n",
      "1     02:30:00    Sputnik 8K71PS            Sputnik-2      Retired    NaN   \n",
      "2     16:44:00          Vanguard         Vanguard TV3      Retired    NaN   \n",
      "3     03:48:00            Juno I           Explorer 1      Retired    NaN   \n",
      "4     07:33:00          Vanguard       Vanguard TV3BU      Retired    NaN   \n",
      "...        ...               ...                  ...          ...    ...   \n",
      "4625  17:39:00  Falcon 9 Block 5   Starlink Group 3-2       Active     67   \n",
      "4626  06:22:00     Long March 5B              Wentian       Active    NaN   \n",
      "4627  13:38:00  Falcon 9 Block 5  Starlink Group 4-25       Active     67   \n",
      "4628  04:12:00        Zhongke-1A          Demo Flight       Active    NaN   \n",
      "4629  13:28:00     Long March 2D   Yaogan 35 Group 03       Active  29.75   \n",
      "\n",
      "     MissionStatus  \n",
      "0          Success  \n",
      "1          Success  \n",
      "2          Failure  \n",
      "3          Success  \n",
      "4          Failure  \n",
      "...            ...  \n",
      "4625       Success  \n",
      "4626       Success  \n",
      "4627       Success  \n",
      "4628       Success  \n",
      "4629       Success  \n",
      "\n",
      "[4630 rows x 9 columns]\n"
     ]
    }
   ],
   "source": [
    "print(sp)"
   ]
  },
  {
   "cell_type": "markdown",
   "metadata": {},
   "source": [
    "2. **Understanding the Columns and Datatypes**"
   ]
  },
  {
   "cell_type": "code",
   "execution_count": 5,
   "metadata": {},
   "outputs": [
    {
     "data": {
      "text/plain": [
       "Index(['Company', 'Location', 'Date', 'Time', 'Rocket', 'Mission',\n",
       "       'RocketStatus', 'Price', 'MissionStatus'],\n",
       "      dtype='object')"
      ]
     },
     "execution_count": 5,
     "metadata": {},
     "output_type": "execute_result"
    }
   ],
   "source": [
    "sp.columns"
   ]
  },
  {
   "cell_type": "code",
   "execution_count": 6,
   "metadata": {},
   "outputs": [
    {
     "name": "stdout",
     "output_type": "stream",
     "text": [
      "<class 'pandas.core.frame.DataFrame'>\n",
      "RangeIndex: 4630 entries, 0 to 4629\n",
      "Data columns (total 9 columns):\n",
      " #   Column         Non-Null Count  Dtype \n",
      "---  ------         --------------  ----- \n",
      " 0   Company        4630 non-null   object\n",
      " 1   Location       4630 non-null   object\n",
      " 2   Date           4630 non-null   object\n",
      " 3   Time           4503 non-null   object\n",
      " 4   Rocket         4630 non-null   object\n",
      " 5   Mission        4630 non-null   object\n",
      " 6   RocketStatus   4630 non-null   object\n",
      " 7   Price          1265 non-null   object\n",
      " 8   MissionStatus  4630 non-null   object\n",
      "dtypes: object(9)\n",
      "memory usage: 325.7+ KB\n"
     ]
    }
   ],
   "source": [
    "sp.info()"
   ]
  },
  {
   "cell_type": "code",
   "execution_count": 7,
   "metadata": {
    "scrolled": true
   },
   "outputs": [
    {
     "data": {
      "text/html": [
       "<div>\n",
       "<style scoped>\n",
       "    .dataframe tbody tr th:only-of-type {\n",
       "        vertical-align: middle;\n",
       "    }\n",
       "\n",
       "    .dataframe tbody tr th {\n",
       "        vertical-align: top;\n",
       "    }\n",
       "\n",
       "    .dataframe thead th {\n",
       "        text-align: right;\n",
       "    }\n",
       "</style>\n",
       "<table border=\"1\" class=\"dataframe\">\n",
       "  <thead>\n",
       "    <tr style=\"text-align: right;\">\n",
       "      <th></th>\n",
       "      <th>Company</th>\n",
       "      <th>Location</th>\n",
       "      <th>Date</th>\n",
       "      <th>Time</th>\n",
       "      <th>Rocket</th>\n",
       "      <th>Mission</th>\n",
       "      <th>RocketStatus</th>\n",
       "      <th>Price</th>\n",
       "      <th>MissionStatus</th>\n",
       "    </tr>\n",
       "  </thead>\n",
       "  <tbody>\n",
       "    <tr>\n",
       "      <th>count</th>\n",
       "      <td>4630</td>\n",
       "      <td>4630</td>\n",
       "      <td>4630</td>\n",
       "      <td>4503</td>\n",
       "      <td>4630</td>\n",
       "      <td>4630</td>\n",
       "      <td>4630</td>\n",
       "      <td>1265</td>\n",
       "      <td>4630</td>\n",
       "    </tr>\n",
       "    <tr>\n",
       "      <th>unique</th>\n",
       "      <td>62</td>\n",
       "      <td>158</td>\n",
       "      <td>4180</td>\n",
       "      <td>1300</td>\n",
       "      <td>370</td>\n",
       "      <td>4556</td>\n",
       "      <td>2</td>\n",
       "      <td>65</td>\n",
       "      <td>4</td>\n",
       "    </tr>\n",
       "    <tr>\n",
       "      <th>top</th>\n",
       "      <td>RVSN USSR</td>\n",
       "      <td>Site 31/6, Baikonur Cosmodrome, Kazakhstan</td>\n",
       "      <td>1990-08-28</td>\n",
       "      <td>12:00:00</td>\n",
       "      <td>Cosmos-3M (11K65M)</td>\n",
       "      <td>DSP</td>\n",
       "      <td>Retired</td>\n",
       "      <td>450</td>\n",
       "      <td>Success</td>\n",
       "    </tr>\n",
       "    <tr>\n",
       "      <th>freq</th>\n",
       "      <td>1777</td>\n",
       "      <td>251</td>\n",
       "      <td>4</td>\n",
       "      <td>52</td>\n",
       "      <td>446</td>\n",
       "      <td>8</td>\n",
       "      <td>3620</td>\n",
       "      <td>136</td>\n",
       "      <td>4162</td>\n",
       "    </tr>\n",
       "  </tbody>\n",
       "</table>\n",
       "</div>"
      ],
      "text/plain": [
       "          Company                                    Location        Date  \\\n",
       "count        4630                                        4630        4630   \n",
       "unique         62                                         158        4180   \n",
       "top     RVSN USSR  Site 31/6, Baikonur Cosmodrome, Kazakhstan  1990-08-28   \n",
       "freq         1777                                         251           4   \n",
       "\n",
       "            Time              Rocket Mission RocketStatus Price MissionStatus  \n",
       "count       4503                4630    4630         4630  1265          4630  \n",
       "unique      1300                 370    4556            2    65             4  \n",
       "top     12:00:00  Cosmos-3M (11K65M)     DSP      Retired   450       Success  \n",
       "freq          52                 446       8         3620   136          4162  "
      ]
     },
     "execution_count": 7,
     "metadata": {},
     "output_type": "execute_result"
    }
   ],
   "source": [
    "sp.describe()"
   ]
  },
  {
   "cell_type": "code",
   "execution_count": 8,
   "metadata": {},
   "outputs": [
    {
     "data": {
      "text/plain": [
       "Company             0\n",
       "Location            0\n",
       "Date                0\n",
       "Time              127\n",
       "Rocket              0\n",
       "Mission             0\n",
       "RocketStatus        0\n",
       "Price            3365\n",
       "MissionStatus       0\n",
       "dtype: int64"
      ]
     },
     "execution_count": 8,
     "metadata": {},
     "output_type": "execute_result"
    }
   ],
   "source": [
    "sp.isna().sum()"
   ]
  },
  {
   "cell_type": "markdown",
   "metadata": {},
   "source": [
    "- Entries in Time and Price are missing \n",
    "- Unique - 62 companies, 370 rockets and 4 Mission status"
   ]
  },
  {
   "cell_type": "code",
   "execution_count": 29,
   "metadata": {},
   "outputs": [],
   "source": [
    "sp = sp.astype( {'Company':object, 'Location':str, 'Date':object, 'Time':object, 'Rocket':object, 'Mission':object,\n",
    "       'RocketStatus':object, 'MissionStatus':object})"
   ]
  },
  {
   "cell_type": "markdown",
   "metadata": {},
   "source": [
    "**Was unable to convert price to Float ($ sign or comma seaprators)**\n",
    "\n",
    "**So they have to be removed and assigned to numeric**"
   ]
  },
  {
   "cell_type": "code",
   "execution_count": 10,
   "metadata": {},
   "outputs": [],
   "source": [
    "sp['Price']= pd.to_numeric(sp['Price'],errors='coerce')"
   ]
  },
  {
   "cell_type": "code",
   "execution_count": 11,
   "metadata": {
    "scrolled": true
   },
   "outputs": [
    {
     "name": "stdout",
     "output_type": "stream",
     "text": [
      "<class 'pandas.core.frame.DataFrame'>\n",
      "RangeIndex: 4630 entries, 0 to 4629\n",
      "Data columns (total 9 columns):\n",
      " #   Column         Non-Null Count  Dtype  \n",
      "---  ------         --------------  -----  \n",
      " 0   Company        4630 non-null   object \n",
      " 1   Location       4630 non-null   object \n",
      " 2   Date           4630 non-null   object \n",
      " 3   Time           4503 non-null   object \n",
      " 4   Rocket         4630 non-null   object \n",
      " 5   Mission        4630 non-null   object \n",
      " 6   RocketStatus   4630 non-null   object \n",
      " 7   Price          1250 non-null   float64\n",
      " 8   MissionStatus  4630 non-null   object \n",
      "dtypes: float64(1), object(8)\n",
      "memory usage: 325.7+ KB\n"
     ]
    }
   ],
   "source": [
    "sp.info()"
   ]
  },
  {
   "cell_type": "code",
   "execution_count": 31,
   "metadata": {},
   "outputs": [
    {
     "name": "stdout",
     "output_type": "stream",
     "text": [
      "<class 'pandas.core.frame.DataFrame'>\n",
      "RangeIndex: 4630 entries, 0 to 4629\n",
      "Data columns (total 9 columns):\n",
      " #   Column         Non-Null Count  Dtype         \n",
      "---  ------         --------------  -----         \n",
      " 0   Company        4630 non-null   object        \n",
      " 1   Location       4630 non-null   object        \n",
      " 2   Date           4630 non-null   datetime64[ns]\n",
      " 3   Time           4503 non-null   datetime64[ns]\n",
      " 4   Rocket         4630 non-null   object        \n",
      " 5   Mission        4630 non-null   object        \n",
      " 6   RocketStatus   4630 non-null   object        \n",
      " 7   Price          1250 non-null   float64       \n",
      " 8   MissionStatus  4630 non-null   object        \n",
      "dtypes: datetime64[ns](2), float64(1), object(6)\n",
      "memory usage: 325.7+ KB\n"
     ]
    }
   ],
   "source": [
    "sp['Date']= pd.to_datetime(sp['Date'])\n",
    "sp['Time']= pd.to_datetime(sp['Time'])\n",
    "sp.info()"
   ]
  },
  {
   "cell_type": "code",
   "execution_count": 12,
   "metadata": {},
   "outputs": [
    {
     "data": {
      "text/html": [
       "<div>\n",
       "<style scoped>\n",
       "    .dataframe tbody tr th:only-of-type {\n",
       "        vertical-align: middle;\n",
       "    }\n",
       "\n",
       "    .dataframe tbody tr th {\n",
       "        vertical-align: top;\n",
       "    }\n",
       "\n",
       "    .dataframe thead th {\n",
       "        text-align: right;\n",
       "    }\n",
       "</style>\n",
       "<table border=\"1\" class=\"dataframe\">\n",
       "  <thead>\n",
       "    <tr style=\"text-align: right;\">\n",
       "      <th></th>\n",
       "      <th>Price</th>\n",
       "    </tr>\n",
       "  </thead>\n",
       "  <tbody>\n",
       "    <tr>\n",
       "      <th>count</th>\n",
       "      <td>1250.000000</td>\n",
       "    </tr>\n",
       "    <tr>\n",
       "      <th>mean</th>\n",
       "      <td>109.779560</td>\n",
       "    </tr>\n",
       "    <tr>\n",
       "      <th>std</th>\n",
       "      <td>131.516407</td>\n",
       "    </tr>\n",
       "    <tr>\n",
       "      <th>min</th>\n",
       "      <td>2.500000</td>\n",
       "    </tr>\n",
       "    <tr>\n",
       "      <th>25%</th>\n",
       "      <td>30.000000</td>\n",
       "    </tr>\n",
       "    <tr>\n",
       "      <th>50%</th>\n",
       "      <td>62.000000</td>\n",
       "    </tr>\n",
       "    <tr>\n",
       "      <th>75%</th>\n",
       "      <td>112.500000</td>\n",
       "    </tr>\n",
       "    <tr>\n",
       "      <th>max</th>\n",
       "      <td>450.000000</td>\n",
       "    </tr>\n",
       "  </tbody>\n",
       "</table>\n",
       "</div>"
      ],
      "text/plain": [
       "             Price\n",
       "count  1250.000000\n",
       "mean    109.779560\n",
       "std     131.516407\n",
       "min       2.500000\n",
       "25%      30.000000\n",
       "50%      62.000000\n",
       "75%     112.500000\n",
       "max     450.000000"
      ]
     },
     "execution_count": 12,
     "metadata": {},
     "output_type": "execute_result"
    }
   ],
   "source": [
    "sp.describe()"
   ]
  },
  {
   "cell_type": "markdown",
   "metadata": {},
   "source": [
    "**But keep in mind the values for price attribute had more than 2000 null values**\n",
    "\n",
    "So the above stats doesnot provide the right understanding of the Price attribute"
   ]
  },
  {
   "cell_type": "code",
   "execution_count": 13,
   "metadata": {},
   "outputs": [
    {
     "data": {
      "text/html": [
       "<div>\n",
       "<style scoped>\n",
       "    .dataframe tbody tr th:only-of-type {\n",
       "        vertical-align: middle;\n",
       "    }\n",
       "\n",
       "    .dataframe tbody tr th {\n",
       "        vertical-align: top;\n",
       "    }\n",
       "\n",
       "    .dataframe thead th {\n",
       "        text-align: right;\n",
       "    }\n",
       "</style>\n",
       "<table border=\"1\" class=\"dataframe\">\n",
       "  <thead>\n",
       "    <tr style=\"text-align: right;\">\n",
       "      <th></th>\n",
       "      <th>Company</th>\n",
       "      <th>Location</th>\n",
       "      <th>Date</th>\n",
       "      <th>Time</th>\n",
       "      <th>Rocket</th>\n",
       "      <th>Mission</th>\n",
       "      <th>RocketStatus</th>\n",
       "      <th>Price</th>\n",
       "      <th>MissionStatus</th>\n",
       "    </tr>\n",
       "  </thead>\n",
       "  <tbody>\n",
       "    <tr>\n",
       "      <th>0</th>\n",
       "      <td>False</td>\n",
       "      <td>False</td>\n",
       "      <td>False</td>\n",
       "      <td>False</td>\n",
       "      <td>False</td>\n",
       "      <td>False</td>\n",
       "      <td>False</td>\n",
       "      <td>True</td>\n",
       "      <td>False</td>\n",
       "    </tr>\n",
       "    <tr>\n",
       "      <th>1</th>\n",
       "      <td>False</td>\n",
       "      <td>False</td>\n",
       "      <td>False</td>\n",
       "      <td>False</td>\n",
       "      <td>False</td>\n",
       "      <td>False</td>\n",
       "      <td>False</td>\n",
       "      <td>True</td>\n",
       "      <td>False</td>\n",
       "    </tr>\n",
       "    <tr>\n",
       "      <th>2</th>\n",
       "      <td>False</td>\n",
       "      <td>False</td>\n",
       "      <td>False</td>\n",
       "      <td>False</td>\n",
       "      <td>False</td>\n",
       "      <td>False</td>\n",
       "      <td>False</td>\n",
       "      <td>True</td>\n",
       "      <td>False</td>\n",
       "    </tr>\n",
       "    <tr>\n",
       "      <th>3</th>\n",
       "      <td>False</td>\n",
       "      <td>False</td>\n",
       "      <td>False</td>\n",
       "      <td>False</td>\n",
       "      <td>False</td>\n",
       "      <td>False</td>\n",
       "      <td>False</td>\n",
       "      <td>True</td>\n",
       "      <td>False</td>\n",
       "    </tr>\n",
       "    <tr>\n",
       "      <th>4</th>\n",
       "      <td>False</td>\n",
       "      <td>False</td>\n",
       "      <td>False</td>\n",
       "      <td>False</td>\n",
       "      <td>False</td>\n",
       "      <td>False</td>\n",
       "      <td>False</td>\n",
       "      <td>True</td>\n",
       "      <td>False</td>\n",
       "    </tr>\n",
       "    <tr>\n",
       "      <th>...</th>\n",
       "      <td>...</td>\n",
       "      <td>...</td>\n",
       "      <td>...</td>\n",
       "      <td>...</td>\n",
       "      <td>...</td>\n",
       "      <td>...</td>\n",
       "      <td>...</td>\n",
       "      <td>...</td>\n",
       "      <td>...</td>\n",
       "    </tr>\n",
       "    <tr>\n",
       "      <th>4625</th>\n",
       "      <td>False</td>\n",
       "      <td>False</td>\n",
       "      <td>False</td>\n",
       "      <td>False</td>\n",
       "      <td>False</td>\n",
       "      <td>False</td>\n",
       "      <td>False</td>\n",
       "      <td>False</td>\n",
       "      <td>False</td>\n",
       "    </tr>\n",
       "    <tr>\n",
       "      <th>4626</th>\n",
       "      <td>False</td>\n",
       "      <td>False</td>\n",
       "      <td>False</td>\n",
       "      <td>False</td>\n",
       "      <td>False</td>\n",
       "      <td>False</td>\n",
       "      <td>False</td>\n",
       "      <td>True</td>\n",
       "      <td>False</td>\n",
       "    </tr>\n",
       "    <tr>\n",
       "      <th>4627</th>\n",
       "      <td>False</td>\n",
       "      <td>False</td>\n",
       "      <td>False</td>\n",
       "      <td>False</td>\n",
       "      <td>False</td>\n",
       "      <td>False</td>\n",
       "      <td>False</td>\n",
       "      <td>False</td>\n",
       "      <td>False</td>\n",
       "    </tr>\n",
       "    <tr>\n",
       "      <th>4628</th>\n",
       "      <td>False</td>\n",
       "      <td>False</td>\n",
       "      <td>False</td>\n",
       "      <td>False</td>\n",
       "      <td>False</td>\n",
       "      <td>False</td>\n",
       "      <td>False</td>\n",
       "      <td>True</td>\n",
       "      <td>False</td>\n",
       "    </tr>\n",
       "    <tr>\n",
       "      <th>4629</th>\n",
       "      <td>False</td>\n",
       "      <td>False</td>\n",
       "      <td>False</td>\n",
       "      <td>False</td>\n",
       "      <td>False</td>\n",
       "      <td>False</td>\n",
       "      <td>False</td>\n",
       "      <td>False</td>\n",
       "      <td>False</td>\n",
       "    </tr>\n",
       "  </tbody>\n",
       "</table>\n",
       "<p>4630 rows × 9 columns</p>\n",
       "</div>"
      ],
      "text/plain": [
       "      Company  Location   Date   Time  Rocket  Mission  RocketStatus  Price  \\\n",
       "0       False     False  False  False   False    False         False   True   \n",
       "1       False     False  False  False   False    False         False   True   \n",
       "2       False     False  False  False   False    False         False   True   \n",
       "3       False     False  False  False   False    False         False   True   \n",
       "4       False     False  False  False   False    False         False   True   \n",
       "...       ...       ...    ...    ...     ...      ...           ...    ...   \n",
       "4625    False     False  False  False   False    False         False  False   \n",
       "4626    False     False  False  False   False    False         False   True   \n",
       "4627    False     False  False  False   False    False         False  False   \n",
       "4628    False     False  False  False   False    False         False   True   \n",
       "4629    False     False  False  False   False    False         False  False   \n",
       "\n",
       "      MissionStatus  \n",
       "0             False  \n",
       "1             False  \n",
       "2             False  \n",
       "3             False  \n",
       "4             False  \n",
       "...             ...  \n",
       "4625          False  \n",
       "4626          False  \n",
       "4627          False  \n",
       "4628          False  \n",
       "4629          False  \n",
       "\n",
       "[4630 rows x 9 columns]"
      ]
     },
     "execution_count": 13,
     "metadata": {},
     "output_type": "execute_result"
    }
   ],
   "source": [
    "sp.isna()"
   ]
  },
  {
   "cell_type": "markdown",
   "metadata": {},
   "source": [
    "**Count of Missing Values**"
   ]
  },
  {
   "cell_type": "code",
   "execution_count": 14,
   "metadata": {},
   "outputs": [
    {
     "data": {
      "text/plain": [
       "Price            3380\n",
       "Time              127\n",
       "MissionStatus       0\n",
       "RocketStatus        0\n",
       "Mission             0\n",
       "Rocket              0\n",
       "Date                0\n",
       "Location            0\n",
       "Company             0\n",
       "dtype: int64"
      ]
     },
     "execution_count": 14,
     "metadata": {},
     "output_type": "execute_result"
    }
   ],
   "source": [
    "sp.isna().sum().sort_values(ascending=False)"
   ]
  },
  {
   "cell_type": "code",
   "execution_count": 15,
   "metadata": {},
   "outputs": [
    {
     "data": {
      "text/plain": [
       "Price            73.002160\n",
       "Time              2.742981\n",
       "MissionStatus     0.000000\n",
       "RocketStatus      0.000000\n",
       "Mission           0.000000\n",
       "Rocket            0.000000\n",
       "Date              0.000000\n",
       "Location          0.000000\n",
       "Company           0.000000\n",
       "dtype: float64"
      ]
     },
     "execution_count": 15,
     "metadata": {},
     "output_type": "execute_result"
    }
   ],
   "source": [
    "Missing_percentage = (sp.isna().sum().sort_values(ascending=False)/len(sp))*100\n",
    "Missing_percentage"
   ]
  },
  {
   "cell_type": "code",
   "execution_count": 16,
   "metadata": {},
   "outputs": [
    {
     "data": {
      "text/plain": [
       "Price    73.002160\n",
       "Time      2.742981\n",
       "dtype: float64"
      ]
     },
     "execution_count": 16,
     "metadata": {},
     "output_type": "execute_result"
    }
   ],
   "source": [
    "md = Missing_percentage[Missing_percentage > 0]\n",
    "md"
   ]
  },
  {
   "cell_type": "code",
   "execution_count": 17,
   "metadata": {},
   "outputs": [
    {
     "data": {
      "text/plain": [
       "<matplotlib.axes._subplots.AxesSubplot at 0x20f21e95370>"
      ]
     },
     "execution_count": 17,
     "metadata": {},
     "output_type": "execute_result"
    },
    {
     "data": {
      "image/png": "[encoded data removed]",
      "text/plain": [
       "<Figure size 432x288 with 1 Axes>"
      ]
     },
     "metadata": {
      "needs_background": "light"
     },
     "output_type": "display_data"
    }
   ],
   "source": [
    "Missing_percentage.plot()"
   ]
  },
  {
   "cell_type": "markdown",
   "metadata": {},
   "source": [
    "**Remove Coloumns if you dont need them**"
   ]
  },
  {
   "cell_type": "markdown",
   "metadata": {},
   "source": [
    "Split the text column with delimter ,"
   ]
  },
  {
   "cell_type": "code",
   "execution_count": 18,
   "metadata": {},
   "outputs": [
    {
     "data": {
      "text/plain": [
       "1"
      ]
     },
     "execution_count": 18,
     "metadata": {},
     "output_type": "execute_result"
    }
   ],
   "source": [
    "sp.columns.get_loc(\"Location\")"
   ]
  },
  {
   "cell_type": "markdown",
   "metadata": {},
   "source": [
    "new_sp = sp.Location.str.split(expand=True)\n",
    "print(new_sp)"
   ]
  },
  {
   "cell_type": "code",
   "execution_count": 21,
   "metadata": {},
   "outputs": [
    {
     "data": {
      "text/html": [
       "<div>\n",
       "<style scoped>\n",
       "    .dataframe tbody tr th:only-of-type {\n",
       "        vertical-align: middle;\n",
       "    }\n",
       "\n",
       "    .dataframe tbody tr th {\n",
       "        vertical-align: top;\n",
       "    }\n",
       "\n",
       "    .dataframe thead th {\n",
       "        text-align: right;\n",
       "    }\n",
       "</style>\n",
       "<table border=\"1\" class=\"dataframe\">\n",
       "  <thead>\n",
       "    <tr style=\"text-align: right;\">\n",
       "      <th></th>\n",
       "      <th>Company</th>\n",
       "      <th>Location</th>\n",
       "      <th>Date</th>\n",
       "      <th>Time</th>\n",
       "      <th>Rocket</th>\n",
       "      <th>Mission</th>\n",
       "      <th>RocketStatus</th>\n",
       "      <th>Price</th>\n",
       "      <th>MissionStatus</th>\n",
       "    </tr>\n",
       "  </thead>\n",
       "  <tbody>\n",
       "    <tr>\n",
       "      <th>0</th>\n",
       "      <td>RVSN USSR</td>\n",
       "      <td>Site 1/5, Baikonur Cosmodrome, Kazakhstan</td>\n",
       "      <td>1957-10-04</td>\n",
       "      <td>19:28:00</td>\n",
       "      <td>Sputnik 8K71PS</td>\n",
       "      <td>Sputnik-1</td>\n",
       "      <td>Retired</td>\n",
       "      <td>NaN</td>\n",
       "      <td>Success</td>\n",
       "    </tr>\n",
       "    <tr>\n",
       "      <th>1</th>\n",
       "      <td>RVSN USSR</td>\n",
       "      <td>Site 1/5, Baikonur Cosmodrome, Kazakhstan</td>\n",
       "      <td>1957-11-03</td>\n",
       "      <td>02:30:00</td>\n",
       "      <td>Sputnik 8K71PS</td>\n",
       "      <td>Sputnik-2</td>\n",
       "      <td>Retired</td>\n",
       "      <td>NaN</td>\n",
       "      <td>Success</td>\n",
       "    </tr>\n",
       "    <tr>\n",
       "      <th>2</th>\n",
       "      <td>US Navy</td>\n",
       "      <td>LC-18A, Cape Canaveral AFS, Florida, USA</td>\n",
       "      <td>1957-12-06</td>\n",
       "      <td>16:44:00</td>\n",
       "      <td>Vanguard</td>\n",
       "      <td>Vanguard TV3</td>\n",
       "      <td>Retired</td>\n",
       "      <td>NaN</td>\n",
       "      <td>Failure</td>\n",
       "    </tr>\n",
       "    <tr>\n",
       "      <th>3</th>\n",
       "      <td>AMBA</td>\n",
       "      <td>LC-26A, Cape Canaveral AFS, Florida, USA</td>\n",
       "      <td>1958-02-01</td>\n",
       "      <td>03:48:00</td>\n",
       "      <td>Juno I</td>\n",
       "      <td>Explorer 1</td>\n",
       "      <td>Retired</td>\n",
       "      <td>NaN</td>\n",
       "      <td>Success</td>\n",
       "    </tr>\n",
       "    <tr>\n",
       "      <th>4</th>\n",
       "      <td>US Navy</td>\n",
       "      <td>LC-18A, Cape Canaveral AFS, Florida, USA</td>\n",
       "      <td>1958-02-05</td>\n",
       "      <td>07:33:00</td>\n",
       "      <td>Vanguard</td>\n",
       "      <td>Vanguard TV3BU</td>\n",
       "      <td>Retired</td>\n",
       "      <td>NaN</td>\n",
       "      <td>Failure</td>\n",
       "    </tr>\n",
       "    <tr>\n",
       "      <th>5</th>\n",
       "      <td>AMBA</td>\n",
       "      <td>LC-26A, Cape Canaveral AFS, Florida, USA</td>\n",
       "      <td>1958-03-05</td>\n",
       "      <td>18:27:00</td>\n",
       "      <td>Juno I</td>\n",
       "      <td>Explorer 2</td>\n",
       "      <td>Retired</td>\n",
       "      <td>NaN</td>\n",
       "      <td>Failure</td>\n",
       "    </tr>\n",
       "    <tr>\n",
       "      <th>6</th>\n",
       "      <td>US Navy</td>\n",
       "      <td>LC-18A, Cape Canaveral AFS, Florida, USA</td>\n",
       "      <td>1958-03-17</td>\n",
       "      <td>12:15:00</td>\n",
       "      <td>Vanguard</td>\n",
       "      <td>Vanguard 1</td>\n",
       "      <td>Retired</td>\n",
       "      <td>NaN</td>\n",
       "      <td>Success</td>\n",
       "    </tr>\n",
       "    <tr>\n",
       "      <th>7</th>\n",
       "      <td>AMBA</td>\n",
       "      <td>LC-5, Cape Canaveral AFS, Florida, USA</td>\n",
       "      <td>1958-03-26</td>\n",
       "      <td>17:38:00</td>\n",
       "      <td>Juno I</td>\n",
       "      <td>Explorer 3</td>\n",
       "      <td>Retired</td>\n",
       "      <td>NaN</td>\n",
       "      <td>Success</td>\n",
       "    </tr>\n",
       "    <tr>\n",
       "      <th>8</th>\n",
       "      <td>RVSN USSR</td>\n",
       "      <td>Site 1/5, Baikonur Cosmodrome, Kazakhstan</td>\n",
       "      <td>1958-04-27</td>\n",
       "      <td>09:01:00</td>\n",
       "      <td>Sputnik 8A91</td>\n",
       "      <td>Sputnik-3 #1</td>\n",
       "      <td>Retired</td>\n",
       "      <td>NaN</td>\n",
       "      <td>Failure</td>\n",
       "    </tr>\n",
       "    <tr>\n",
       "      <th>9</th>\n",
       "      <td>US Navy</td>\n",
       "      <td>LC-18A, Cape Canaveral AFS, Florida, USA</td>\n",
       "      <td>1958-04-28</td>\n",
       "      <td>02:53:00</td>\n",
       "      <td>Vanguard</td>\n",
       "      <td>Vanguard TV5</td>\n",
       "      <td>Retired</td>\n",
       "      <td>NaN</td>\n",
       "      <td>Failure</td>\n",
       "    </tr>\n",
       "  </tbody>\n",
       "</table>\n",
       "</div>"
      ],
      "text/plain": [
       "     Company                                   Location        Date      Time  \\\n",
       "0  RVSN USSR  Site 1/5, Baikonur Cosmodrome, Kazakhstan  1957-10-04  19:28:00   \n",
       "1  RVSN USSR  Site 1/5, Baikonur Cosmodrome, Kazakhstan  1957-11-03  02:30:00   \n",
       "2    US Navy   LC-18A, Cape Canaveral AFS, Florida, USA  1957-12-06  16:44:00   \n",
       "3       AMBA   LC-26A, Cape Canaveral AFS, Florida, USA  1958-02-01  03:48:00   \n",
       "4    US Navy   LC-18A, Cape Canaveral AFS, Florida, USA  1958-02-05  07:33:00   \n",
       "5       AMBA   LC-26A, Cape Canaveral AFS, Florida, USA  1958-03-05  18:27:00   \n",
       "6    US Navy   LC-18A, Cape Canaveral AFS, Florida, USA  1958-03-17  12:15:00   \n",
       "7       AMBA     LC-5, Cape Canaveral AFS, Florida, USA  1958-03-26  17:38:00   \n",
       "8  RVSN USSR  Site 1/5, Baikonur Cosmodrome, Kazakhstan  1958-04-27  09:01:00   \n",
       "9    US Navy   LC-18A, Cape Canaveral AFS, Florida, USA  1958-04-28  02:53:00   \n",
       "\n",
       "           Rocket         Mission RocketStatus  Price MissionStatus  \n",
       "0  Sputnik 8K71PS       Sputnik-1      Retired    NaN       Success  \n",
       "1  Sputnik 8K71PS       Sputnik-2      Retired    NaN       Success  \n",
       "2        Vanguard    Vanguard TV3      Retired    NaN       Failure  \n",
       "3          Juno I      Explorer 1      Retired    NaN       Success  \n",
       "4        Vanguard  Vanguard TV3BU      Retired    NaN       Failure  \n",
       "5          Juno I      Explorer 2      Retired    NaN       Failure  \n",
       "6        Vanguard      Vanguard 1      Retired    NaN       Success  \n",
       "7          Juno I      Explorer 3      Retired    NaN       Success  \n",
       "8    Sputnik 8A91    Sputnik-3 #1      Retired    NaN       Failure  \n",
       "9        Vanguard    Vanguard TV5      Retired    NaN       Failure  "
      ]
     },
     "execution_count": 21,
     "metadata": {},
     "output_type": "execute_result"
    }
   ],
   "source": [
    "sp.head(10)"
   ]
  },
  {
   "cell_type": "code",
   "execution_count": 32,
   "metadata": {},
   "outputs": [
    {
     "name": "stdout",
     "output_type": "stream",
     "text": [
      "        Company                                         Location       Date  \\\n",
      "0     RVSN USSR        Site 1/5, Baikonur Cosmodrome, Kazakhstan 1957-10-04   \n",
      "1     RVSN USSR        Site 1/5, Baikonur Cosmodrome, Kazakhstan 1957-11-03   \n",
      "2       US Navy         LC-18A, Cape Canaveral AFS, Florida, USA 1957-12-06   \n",
      "3          AMBA         LC-26A, Cape Canaveral AFS, Florida, USA 1958-02-01   \n",
      "4       US Navy         LC-18A, Cape Canaveral AFS, Florida, USA 1958-02-05   \n",
      "...         ...                                              ...        ...   \n",
      "4625     SpaceX          SLC-4E, Vandenberg SFB, California, USA 2022-07-22   \n",
      "4626       CASC  LC-101, Wenchang Satellite Launch Center, China 2022-07-24   \n",
      "4627     SpaceX       LC-39A, Kennedy Space Center, Florida, USA 2022-07-24   \n",
      "4628  CAS Space           Jiuquan Satellite Launch Center, China 2022-07-27   \n",
      "4629       CASC     LC-3, Xichang Satellite Launch Center, China 2022-07-29   \n",
      "\n",
      "                    Time            Rocket              Mission RocketStatus  \\\n",
      "0    2023-06-23 19:28:00    Sputnik 8K71PS            Sputnik-1      Retired   \n",
      "1    2023-06-23 02:30:00    Sputnik 8K71PS            Sputnik-2      Retired   \n",
      "2    2023-06-23 16:44:00          Vanguard         Vanguard TV3      Retired   \n",
      "3    2023-06-23 03:48:00            Juno I           Explorer 1      Retired   \n",
      "4    2023-06-23 07:33:00          Vanguard       Vanguard TV3BU      Retired   \n",
      "...                  ...               ...                  ...          ...   \n",
      "4625 2023-06-23 17:39:00  Falcon 9 Block 5   Starlink Group 3-2       Active   \n",
      "4626 2023-06-23 06:22:00     Long March 5B              Wentian       Active   \n",
      "4627 2023-06-23 13:38:00  Falcon 9 Block 5  Starlink Group 4-25       Active   \n",
      "4628 2023-06-23 04:12:00        Zhongke-1A          Demo Flight       Active   \n",
      "4629 2023-06-23 13:28:00     Long March 2D   Yaogan 35 Group 03       Active   \n",
      "\n",
      "      Price MissionStatus  Year  Month  \n",
      "0       NaN       Success  1957     10  \n",
      "1       NaN       Success  1957     11  \n",
      "2       NaN       Failure  1957     12  \n",
      "3       NaN       Success  1958      2  \n",
      "4       NaN       Failure  1958      2  \n",
      "...     ...           ...   ...    ...  \n",
      "4625  67.00       Success  2022      7  \n",
      "4626    NaN       Success  2022      7  \n",
      "4627  67.00       Success  2022      7  \n",
      "4628    NaN       Success  2022      7  \n",
      "4629  29.75       Success  2022      7  \n",
      "\n",
      "[4630 rows x 11 columns]\n"
     ]
    }
   ],
   "source": [
    "sp['Year']= sp['Date'].dt.year\n",
    "sp['Month']= sp['Date'].dt.month\n",
    "print(sp)"
   ]
  },
  {
   "cell_type": "code",
   "execution_count": 33,
   "metadata": {},
   "outputs": [
    {
     "data": {
      "text/plain": [
       "Index(['Company', 'Location', 'Date', 'Time', 'Rocket', 'Mission',\n",
       "       'RocketStatus', 'Price', 'MissionStatus', 'Year', 'Month'],\n",
       "      dtype='object')"
      ]
     },
     "execution_count": 33,
     "metadata": {},
     "output_type": "execute_result"
    }
   ],
   "source": [
    "sp.columns"
   ]
  },
  {
   "cell_type": "code",
   "execution_count": 37,
   "metadata": {},
   "outputs": [
    {
     "data": {
      "text/html": [
       "<div>\n",
       "<style scoped>\n",
       "    .dataframe tbody tr th:only-of-type {\n",
       "        vertical-align: middle;\n",
       "    }\n",
       "\n",
       "    .dataframe tbody tr th {\n",
       "        vertical-align: top;\n",
       "    }\n",
       "\n",
       "    .dataframe thead th {\n",
       "        text-align: right;\n",
       "    }\n",
       "</style>\n",
       "<table border=\"1\" class=\"dataframe\">\n",
       "  <thead>\n",
       "    <tr style=\"text-align: right;\">\n",
       "      <th></th>\n",
       "      <th>Company</th>\n",
       "      <th>Location</th>\n",
       "      <th>Date</th>\n",
       "      <th>Year</th>\n",
       "      <th>Month</th>\n",
       "      <th>Time</th>\n",
       "      <th>Rocket</th>\n",
       "      <th>Mission</th>\n",
       "      <th>RocketStatus</th>\n",
       "      <th>Price</th>\n",
       "      <th>MissionStatus</th>\n",
       "    </tr>\n",
       "  </thead>\n",
       "  <tbody>\n",
       "    <tr>\n",
       "      <th>0</th>\n",
       "      <td>RVSN USSR</td>\n",
       "      <td>Site 1/5, Baikonur Cosmodrome, Kazakhstan</td>\n",
       "      <td>1957-10-04</td>\n",
       "      <td>1957</td>\n",
       "      <td>10</td>\n",
       "      <td>2023-06-23 19:28:00</td>\n",
       "      <td>Sputnik 8K71PS</td>\n",
       "      <td>Sputnik-1</td>\n",
       "      <td>Retired</td>\n",
       "      <td>NaN</td>\n",
       "      <td>Success</td>\n",
       "    </tr>\n",
       "    <tr>\n",
       "      <th>1</th>\n",
       "      <td>RVSN USSR</td>\n",
       "      <td>Site 1/5, Baikonur Cosmodrome, Kazakhstan</td>\n",
       "      <td>1957-11-03</td>\n",
       "      <td>1957</td>\n",
       "      <td>11</td>\n",
       "      <td>2023-06-23 02:30:00</td>\n",
       "      <td>Sputnik 8K71PS</td>\n",
       "      <td>Sputnik-2</td>\n",
       "      <td>Retired</td>\n",
       "      <td>NaN</td>\n",
       "      <td>Success</td>\n",
       "    </tr>\n",
       "    <tr>\n",
       "      <th>2</th>\n",
       "      <td>US Navy</td>\n",
       "      <td>LC-18A, Cape Canaveral AFS, Florida, USA</td>\n",
       "      <td>1957-12-06</td>\n",
       "      <td>1957</td>\n",
       "      <td>12</td>\n",
       "      <td>2023-06-23 16:44:00</td>\n",
       "      <td>Vanguard</td>\n",
       "      <td>Vanguard TV3</td>\n",
       "      <td>Retired</td>\n",
       "      <td>NaN</td>\n",
       "      <td>Failure</td>\n",
       "    </tr>\n",
       "    <tr>\n",
       "      <th>3</th>\n",
       "      <td>AMBA</td>\n",
       "      <td>LC-26A, Cape Canaveral AFS, Florida, USA</td>\n",
       "      <td>1958-02-01</td>\n",
       "      <td>1958</td>\n",
       "      <td>2</td>\n",
       "      <td>2023-06-23 03:48:00</td>\n",
       "      <td>Juno I</td>\n",
       "      <td>Explorer 1</td>\n",
       "      <td>Retired</td>\n",
       "      <td>NaN</td>\n",
       "      <td>Success</td>\n",
       "    </tr>\n",
       "    <tr>\n",
       "      <th>4</th>\n",
       "      <td>US Navy</td>\n",
       "      <td>LC-18A, Cape Canaveral AFS, Florida, USA</td>\n",
       "      <td>1958-02-05</td>\n",
       "      <td>1958</td>\n",
       "      <td>2</td>\n",
       "      <td>2023-06-23 07:33:00</td>\n",
       "      <td>Vanguard</td>\n",
       "      <td>Vanguard TV3BU</td>\n",
       "      <td>Retired</td>\n",
       "      <td>NaN</td>\n",
       "      <td>Failure</td>\n",
       "    </tr>\n",
       "  </tbody>\n",
       "</table>\n",
       "</div>"
      ],
      "text/plain": [
       "     Company                                   Location       Date  Year  \\\n",
       "0  RVSN USSR  Site 1/5, Baikonur Cosmodrome, Kazakhstan 1957-10-04  1957   \n",
       "1  RVSN USSR  Site 1/5, Baikonur Cosmodrome, Kazakhstan 1957-11-03  1957   \n",
       "2    US Navy   LC-18A, Cape Canaveral AFS, Florida, USA 1957-12-06  1957   \n",
       "3       AMBA   LC-26A, Cape Canaveral AFS, Florida, USA 1958-02-01  1958   \n",
       "4    US Navy   LC-18A, Cape Canaveral AFS, Florida, USA 1958-02-05  1958   \n",
       "\n",
       "   Month                Time          Rocket         Mission RocketStatus  \\\n",
       "0     10 2023-06-23 19:28:00  Sputnik 8K71PS       Sputnik-1      Retired   \n",
       "1     11 2023-06-23 02:30:00  Sputnik 8K71PS       Sputnik-2      Retired   \n",
       "2     12 2023-06-23 16:44:00        Vanguard    Vanguard TV3      Retired   \n",
       "3      2 2023-06-23 03:48:00          Juno I      Explorer 1      Retired   \n",
       "4      2 2023-06-23 07:33:00        Vanguard  Vanguard TV3BU      Retired   \n",
       "\n",
       "   Price MissionStatus  \n",
       "0    NaN       Success  \n",
       "1    NaN       Success  \n",
       "2    NaN       Failure  \n",
       "3    NaN       Success  \n",
       "4    NaN       Failure  "
      ]
     },
     "execution_count": 37,
     "metadata": {},
     "output_type": "execute_result"
    }
   ],
   "source": [
    "columns = ['Company', 'Location', 'Date', 'Year', 'Month', 'Time', 'Rocket', 'Mission',\n",
    "       'RocketStatus', 'Price', 'MissionStatus']\n",
    "sp = sp[columns]\n",
    "sp.head(5)"
   ]
  },
  {
   "cell_type": "markdown",
   "metadata": {},
   "source": [
    "# Popular Company"
   ]
  },
  {
   "cell_type": "code",
   "execution_count": 63,
   "metadata": {},
   "outputs": [
    {
     "data": {
      "text/plain": [
       "RVSN USSR           1777\n",
       "CASC                 338\n",
       "Arianespace          293\n",
       "General Dynamics     251\n",
       "VKS RF               216\n",
       "                    ... \n",
       "Khrunichev             1\n",
       "GK LS                  1\n",
       "OneSpace               1\n",
       "Sandia                 1\n",
       "Firefly                1\n",
       "Name: Company, Length: 62, dtype: int64"
      ]
     },
     "execution_count": 63,
     "metadata": {},
     "output_type": "execute_result"
    }
   ],
   "source": [
    "pop_companies= sp.Company.value_counts()\n",
    "pop_companies"
   ]
  },
  {
   "cell_type": "markdown",
   "metadata": {},
   "source": [
    "**Top 10 companies**"
   ]
  },
  {
   "cell_type": "code",
   "execution_count": 69,
   "metadata": {},
   "outputs": [
    {
     "data": {
      "text/plain": [
       "RVSN USSR           1777\n",
       "CASC                 338\n",
       "Arianespace          293\n",
       "General Dynamics     251\n",
       "VKS RF               216\n",
       "NASA                 203\n",
       "SpaceX               182\n",
       "US Air Force         161\n",
       "ULA                  151\n",
       "Boeing               136\n",
       "Name: Company, dtype: int64"
      ]
     },
     "execution_count": 69,
     "metadata": {},
     "output_type": "execute_result"
    }
   ],
   "source": [
    "companies_count[:10]"
   ]
  },
  {
   "cell_type": "code",
   "execution_count": 52,
   "metadata": {},
   "outputs": [
    {
     "data": {
      "text/plain": [
       "<matplotlib.axes._subplots.AxesSubplot at 0x20f231c9520>"
      ]
     },
     "execution_count": 52,
     "metadata": {},
     "output_type": "execute_result"
    },
    {
     "data": {
      "image/png": "[encoded data removed]",
      "text/plain": [
       "<Figure size 432x288 with 1 Axes>"
      ]
     },
     "metadata": {
      "needs_background": "light"
     },
     "output_type": "display_data"
    }
   ],
   "source": [
    "pop_companies[:10].plot(kind='barh')"
   ]
  },
  {
   "cell_type": "code",
   "execution_count": 79,
   "metadata": {
    "scrolled": false
   },
   "outputs": [
    {
     "data": {
      "text/plain": [
       "RVSN USSR           38.380130\n",
       "CASC                 7.300216\n",
       "Arianespace          6.328294\n",
       "General Dynamics     5.421166\n",
       "VKS RF               4.665227\n",
       "                      ...    \n",
       "Khrunichev           0.021598\n",
       "GK LS                0.021598\n",
       "OneSpace             0.021598\n",
       "Sandia               0.021598\n",
       "Firefly              0.021598\n",
       "Name: Company, Length: 62, dtype: float64"
      ]
     },
     "execution_count": 79,
     "metadata": {},
     "output_type": "execute_result"
    }
   ],
   "source": [
    "pg_pop_companies= (sp.Company.value_counts())/(len(sp['Company']))*100\n",
    "pg_pop_companies"
   ]
  },
  {
   "cell_type": "code",
   "execution_count": 74,
   "metadata": {},
   "outputs": [
    {
     "data": {
      "text/plain": [
       "RVSN USSR           38.380130\n",
       "CASC                 7.300216\n",
       "Arianespace          6.328294\n",
       "General Dynamics     5.421166\n",
       "VKS RF               4.665227\n",
       "NASA                 4.384449\n",
       "SpaceX               3.930886\n",
       "US Air Force         3.477322\n",
       "ULA                  3.261339\n",
       "Boeing               2.937365\n",
       "Name: Company, dtype: float64"
      ]
     },
     "execution_count": 74,
     "metadata": {},
     "output_type": "execute_result"
    }
   ],
   "source": [
    "pg_pop_companies[:10]"
   ]
  },
  {
   "cell_type": "markdown",
   "metadata": {},
   "source": [
    "### USSR dominates space launches by 38%\n",
    "### NASA is at 6th pos. with 4% (203) launches"
   ]
  },
  {
   "cell_type": "markdown",
   "metadata": {},
   "source": [
    "# Popular Rockets"
   ]
  },
  {
   "cell_type": "code",
   "execution_count": 43,
   "metadata": {},
   "outputs": [
    {
     "data": {
      "text/plain": [
       "Cosmos-3M (11K65M)     446\n",
       "Voskhod                299\n",
       "Molniya-M /Block ML    128\n",
       "Cosmos-2I (63SM)       126\n",
       "Soyuz U                125\n",
       "                      ... \n",
       "Thor DM-18 Able-III      1\n",
       "Atlas-E/F Star-17A       1\n",
       "Scout G1                 1\n",
       "Atlas-E/F Agena D        1\n",
       "Jielong-1                1\n",
       "Name: Rocket, Length: 370, dtype: int64"
      ]
     },
     "execution_count": 43,
     "metadata": {},
     "output_type": "execute_result"
    }
   ],
   "source": [
    "popular_rockets = sp.Rocket.value_counts()\n",
    "popular_rockets"
   ]
  },
  {
   "cell_type": "markdown",
   "metadata": {},
   "source": [
    "**Top and Bottom 10 Rockets**"
   ]
  },
  {
   "cell_type": "code",
   "execution_count": 81,
   "metadata": {
    "scrolled": true
   },
   "outputs": [
    {
     "data": {
      "text/plain": [
       "Cosmos-3M (11K65M)      446\n",
       "Voskhod                 299\n",
       "Molniya-M /Block ML     128\n",
       "Cosmos-2I (63SM)        126\n",
       "Soyuz U                 125\n",
       "Tsyklon-3               122\n",
       "Falcon 9 Block 5        111\n",
       "Tsyklon-2               106\n",
       "Vostok-2M                93\n",
       "Molniya-M /Block 2BL     87\n",
       "Ariane 5 ECA             80\n",
       "Delta II 7925            62\n",
       "Atlas-SLV3 Agena-D       47\n",
       "Vostok-2                 45\n",
       "Molniya-M /Block L       44\n",
       "Name: Rocket, dtype: int64"
      ]
     },
     "execution_count": 81,
     "metadata": {},
     "output_type": "execute_result"
    }
   ],
   "source": [
    "popular_rockets[:15]"
   ]
  },
  {
   "cell_type": "code",
   "execution_count": 92,
   "metadata": {},
   "outputs": [
    {
     "data": {
      "text/plain": [
       "<matplotlib.axes._subplots.AxesSubplot at 0x20f232bdb50>"
      ]
     },
     "execution_count": 92,
     "metadata": {},
     "output_type": "execute_result"
    },
    {
     "data": {
      "image/png": "[encoded data removed]",
      "text/plain": [
       "<Figure size 432x288 with 1 Axes>"
      ]
     },
     "metadata": {
      "needs_background": "light"
     },
     "output_type": "display_data"
    }
   ],
   "source": [
    "popular_rockets[:10].plot(kind='bar')"
   ]
  },
  {
   "cell_type": "code",
   "execution_count": 73,
   "metadata": {},
   "outputs": [
    {
     "data": {
      "text/plain": [
       "Minotaur V             1\n",
       "Conestoga-1620         1\n",
       "Safir-1A               1\n",
       "Blue Scout II          1\n",
       "H-IIS                  1\n",
       "Thor DM-18 Able-III    1\n",
       "Atlas-E/F Star-17A     1\n",
       "Scout G1               1\n",
       "Atlas-E/F Agena D      1\n",
       "Jielong-1              1\n",
       "Name: Rocket, dtype: int64"
      ]
     },
     "execution_count": 73,
     "metadata": {},
     "output_type": "execute_result"
    }
   ],
   "source": [
    "popular_rockets[-10:]"
   ]
  },
  {
   "cell_type": "markdown",
   "metadata": {},
   "source": [
    "**Count of date by year**"
   ]
  },
  {
   "cell_type": "code",
   "execution_count": 99,
   "metadata": {},
   "outputs": [
    {
     "data": {
      "text/plain": [
       "<matplotlib.axes._subplots.AxesSubplot at 0x20f21846910>"
      ]
     },
     "execution_count": 99,
     "metadata": {},
     "output_type": "execute_result"
    },
    {
     "data": {
      "image/png": "[encoded data removed]",
      "text/plain": [
       "<Figure size 432x288 with 1 Axes>"
      ]
     },
     "metadata": {
      "needs_background": "light"
     },
     "output_type": "display_data"
    }
   ],
   "source": [
    "y_c = sp[\"Year\"].groupby(sp[\"Year\"]).count()\n",
    "y_c.plot(kind=\"bar\")"
   ]
  },
  {
   "cell_type": "code",
   "execution_count": 112,
   "metadata": {},
   "outputs": [
    {
     "name": "stdout",
     "output_type": "stream",
     "text": [
      "Year\n",
      "2021    157\n",
      "1971    119\n",
      "2020    119\n",
      "2018    117\n",
      "1977    114\n",
      "1975    113\n",
      "1976    113\n",
      "2019    109\n",
      "1970    107\n",
      "1967    106\n",
      "Name: Year, dtype: int64\n"
     ]
    }
   ],
   "source": [
    "top_years = y_c.sort_values(ascending=False)[:10]\n",
    "print(top_years)"
   ]
  },
  {
   "cell_type": "code",
   "execution_count": 114,
   "metadata": {},
   "outputs": [
    {
     "data": {
      "text/plain": [
       "<matplotlib.axes._subplots.AxesSubplot at 0x20f21402040>"
      ]
     },
     "execution_count": 114,
     "metadata": {},
     "output_type": "execute_result"
    },
    {
     "data": {
      "image/png": "[encoded data removed]",
      "text/plain": [
       "<Figure size 432x288 with 1 Axes>"
      ]
     },
     "metadata": {
      "needs_background": "light"
     },
     "output_type": "display_data"
    }
   ],
   "source": [
    "top_years.plot(kind='bar')"
   ]
  },
  {
   "cell_type": "markdown",
   "metadata": {},
   "source": [
    "### In 1971  & 2020 we had made 119 launches"
   ]
  },
  {
   "cell_type": "code",
   "execution_count": 176,
   "metadata": {},
   "outputs": [
    {
     "data": {
      "text/plain": [
       "(1949.999, 1999.0]    3110\n",
       "Name: Year, dtype: int64"
      ]
     },
     "execution_count": 176,
     "metadata": {},
     "output_type": "execute_result"
    }
   ],
   "source": [
    "launchesin90 = (sp[\"Year\"]).value_counts(bins=[1950,1999])\n",
    "launchesin90"
   ]
  },
  {
   "cell_type": "code",
   "execution_count": 185,
   "metadata": {},
   "outputs": [
    {
     "data": {
      "text/plain": [
       "(1999.999, 2022.0]    1520\n",
       "Name: Year, dtype: int64"
      ]
     },
     "execution_count": 185,
     "metadata": {},
     "output_type": "execute_result"
    }
   ],
   "source": [
    "launchesin2k = (sp[\"Year\"]).value_counts(bins=[2000,2022])\n",
    "launchesin2k"
   ]
  },
  {
   "cell_type": "code",
   "execution_count": 186,
   "metadata": {},
   "outputs": [
    {
     "data": {
      "text/plain": [
       "(1949.999, 1999.0]    67.170626\n",
       "Name: Year, dtype: float64"
      ]
     },
     "execution_count": 186,
     "metadata": {},
     "output_type": "execute_result"
    }
   ],
   "source": [
    "launchin90_perc = (launchesin90/len(sp)) *100\n",
    "launchin90_perc"
   ]
  },
  {
   "cell_type": "code",
   "execution_count": 187,
   "metadata": {},
   "outputs": [
    {
     "data": {
      "text/plain": [
       "(1999.999, 2022.0]    32.829374\n",
       "Name: Year, dtype: float64"
      ]
     },
     "execution_count": 187,
     "metadata": {},
     "output_type": "execute_result"
    }
   ],
   "source": [
    "launchin2k_perc= (launchesin2k/len(sp))*100\n",
    "launchin2k_perc"
   ]
  },
  {
   "cell_type": "markdown",
   "metadata": {},
   "source": [
    "### Space Industry was so active before 2000s"
   ]
  },
  {
   "cell_type": "code",
   "execution_count": 189,
   "metadata": {},
   "outputs": [
    {
     "data": {
      "text/plain": [
       "(2016.583, 2022.0]      687\n",
       "(1967.833, 1973.25]     634\n",
       "(1973.25, 1978.667]     535\n",
       "(1962.417, 1967.833]    395\n",
       "(1978.667, 1984.083]    377\n",
       "(1994.917, 2000.333]    373\n",
       "(1989.5, 1994.917]      326\n",
       "(1984.083, 1989.5]      303\n",
       "(2011.167, 2016.583]    279\n",
       "(2005.75, 2011.167]     276\n",
       "(1956.934, 1962.417]    224\n",
       "(2000.333, 2005.75]     221\n",
       "Name: Year, dtype: int64"
      ]
     },
     "execution_count": 189,
     "metadata": {},
     "output_type": "execute_result"
    }
   ],
   "source": [
    "(sp[\"Year\"]).value_counts(bins=12)"
   ]
  },
  {
   "cell_type": "markdown",
   "metadata": {},
   "source": [
    "### 1967-1973 was peak in Space race  with around634 launches.\n",
    "### Stagnation is clearly visible from comparing launches in 1956-1962 and 2000-2005 ( last 2 entries)**"
   ]
  },
  {
   "cell_type": "code",
   "execution_count": 201,
   "metadata": {},
   "outputs": [
    {
     "data": {
      "text/plain": [
       "12    492\n",
       "6     431\n",
       "4     409\n",
       "10    403\n",
       "8     391\n",
       "9     386\n",
       "7     380\n",
       "3     378\n",
       "11    365\n",
       "2     361\n",
       "5     350\n",
       "1     284\n",
       "Name: Month, dtype: int64"
      ]
     },
     "execution_count": 201,
     "metadata": {},
     "output_type": "execute_result"
    }
   ],
   "source": [
    "launch_months = (sp[\"Month\"]).value_counts()\n",
    "launch_months"
   ]
  },
  {
   "cell_type": "markdown",
   "metadata": {},
   "source": [
    "### Most Launches happened in December, June, April"
   ]
  }
 ],
 "metadata": {
  "kernelspec": {
   "display_name": "Python 3",
   "language": "python",
   "name": "python3"
  },
  "language_info": {
   "codemirror_mode": {
    "name": "ipython",
    "version": 3
   },
   "file_extension": ".py",
   "mimetype": "text/x-python",
   "name": "python",
   "nbconvert_exporter": "python",
   "pygments_lexer": "ipython3",
   "version": "3.8.3"
  }
 },
 "nbformat": 4,
 "nbformat_minor": 4
}
