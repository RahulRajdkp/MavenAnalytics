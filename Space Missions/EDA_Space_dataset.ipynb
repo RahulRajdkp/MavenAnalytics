{
 "cells": [
  {
   "cell_type": "markdown",
   "metadata": {},
   "source": [
    "# Exploratory Data Analysis\n",
    "**Space Dataset from Maven Analytics**"
   ]
  },
  {
   "cell_type": "code",
   "execution_count": 1,
   "metadata": {},
   "outputs": [],
   "source": [
    "import pandas as pd\n",
    "import numpy as np\n",
    "import matplotlib.pyplot as plt\n",
    "import seaborn as sns\n"
   ]
  },
  {
   "cell_type": "markdown",
   "metadata": {},
   "source": [
    "1. **Reading Excel or csv**"
   ]
  },
  {
   "cell_type": "code",
   "execution_count": 2,
   "metadata": {},
   "outputs": [
    {
     "data": {
      "text/html": [
       "<div>\n",
       "<style scoped>\n",
       "    .dataframe tbody tr th:only-of-type {\n",
       "        vertical-align: middle;\n",
       "    }\n",
       "\n",
       "    .dataframe tbody tr th {\n",
       "        vertical-align: top;\n",
       "    }\n",
       "\n",
       "    .dataframe thead th {\n",
       "        text-align: right;\n",
       "    }\n",
       "</style>\n",
       "<table border=\"1\" class=\"dataframe\">\n",
       "  <thead>\n",
       "    <tr style=\"text-align: right;\">\n",
       "      <th></th>\n",
       "      <th>Year of Birth</th>\n",
       "      <th>Gender</th>\n",
       "      <th>Ethnicity</th>\n",
       "      <th>Child's First Name</th>\n",
       "      <th>Count</th>\n",
       "      <th>Rank</th>\n",
       "    </tr>\n",
       "  </thead>\n",
       "  <tbody>\n",
       "    <tr>\n",
       "      <th>0</th>\n",
       "      <td>2011</td>\n",
       "      <td>MALE</td>\n",
       "      <td>ASIAN AND PACIFIC ISLANDER</td>\n",
       "      <td>AARAV</td>\n",
       "      <td>15</td>\n",
       "      <td>51</td>\n",
       "    </tr>\n",
       "    <tr>\n",
       "      <th>1</th>\n",
       "      <td>2011</td>\n",
       "      <td>MALE</td>\n",
       "      <td>ASIAN AND PACIFIC ISLANDER</td>\n",
       "      <td>AARON</td>\n",
       "      <td>51</td>\n",
       "      <td>19</td>\n",
       "    </tr>\n",
       "    <tr>\n",
       "      <th>2</th>\n",
       "      <td>2011</td>\n",
       "      <td>MALE</td>\n",
       "      <td>ASIAN AND PACIFIC ISLANDER</td>\n",
       "      <td>ABDUL</td>\n",
       "      <td>20</td>\n",
       "      <td>46</td>\n",
       "    </tr>\n",
       "  </tbody>\n",
       "</table>\n",
       "</div>"
      ],
      "text/plain": [
       "   Year of Birth Gender                   Ethnicity Child's First Name  Count  \\\n",
       "0           2011   MALE  ASIAN AND PACIFIC ISLANDER              AARAV     15   \n",
       "1           2011   MALE  ASIAN AND PACIFIC ISLANDER              AARON     51   \n",
       "2           2011   MALE  ASIAN AND PACIFIC ISLANDER              ABDUL     20   \n",
       "\n",
       "   Rank  \n",
       "0    51  \n",
       "1    19  \n",
       "2    46  "
      ]
     },
     "execution_count": 2,
     "metadata": {},
     "output_type": "execute_result"
    }
   ],
   "source": [
    "baby = pd.read_excel('babynames.xlsx')\n",
    "baby.head(3)"
   ]
  },
  {
   "cell_type": "code",
   "execution_count": 3,
   "metadata": {
    "scrolled": false
   },
   "outputs": [
    {
     "data": {
      "text/html": [
       "<div>\n",
       "<style scoped>\n",
       "    .dataframe tbody tr th:only-of-type {\n",
       "        vertical-align: middle;\n",
       "    }\n",
       "\n",
       "    .dataframe tbody tr th {\n",
       "        vertical-align: top;\n",
       "    }\n",
       "\n",
       "    .dataframe thead th {\n",
       "        text-align: right;\n",
       "    }\n",
       "</style>\n",
       "<table border=\"1\" class=\"dataframe\">\n",
       "  <thead>\n",
       "    <tr style=\"text-align: right;\">\n",
       "      <th></th>\n",
       "      <th>Company</th>\n",
       "      <th>Location</th>\n",
       "      <th>Date</th>\n",
       "      <th>Time</th>\n",
       "      <th>Rocket</th>\n",
       "      <th>Mission</th>\n",
       "      <th>RocketStatus</th>\n",
       "      <th>Price</th>\n",
       "      <th>MissionStatus</th>\n",
       "    </tr>\n",
       "  </thead>\n",
       "  <tbody>\n",
       "    <tr>\n",
       "      <th>0</th>\n",
       "      <td>RVSN USSR</td>\n",
       "      <td>Site 1/5, Baikonur Cosmodrome, Kazakhstan</td>\n",
       "      <td>1957-10-04</td>\n",
       "      <td>19:28:00</td>\n",
       "      <td>Sputnik 8K71PS</td>\n",
       "      <td>Sputnik-1</td>\n",
       "      <td>Retired</td>\n",
       "      <td>NaN</td>\n",
       "      <td>Success</td>\n",
       "    </tr>\n",
       "    <tr>\n",
       "      <th>1</th>\n",
       "      <td>RVSN USSR</td>\n",
       "      <td>Site 1/5, Baikonur Cosmodrome, Kazakhstan</td>\n",
       "      <td>1957-11-03</td>\n",
       "      <td>02:30:00</td>\n",
       "      <td>Sputnik 8K71PS</td>\n",
       "      <td>Sputnik-2</td>\n",
       "      <td>Retired</td>\n",
       "      <td>NaN</td>\n",
       "      <td>Success</td>\n",
       "    </tr>\n",
       "    <tr>\n",
       "      <th>2</th>\n",
       "      <td>US Navy</td>\n",
       "      <td>LC-18A, Cape Canaveral AFS, Florida, USA</td>\n",
       "      <td>1957-12-06</td>\n",
       "      <td>16:44:00</td>\n",
       "      <td>Vanguard</td>\n",
       "      <td>Vanguard TV3</td>\n",
       "      <td>Retired</td>\n",
       "      <td>NaN</td>\n",
       "      <td>Failure</td>\n",
       "    </tr>\n",
       "    <tr>\n",
       "      <th>3</th>\n",
       "      <td>AMBA</td>\n",
       "      <td>LC-26A, Cape Canaveral AFS, Florida, USA</td>\n",
       "      <td>1958-02-01</td>\n",
       "      <td>03:48:00</td>\n",
       "      <td>Juno I</td>\n",
       "      <td>Explorer 1</td>\n",
       "      <td>Retired</td>\n",
       "      <td>NaN</td>\n",
       "      <td>Success</td>\n",
       "    </tr>\n",
       "    <tr>\n",
       "      <th>4</th>\n",
       "      <td>US Navy</td>\n",
       "      <td>LC-18A, Cape Canaveral AFS, Florida, USA</td>\n",
       "      <td>1958-02-05</td>\n",
       "      <td>07:33:00</td>\n",
       "      <td>Vanguard</td>\n",
       "      <td>Vanguard TV3BU</td>\n",
       "      <td>Retired</td>\n",
       "      <td>NaN</td>\n",
       "      <td>Failure</td>\n",
       "    </tr>\n",
       "    <tr>\n",
       "      <th>5</th>\n",
       "      <td>AMBA</td>\n",
       "      <td>LC-26A, Cape Canaveral AFS, Florida, USA</td>\n",
       "      <td>1958-03-05</td>\n",
       "      <td>18:27:00</td>\n",
       "      <td>Juno I</td>\n",
       "      <td>Explorer 2</td>\n",
       "      <td>Retired</td>\n",
       "      <td>NaN</td>\n",
       "      <td>Failure</td>\n",
       "    </tr>\n",
       "    <tr>\n",
       "      <th>6</th>\n",
       "      <td>US Navy</td>\n",
       "      <td>LC-18A, Cape Canaveral AFS, Florida, USA</td>\n",
       "      <td>1958-03-17</td>\n",
       "      <td>12:15:00</td>\n",
       "      <td>Vanguard</td>\n",
       "      <td>Vanguard 1</td>\n",
       "      <td>Retired</td>\n",
       "      <td>NaN</td>\n",
       "      <td>Success</td>\n",
       "    </tr>\n",
       "    <tr>\n",
       "      <th>7</th>\n",
       "      <td>AMBA</td>\n",
       "      <td>LC-5, Cape Canaveral AFS, Florida, USA</td>\n",
       "      <td>1958-03-26</td>\n",
       "      <td>17:38:00</td>\n",
       "      <td>Juno I</td>\n",
       "      <td>Explorer 3</td>\n",
       "      <td>Retired</td>\n",
       "      <td>NaN</td>\n",
       "      <td>Success</td>\n",
       "    </tr>\n",
       "    <tr>\n",
       "      <th>8</th>\n",
       "      <td>RVSN USSR</td>\n",
       "      <td>Site 1/5, Baikonur Cosmodrome, Kazakhstan</td>\n",
       "      <td>1958-04-27</td>\n",
       "      <td>09:01:00</td>\n",
       "      <td>Sputnik 8A91</td>\n",
       "      <td>Sputnik-3 #1</td>\n",
       "      <td>Retired</td>\n",
       "      <td>NaN</td>\n",
       "      <td>Failure</td>\n",
       "    </tr>\n",
       "    <tr>\n",
       "      <th>9</th>\n",
       "      <td>US Navy</td>\n",
       "      <td>LC-18A, Cape Canaveral AFS, Florida, USA</td>\n",
       "      <td>1958-04-28</td>\n",
       "      <td>02:53:00</td>\n",
       "      <td>Vanguard</td>\n",
       "      <td>Vanguard TV5</td>\n",
       "      <td>Retired</td>\n",
       "      <td>NaN</td>\n",
       "      <td>Failure</td>\n",
       "    </tr>\n",
       "  </tbody>\n",
       "</table>\n",
       "</div>"
      ],
      "text/plain": [
       "     Company                                   Location        Date      Time  \\\n",
       "0  RVSN USSR  Site 1/5, Baikonur Cosmodrome, Kazakhstan  1957-10-04  19:28:00   \n",
       "1  RVSN USSR  Site 1/5, Baikonur Cosmodrome, Kazakhstan  1957-11-03  02:30:00   \n",
       "2    US Navy   LC-18A, Cape Canaveral AFS, Florida, USA  1957-12-06  16:44:00   \n",
       "3       AMBA   LC-26A, Cape Canaveral AFS, Florida, USA  1958-02-01  03:48:00   \n",
       "4    US Navy   LC-18A, Cape Canaveral AFS, Florida, USA  1958-02-05  07:33:00   \n",
       "5       AMBA   LC-26A, Cape Canaveral AFS, Florida, USA  1958-03-05  18:27:00   \n",
       "6    US Navy   LC-18A, Cape Canaveral AFS, Florida, USA  1958-03-17  12:15:00   \n",
       "7       AMBA     LC-5, Cape Canaveral AFS, Florida, USA  1958-03-26  17:38:00   \n",
       "8  RVSN USSR  Site 1/5, Baikonur Cosmodrome, Kazakhstan  1958-04-27  09:01:00   \n",
       "9    US Navy   LC-18A, Cape Canaveral AFS, Florida, USA  1958-04-28  02:53:00   \n",
       "\n",
       "           Rocket         Mission RocketStatus Price MissionStatus  \n",
       "0  Sputnik 8K71PS       Sputnik-1      Retired   NaN       Success  \n",
       "1  Sputnik 8K71PS       Sputnik-2      Retired   NaN       Success  \n",
       "2        Vanguard    Vanguard TV3      Retired   NaN       Failure  \n",
       "3          Juno I      Explorer 1      Retired   NaN       Success  \n",
       "4        Vanguard  Vanguard TV3BU      Retired   NaN       Failure  \n",
       "5          Juno I      Explorer 2      Retired   NaN       Failure  \n",
       "6        Vanguard      Vanguard 1      Retired   NaN       Success  \n",
       "7          Juno I      Explorer 3      Retired   NaN       Success  \n",
       "8    Sputnik 8A91    Sputnik-3 #1      Retired   NaN       Failure  \n",
       "9        Vanguard    Vanguard TV5      Retired   NaN       Failure  "
      ]
     },
     "execution_count": 3,
     "metadata": {},
     "output_type": "execute_result"
    }
   ],
   "source": [
    "sp = pd.read_csv('space_miss.csv')\n",
    "sp.head(10)"
   ]
  },
  {
   "cell_type": "code",
   "execution_count": 4,
   "metadata": {},
   "outputs": [
    {
     "name": "stdout",
     "output_type": "stream",
     "text": [
      "        Company                                         Location        Date  \\\n",
      "0     RVSN USSR        Site 1/5, Baikonur Cosmodrome, Kazakhstan  1957-10-04   \n",
      "1     RVSN USSR        Site 1/5, Baikonur Cosmodrome, Kazakhstan  1957-11-03   \n",
      "2       US Navy         LC-18A, Cape Canaveral AFS, Florida, USA  1957-12-06   \n",
      "3          AMBA         LC-26A, Cape Canaveral AFS, Florida, USA  1958-02-01   \n",
      "4       US Navy         LC-18A, Cape Canaveral AFS, Florida, USA  1958-02-05   \n",
      "...         ...                                              ...         ...   \n",
      "4625     SpaceX          SLC-4E, Vandenberg SFB, California, USA  2022-07-22   \n",
      "4626       CASC  LC-101, Wenchang Satellite Launch Center, China  2022-07-24   \n",
      "4627     SpaceX       LC-39A, Kennedy Space Center, Florida, USA  2022-07-24   \n",
      "4628  CAS Space           Jiuquan Satellite Launch Center, China  2022-07-27   \n",
      "4629       CASC     LC-3, Xichang Satellite Launch Center, China  2022-07-29   \n",
      "\n",
      "          Time            Rocket              Mission RocketStatus  Price  \\\n",
      "0     19:28:00    Sputnik 8K71PS            Sputnik-1      Retired    NaN   \n",
      "1     02:30:00    Sputnik 8K71PS            Sputnik-2      Retired    NaN   \n",
      "2     16:44:00          Vanguard         Vanguard TV3      Retired    NaN   \n",
      "3     03:48:00            Juno I           Explorer 1      Retired    NaN   \n",
      "4     07:33:00          Vanguard       Vanguard TV3BU      Retired    NaN   \n",
      "...        ...               ...                  ...          ...    ...   \n",
      "4625  17:39:00  Falcon 9 Block 5   Starlink Group 3-2       Active     67   \n",
      "4626  06:22:00     Long March 5B              Wentian       Active    NaN   \n",
      "4627  13:38:00  Falcon 9 Block 5  Starlink Group 4-25       Active     67   \n",
      "4628  04:12:00        Zhongke-1A          Demo Flight       Active    NaN   \n",
      "4629  13:28:00     Long March 2D   Yaogan 35 Group 03       Active  29.75   \n",
      "\n",
      "     MissionStatus  \n",
      "0          Success  \n",
      "1          Success  \n",
      "2          Failure  \n",
      "3          Success  \n",
      "4          Failure  \n",
      "...            ...  \n",
      "4625       Success  \n",
      "4626       Success  \n",
      "4627       Success  \n",
      "4628       Success  \n",
      "4629       Success  \n",
      "\n",
      "[4630 rows x 9 columns]\n"
     ]
    }
   ],
   "source": [
    "print(sp)"
   ]
  },
  {
   "cell_type": "markdown",
   "metadata": {},
   "source": [
    "2. **Understanding the Columns and Datatypes**"
   ]
  },
  {
   "cell_type": "code",
   "execution_count": 5,
   "metadata": {},
   "outputs": [
    {
     "data": {
      "text/plain": [
       "Index(['Company', 'Location', 'Date', 'Time', 'Rocket', 'Mission',\n",
       "       'RocketStatus', 'Price', 'MissionStatus'],\n",
       "      dtype='object')"
      ]
     },
     "execution_count": 5,
     "metadata": {},
     "output_type": "execute_result"
    }
   ],
   "source": [
    "sp.columns"
   ]
  },
  {
   "cell_type": "code",
   "execution_count": 6,
   "metadata": {},
   "outputs": [
    {
     "name": "stdout",
     "output_type": "stream",
     "text": [
      "<class 'pandas.core.frame.DataFrame'>\n",
      "RangeIndex: 4630 entries, 0 to 4629\n",
      "Data columns (total 9 columns):\n",
      " #   Column         Non-Null Count  Dtype \n",
      "---  ------         --------------  ----- \n",
      " 0   Company        4630 non-null   object\n",
      " 1   Location       4630 non-null   object\n",
      " 2   Date           4630 non-null   object\n",
      " 3   Time           4503 non-null   object\n",
      " 4   Rocket         4630 non-null   object\n",
      " 5   Mission        4630 non-null   object\n",
      " 6   RocketStatus   4630 non-null   object\n",
      " 7   Price          1265 non-null   object\n",
      " 8   MissionStatus  4630 non-null   object\n",
      "dtypes: object(9)\n",
      "memory usage: 325.7+ KB\n"
     ]
    }
   ],
   "source": [
    "sp.info()"
   ]
  },
  {
   "cell_type": "code",
   "execution_count": 8,
   "metadata": {
    "scrolled": false
   },
   "outputs": [
    {
     "data": {
      "text/html": [
       "<div>\n",
       "<style scoped>\n",
       "    .dataframe tbody tr th:only-of-type {\n",
       "        vertical-align: middle;\n",
       "    }\n",
       "\n",
       "    .dataframe tbody tr th {\n",
       "        vertical-align: top;\n",
       "    }\n",
       "\n",
       "    .dataframe thead th {\n",
       "        text-align: right;\n",
       "    }\n",
       "</style>\n",
       "<table border=\"1\" class=\"dataframe\">\n",
       "  <thead>\n",
       "    <tr style=\"text-align: right;\">\n",
       "      <th></th>\n",
       "      <th>Company</th>\n",
       "      <th>Location</th>\n",
       "      <th>Date</th>\n",
       "      <th>Time</th>\n",
       "      <th>Rocket</th>\n",
       "      <th>Mission</th>\n",
       "      <th>RocketStatus</th>\n",
       "      <th>Price</th>\n",
       "      <th>MissionStatus</th>\n",
       "    </tr>\n",
       "  </thead>\n",
       "  <tbody>\n",
       "    <tr>\n",
       "      <th>count</th>\n",
       "      <td>4630</td>\n",
       "      <td>4630</td>\n",
       "      <td>4630</td>\n",
       "      <td>4503</td>\n",
       "      <td>4630</td>\n",
       "      <td>4630</td>\n",
       "      <td>4630</td>\n",
       "      <td>1265</td>\n",
       "      <td>4630</td>\n",
       "    </tr>\n",
       "    <tr>\n",
       "      <th>unique</th>\n",
       "      <td>62</td>\n",
       "      <td>158</td>\n",
       "      <td>4180</td>\n",
       "      <td>1300</td>\n",
       "      <td>370</td>\n",
       "      <td>4556</td>\n",
       "      <td>2</td>\n",
       "      <td>65</td>\n",
       "      <td>4</td>\n",
       "    </tr>\n",
       "    <tr>\n",
       "      <th>top</th>\n",
       "      <td>RVSN USSR</td>\n",
       "      <td>Site 31/6, Baikonur Cosmodrome, Kazakhstan</td>\n",
       "      <td>1962-04-26</td>\n",
       "      <td>12:00:00</td>\n",
       "      <td>Cosmos-3M (11K65M)</td>\n",
       "      <td>Demo Flight</td>\n",
       "      <td>Retired</td>\n",
       "      <td>450</td>\n",
       "      <td>Success</td>\n",
       "    </tr>\n",
       "    <tr>\n",
       "      <th>freq</th>\n",
       "      <td>1777</td>\n",
       "      <td>251</td>\n",
       "      <td>4</td>\n",
       "      <td>52</td>\n",
       "      <td>446</td>\n",
       "      <td>8</td>\n",
       "      <td>3620</td>\n",
       "      <td>136</td>\n",
       "      <td>4162</td>\n",
       "    </tr>\n",
       "  </tbody>\n",
       "</table>\n",
       "</div>"
      ],
      "text/plain": [
       "          Company                                    Location        Date  \\\n",
       "count        4630                                        4630        4630   \n",
       "unique         62                                         158        4180   \n",
       "top     RVSN USSR  Site 31/6, Baikonur Cosmodrome, Kazakhstan  1962-04-26   \n",
       "freq         1777                                         251           4   \n",
       "\n",
       "            Time              Rocket      Mission RocketStatus Price  \\\n",
       "count       4503                4630         4630         4630  1265   \n",
       "unique      1300                 370         4556            2    65   \n",
       "top     12:00:00  Cosmos-3M (11K65M)  Demo Flight      Retired   450   \n",
       "freq          52                 446            8         3620   136   \n",
       "\n",
       "       MissionStatus  \n",
       "count           4630  \n",
       "unique             4  \n",
       "top          Success  \n",
       "freq            4162  "
      ]
     },
     "execution_count": 8,
     "metadata": {},
     "output_type": "execute_result"
    }
   ],
   "source": [
    "sp.describe()"
   ]
  },
  {
   "cell_type": "code",
   "execution_count": 9,
   "metadata": {},
   "outputs": [
    {
     "data": {
      "text/plain": [
       "Company             0\n",
       "Location            0\n",
       "Date                0\n",
       "Time              127\n",
       "Rocket              0\n",
       "Mission             0\n",
       "RocketStatus        0\n",
       "Price            3365\n",
       "MissionStatus       0\n",
       "dtype: int64"
      ]
     },
     "execution_count": 9,
     "metadata": {},
     "output_type": "execute_result"
    }
   ],
   "source": [
    "sp.isna().sum()"
   ]
  },
  {
   "cell_type": "markdown",
   "metadata": {},
   "source": [
    "- Entries in Time and Price are missing \n",
    "- Unique - 62 companies, 370 rockets and 4 Mission status"
   ]
  },
  {
   "cell_type": "markdown",
   "metadata": {},
   "source": [
    "**Was unable to convert price to Float ($ sign or comma seaprators)**\n",
    "\n",
    "**So they have to be removed and assigned to numeric or float**"
   ]
  },
  {
   "cell_type": "code",
   "execution_count": 10,
   "metadata": {
    "scrolled": true
   },
   "outputs": [],
   "source": [
    "sp['Price'] = sp['Price'].replace(',','',regex=True)"
   ]
  },
  {
   "cell_type": "code",
   "execution_count": 11,
   "metadata": {},
   "outputs": [
    {
     "data": {
      "text/html": [
       "<div>\n",
       "<style scoped>\n",
       "    .dataframe tbody tr th:only-of-type {\n",
       "        vertical-align: middle;\n",
       "    }\n",
       "\n",
       "    .dataframe tbody tr th {\n",
       "        vertical-align: top;\n",
       "    }\n",
       "\n",
       "    .dataframe thead th {\n",
       "        text-align: right;\n",
       "    }\n",
       "</style>\n",
       "<table border=\"1\" class=\"dataframe\">\n",
       "  <thead>\n",
       "    <tr style=\"text-align: right;\">\n",
       "      <th></th>\n",
       "      <th>Company</th>\n",
       "      <th>Location</th>\n",
       "      <th>Date</th>\n",
       "      <th>Time</th>\n",
       "      <th>Rocket</th>\n",
       "      <th>Mission</th>\n",
       "      <th>RocketStatus</th>\n",
       "      <th>Price</th>\n",
       "      <th>MissionStatus</th>\n",
       "    </tr>\n",
       "  </thead>\n",
       "  <tbody>\n",
       "    <tr>\n",
       "      <th>607</th>\n",
       "      <td>NASA</td>\n",
       "      <td>LC-39A, Kennedy Space Center, Florida, USA</td>\n",
       "      <td>1967-11-09</td>\n",
       "      <td>12:00:00</td>\n",
       "      <td>Saturn V</td>\n",
       "      <td>Apollo 4</td>\n",
       "      <td>Retired</td>\n",
       "      <td>1160.00</td>\n",
       "      <td>Success</td>\n",
       "    </tr>\n",
       "    <tr>\n",
       "      <th>640</th>\n",
       "      <td>NASA</td>\n",
       "      <td>LC-39A, Kennedy Space Center, Florida, USA</td>\n",
       "      <td>1968-04-04</td>\n",
       "      <td>12:00:00</td>\n",
       "      <td>Saturn V</td>\n",
       "      <td>Apollo 6</td>\n",
       "      <td>Retired</td>\n",
       "      <td>1160.00</td>\n",
       "      <td>Partial Failure</td>\n",
       "    </tr>\n",
       "    <tr>\n",
       "      <th>720</th>\n",
       "      <td>NASA</td>\n",
       "      <td>LC-39A, Kennedy Space Center, Florida, USA</td>\n",
       "      <td>1968-12-21</td>\n",
       "      <td>12:51:00</td>\n",
       "      <td>Saturn V</td>\n",
       "      <td>Apollo 8</td>\n",
       "      <td>Retired</td>\n",
       "      <td>1160.00</td>\n",
       "      <td>Success</td>\n",
       "    </tr>\n",
       "    <tr>\n",
       "      <th>739</th>\n",
       "      <td>NASA</td>\n",
       "      <td>LC-39A, Kennedy Space Center, Florida, USA</td>\n",
       "      <td>1969-03-03</td>\n",
       "      <td>16:00:00</td>\n",
       "      <td>Saturn V</td>\n",
       "      <td>Apollo 9</td>\n",
       "      <td>Retired</td>\n",
       "      <td>1160.00</td>\n",
       "      <td>Success</td>\n",
       "    </tr>\n",
       "    <tr>\n",
       "      <th>763</th>\n",
       "      <td>NASA</td>\n",
       "      <td>LC-39B, Kennedy Space Center, Florida, USA</td>\n",
       "      <td>1969-05-18</td>\n",
       "      <td>16:49:00</td>\n",
       "      <td>Saturn V</td>\n",
       "      <td>Apollo 10</td>\n",
       "      <td>Retired</td>\n",
       "      <td>1160.00</td>\n",
       "      <td>Success</td>\n",
       "    </tr>\n",
       "    <tr>\n",
       "      <th>778</th>\n",
       "      <td>NASA</td>\n",
       "      <td>LC-39A, Kennedy Space Center, Florida, USA</td>\n",
       "      <td>1969-07-16</td>\n",
       "      <td>13:32:00</td>\n",
       "      <td>Saturn V</td>\n",
       "      <td>Apollo 11</td>\n",
       "      <td>Retired</td>\n",
       "      <td>1160.00</td>\n",
       "      <td>Success</td>\n",
       "    </tr>\n",
       "    <tr>\n",
       "      <th>812</th>\n",
       "      <td>NASA</td>\n",
       "      <td>LC-39A, Kennedy Space Center, Florida, USA</td>\n",
       "      <td>1969-11-14</td>\n",
       "      <td>16:22:00</td>\n",
       "      <td>Saturn V</td>\n",
       "      <td>Apollo 12</td>\n",
       "      <td>Retired</td>\n",
       "      <td>1160.00</td>\n",
       "      <td>Success</td>\n",
       "    </tr>\n",
       "    <tr>\n",
       "      <th>848</th>\n",
       "      <td>NASA</td>\n",
       "      <td>LC-39A, Kennedy Space Center, Florida, USA</td>\n",
       "      <td>1970-04-11</td>\n",
       "      <td>19:13:00</td>\n",
       "      <td>Saturn V</td>\n",
       "      <td>Apollo 13</td>\n",
       "      <td>Retired</td>\n",
       "      <td>1160.00</td>\n",
       "      <td>Success</td>\n",
       "    </tr>\n",
       "    <tr>\n",
       "      <th>939</th>\n",
       "      <td>NASA</td>\n",
       "      <td>LC-39A, Kennedy Space Center, Florida, USA</td>\n",
       "      <td>1971-01-31</td>\n",
       "      <td>21:03:00</td>\n",
       "      <td>Saturn V</td>\n",
       "      <td>Apollo 14</td>\n",
       "      <td>Retired</td>\n",
       "      <td>1160.00</td>\n",
       "      <td>Success</td>\n",
       "    </tr>\n",
       "    <tr>\n",
       "      <th>995</th>\n",
       "      <td>NASA</td>\n",
       "      <td>LC-39A, Kennedy Space Center, Florida, USA</td>\n",
       "      <td>1971-07-26</td>\n",
       "      <td>13:34:00</td>\n",
       "      <td>Saturn V</td>\n",
       "      <td>Apollo 15</td>\n",
       "      <td>Retired</td>\n",
       "      <td>1160.00</td>\n",
       "      <td>Success</td>\n",
       "    </tr>\n",
       "    <tr>\n",
       "      <th>1080</th>\n",
       "      <td>NASA</td>\n",
       "      <td>LC-39A, Kennedy Space Center, Florida, USA</td>\n",
       "      <td>1972-04-16</td>\n",
       "      <td>17:54:00</td>\n",
       "      <td>Saturn V</td>\n",
       "      <td>Apollo 16</td>\n",
       "      <td>Retired</td>\n",
       "      <td>1160.00</td>\n",
       "      <td>Success</td>\n",
       "    </tr>\n",
       "    <tr>\n",
       "      <th>1143</th>\n",
       "      <td>NASA</td>\n",
       "      <td>LC-39A, Kennedy Space Center, Florida, USA</td>\n",
       "      <td>1972-12-19</td>\n",
       "      <td>19:24:00</td>\n",
       "      <td>Saturn V</td>\n",
       "      <td>Apollo 17</td>\n",
       "      <td>Retired</td>\n",
       "      <td>1160.00</td>\n",
       "      <td>Success</td>\n",
       "    </tr>\n",
       "    <tr>\n",
       "      <th>1174</th>\n",
       "      <td>NASA</td>\n",
       "      <td>LC-39A, Kennedy Space Center, Florida, USA</td>\n",
       "      <td>1973-05-14</td>\n",
       "      <td>17:30:00</td>\n",
       "      <td>Saturn V</td>\n",
       "      <td>Skylab 1</td>\n",
       "      <td>Retired</td>\n",
       "      <td>1160.00</td>\n",
       "      <td>Success</td>\n",
       "    </tr>\n",
       "  </tbody>\n",
       "</table>\n",
       "</div>"
      ],
      "text/plain": [
       "     Company                                    Location        Date  \\\n",
       "607     NASA  LC-39A, Kennedy Space Center, Florida, USA  1967-11-09   \n",
       "640     NASA  LC-39A, Kennedy Space Center, Florida, USA  1968-04-04   \n",
       "720     NASA  LC-39A, Kennedy Space Center, Florida, USA  1968-12-21   \n",
       "739     NASA  LC-39A, Kennedy Space Center, Florida, USA  1969-03-03   \n",
       "763     NASA  LC-39B, Kennedy Space Center, Florida, USA  1969-05-18   \n",
       "778     NASA  LC-39A, Kennedy Space Center, Florida, USA  1969-07-16   \n",
       "812     NASA  LC-39A, Kennedy Space Center, Florida, USA  1969-11-14   \n",
       "848     NASA  LC-39A, Kennedy Space Center, Florida, USA  1970-04-11   \n",
       "939     NASA  LC-39A, Kennedy Space Center, Florida, USA  1971-01-31   \n",
       "995     NASA  LC-39A, Kennedy Space Center, Florida, USA  1971-07-26   \n",
       "1080    NASA  LC-39A, Kennedy Space Center, Florida, USA  1972-04-16   \n",
       "1143    NASA  LC-39A, Kennedy Space Center, Florida, USA  1972-12-19   \n",
       "1174    NASA  LC-39A, Kennedy Space Center, Florida, USA  1973-05-14   \n",
       "\n",
       "          Time    Rocket    Mission RocketStatus    Price    MissionStatus  \n",
       "607   12:00:00  Saturn V   Apollo 4      Retired  1160.00          Success  \n",
       "640   12:00:00  Saturn V   Apollo 6      Retired  1160.00  Partial Failure  \n",
       "720   12:51:00  Saturn V   Apollo 8      Retired  1160.00          Success  \n",
       "739   16:00:00  Saturn V   Apollo 9      Retired  1160.00          Success  \n",
       "763   16:49:00  Saturn V  Apollo 10      Retired  1160.00          Success  \n",
       "778   13:32:00  Saturn V  Apollo 11      Retired  1160.00          Success  \n",
       "812   16:22:00  Saturn V  Apollo 12      Retired  1160.00          Success  \n",
       "848   19:13:00  Saturn V  Apollo 13      Retired  1160.00          Success  \n",
       "939   21:03:00  Saturn V  Apollo 14      Retired  1160.00          Success  \n",
       "995   13:34:00  Saturn V  Apollo 15      Retired  1160.00          Success  \n",
       "1080  17:54:00  Saturn V  Apollo 16      Retired  1160.00          Success  \n",
       "1143  19:24:00  Saturn V  Apollo 17      Retired  1160.00          Success  \n",
       "1174  17:30:00  Saturn V   Skylab 1      Retired  1160.00          Success  "
      ]
     },
     "execution_count": 11,
     "metadata": {},
     "output_type": "execute_result"
    }
   ],
   "source": [
    "sp.loc[(sp['Company']==\"NASA\") & (sp['Rocket']==\"Saturn V\")]"
   ]
  },
  {
   "cell_type": "code",
   "execution_count": 12,
   "metadata": {},
   "outputs": [],
   "source": [
    "sp = sp.astype( {'Company':object, 'Location':str, 'Date':object, 'Time':object, 'Rocket':object, 'Mission':object,\n",
    "       'RocketStatus':object, 'Price':float ,'MissionStatus':object})"
   ]
  },
  {
   "cell_type": "code",
   "execution_count": 13,
   "metadata": {},
   "outputs": [],
   "source": [
    "#sp['Price']= pd.to_numeric(sp['Price'],errors='coerce')"
   ]
  },
  {
   "cell_type": "code",
   "execution_count": 14,
   "metadata": {
    "scrolled": false
   },
   "outputs": [
    {
     "name": "stdout",
     "output_type": "stream",
     "text": [
      "<class 'pandas.core.frame.DataFrame'>\n",
      "RangeIndex: 4630 entries, 0 to 4629\n",
      "Data columns (total 9 columns):\n",
      " #   Column         Non-Null Count  Dtype  \n",
      "---  ------         --------------  -----  \n",
      " 0   Company        4630 non-null   object \n",
      " 1   Location       4630 non-null   object \n",
      " 2   Date           4630 non-null   object \n",
      " 3   Time           4503 non-null   object \n",
      " 4   Rocket         4630 non-null   object \n",
      " 5   Mission        4630 non-null   object \n",
      " 6   RocketStatus   4630 non-null   object \n",
      " 7   Price          1265 non-null   float64\n",
      " 8   MissionStatus  4630 non-null   object \n",
      "dtypes: float64(1), object(8)\n",
      "memory usage: 325.7+ KB\n"
     ]
    }
   ],
   "source": [
    "sp.info()"
   ]
  },
  {
   "cell_type": "code",
   "execution_count": 15,
   "metadata": {
    "scrolled": true
   },
   "outputs": [
    {
     "data": {
      "text/html": [
       "<div>\n",
       "<style scoped>\n",
       "    .dataframe tbody tr th:only-of-type {\n",
       "        vertical-align: middle;\n",
       "    }\n",
       "\n",
       "    .dataframe tbody tr th {\n",
       "        vertical-align: top;\n",
       "    }\n",
       "\n",
       "    .dataframe thead th {\n",
       "        text-align: right;\n",
       "    }\n",
       "</style>\n",
       "<table border=\"1\" class=\"dataframe\">\n",
       "  <thead>\n",
       "    <tr style=\"text-align: right;\">\n",
       "      <th></th>\n",
       "      <th>Company</th>\n",
       "      <th>Location</th>\n",
       "      <th>Date</th>\n",
       "      <th>Time</th>\n",
       "      <th>Rocket</th>\n",
       "      <th>Mission</th>\n",
       "      <th>RocketStatus</th>\n",
       "      <th>Price</th>\n",
       "      <th>MissionStatus</th>\n",
       "    </tr>\n",
       "  </thead>\n",
       "  <tbody>\n",
       "    <tr>\n",
       "      <th>607</th>\n",
       "      <td>NASA</td>\n",
       "      <td>LC-39A, Kennedy Space Center, Florida, USA</td>\n",
       "      <td>1967-11-09</td>\n",
       "      <td>12:00:00</td>\n",
       "      <td>Saturn V</td>\n",
       "      <td>Apollo 4</td>\n",
       "      <td>Retired</td>\n",
       "      <td>1160.0</td>\n",
       "      <td>Success</td>\n",
       "    </tr>\n",
       "    <tr>\n",
       "      <th>640</th>\n",
       "      <td>NASA</td>\n",
       "      <td>LC-39A, Kennedy Space Center, Florida, USA</td>\n",
       "      <td>1968-04-04</td>\n",
       "      <td>12:00:00</td>\n",
       "      <td>Saturn V</td>\n",
       "      <td>Apollo 6</td>\n",
       "      <td>Retired</td>\n",
       "      <td>1160.0</td>\n",
       "      <td>Partial Failure</td>\n",
       "    </tr>\n",
       "    <tr>\n",
       "      <th>720</th>\n",
       "      <td>NASA</td>\n",
       "      <td>LC-39A, Kennedy Space Center, Florida, USA</td>\n",
       "      <td>1968-12-21</td>\n",
       "      <td>12:51:00</td>\n",
       "      <td>Saturn V</td>\n",
       "      <td>Apollo 8</td>\n",
       "      <td>Retired</td>\n",
       "      <td>1160.0</td>\n",
       "      <td>Success</td>\n",
       "    </tr>\n",
       "    <tr>\n",
       "      <th>739</th>\n",
       "      <td>NASA</td>\n",
       "      <td>LC-39A, Kennedy Space Center, Florida, USA</td>\n",
       "      <td>1969-03-03</td>\n",
       "      <td>16:00:00</td>\n",
       "      <td>Saturn V</td>\n",
       "      <td>Apollo 9</td>\n",
       "      <td>Retired</td>\n",
       "      <td>1160.0</td>\n",
       "      <td>Success</td>\n",
       "    </tr>\n",
       "    <tr>\n",
       "      <th>763</th>\n",
       "      <td>NASA</td>\n",
       "      <td>LC-39B, Kennedy Space Center, Florida, USA</td>\n",
       "      <td>1969-05-18</td>\n",
       "      <td>16:49:00</td>\n",
       "      <td>Saturn V</td>\n",
       "      <td>Apollo 10</td>\n",
       "      <td>Retired</td>\n",
       "      <td>1160.0</td>\n",
       "      <td>Success</td>\n",
       "    </tr>\n",
       "    <tr>\n",
       "      <th>778</th>\n",
       "      <td>NASA</td>\n",
       "      <td>LC-39A, Kennedy Space Center, Florida, USA</td>\n",
       "      <td>1969-07-16</td>\n",
       "      <td>13:32:00</td>\n",
       "      <td>Saturn V</td>\n",
       "      <td>Apollo 11</td>\n",
       "      <td>Retired</td>\n",
       "      <td>1160.0</td>\n",
       "      <td>Success</td>\n",
       "    </tr>\n",
       "    <tr>\n",
       "      <th>812</th>\n",
       "      <td>NASA</td>\n",
       "      <td>LC-39A, Kennedy Space Center, Florida, USA</td>\n",
       "      <td>1969-11-14</td>\n",
       "      <td>16:22:00</td>\n",
       "      <td>Saturn V</td>\n",
       "      <td>Apollo 12</td>\n",
       "      <td>Retired</td>\n",
       "      <td>1160.0</td>\n",
       "      <td>Success</td>\n",
       "    </tr>\n",
       "    <tr>\n",
       "      <th>848</th>\n",
       "      <td>NASA</td>\n",
       "      <td>LC-39A, Kennedy Space Center, Florida, USA</td>\n",
       "      <td>1970-04-11</td>\n",
       "      <td>19:13:00</td>\n",
       "      <td>Saturn V</td>\n",
       "      <td>Apollo 13</td>\n",
       "      <td>Retired</td>\n",
       "      <td>1160.0</td>\n",
       "      <td>Success</td>\n",
       "    </tr>\n",
       "    <tr>\n",
       "      <th>939</th>\n",
       "      <td>NASA</td>\n",
       "      <td>LC-39A, Kennedy Space Center, Florida, USA</td>\n",
       "      <td>1971-01-31</td>\n",
       "      <td>21:03:00</td>\n",
       "      <td>Saturn V</td>\n",
       "      <td>Apollo 14</td>\n",
       "      <td>Retired</td>\n",
       "      <td>1160.0</td>\n",
       "      <td>Success</td>\n",
       "    </tr>\n",
       "    <tr>\n",
       "      <th>995</th>\n",
       "      <td>NASA</td>\n",
       "      <td>LC-39A, Kennedy Space Center, Florida, USA</td>\n",
       "      <td>1971-07-26</td>\n",
       "      <td>13:34:00</td>\n",
       "      <td>Saturn V</td>\n",
       "      <td>Apollo 15</td>\n",
       "      <td>Retired</td>\n",
       "      <td>1160.0</td>\n",
       "      <td>Success</td>\n",
       "    </tr>\n",
       "    <tr>\n",
       "      <th>1080</th>\n",
       "      <td>NASA</td>\n",
       "      <td>LC-39A, Kennedy Space Center, Florida, USA</td>\n",
       "      <td>1972-04-16</td>\n",
       "      <td>17:54:00</td>\n",
       "      <td>Saturn V</td>\n",
       "      <td>Apollo 16</td>\n",
       "      <td>Retired</td>\n",
       "      <td>1160.0</td>\n",
       "      <td>Success</td>\n",
       "    </tr>\n",
       "    <tr>\n",
       "      <th>1143</th>\n",
       "      <td>NASA</td>\n",
       "      <td>LC-39A, Kennedy Space Center, Florida, USA</td>\n",
       "      <td>1972-12-19</td>\n",
       "      <td>19:24:00</td>\n",
       "      <td>Saturn V</td>\n",
       "      <td>Apollo 17</td>\n",
       "      <td>Retired</td>\n",
       "      <td>1160.0</td>\n",
       "      <td>Success</td>\n",
       "    </tr>\n",
       "    <tr>\n",
       "      <th>1174</th>\n",
       "      <td>NASA</td>\n",
       "      <td>LC-39A, Kennedy Space Center, Florida, USA</td>\n",
       "      <td>1973-05-14</td>\n",
       "      <td>17:30:00</td>\n",
       "      <td>Saturn V</td>\n",
       "      <td>Skylab 1</td>\n",
       "      <td>Retired</td>\n",
       "      <td>1160.0</td>\n",
       "      <td>Success</td>\n",
       "    </tr>\n",
       "  </tbody>\n",
       "</table>\n",
       "</div>"
      ],
      "text/plain": [
       "     Company                                    Location        Date  \\\n",
       "607     NASA  LC-39A, Kennedy Space Center, Florida, USA  1967-11-09   \n",
       "640     NASA  LC-39A, Kennedy Space Center, Florida, USA  1968-04-04   \n",
       "720     NASA  LC-39A, Kennedy Space Center, Florida, USA  1968-12-21   \n",
       "739     NASA  LC-39A, Kennedy Space Center, Florida, USA  1969-03-03   \n",
       "763     NASA  LC-39B, Kennedy Space Center, Florida, USA  1969-05-18   \n",
       "778     NASA  LC-39A, Kennedy Space Center, Florida, USA  1969-07-16   \n",
       "812     NASA  LC-39A, Kennedy Space Center, Florida, USA  1969-11-14   \n",
       "848     NASA  LC-39A, Kennedy Space Center, Florida, USA  1970-04-11   \n",
       "939     NASA  LC-39A, Kennedy Space Center, Florida, USA  1971-01-31   \n",
       "995     NASA  LC-39A, Kennedy Space Center, Florida, USA  1971-07-26   \n",
       "1080    NASA  LC-39A, Kennedy Space Center, Florida, USA  1972-04-16   \n",
       "1143    NASA  LC-39A, Kennedy Space Center, Florida, USA  1972-12-19   \n",
       "1174    NASA  LC-39A, Kennedy Space Center, Florida, USA  1973-05-14   \n",
       "\n",
       "          Time    Rocket    Mission RocketStatus   Price    MissionStatus  \n",
       "607   12:00:00  Saturn V   Apollo 4      Retired  1160.0          Success  \n",
       "640   12:00:00  Saturn V   Apollo 6      Retired  1160.0  Partial Failure  \n",
       "720   12:51:00  Saturn V   Apollo 8      Retired  1160.0          Success  \n",
       "739   16:00:00  Saturn V   Apollo 9      Retired  1160.0          Success  \n",
       "763   16:49:00  Saturn V  Apollo 10      Retired  1160.0          Success  \n",
       "778   13:32:00  Saturn V  Apollo 11      Retired  1160.0          Success  \n",
       "812   16:22:00  Saturn V  Apollo 12      Retired  1160.0          Success  \n",
       "848   19:13:00  Saturn V  Apollo 13      Retired  1160.0          Success  \n",
       "939   21:03:00  Saturn V  Apollo 14      Retired  1160.0          Success  \n",
       "995   13:34:00  Saturn V  Apollo 15      Retired  1160.0          Success  \n",
       "1080  17:54:00  Saturn V  Apollo 16      Retired  1160.0          Success  \n",
       "1143  19:24:00  Saturn V  Apollo 17      Retired  1160.0          Success  \n",
       "1174  17:30:00  Saturn V   Skylab 1      Retired  1160.0          Success  "
      ]
     },
     "execution_count": 15,
     "metadata": {},
     "output_type": "execute_result"
    }
   ],
   "source": [
    "sp.loc[(sp['Company']==\"NASA\") & (sp['Rocket']==\"Saturn V\")]"
   ]
  },
  {
   "cell_type": "code",
   "execution_count": 16,
   "metadata": {},
   "outputs": [
    {
     "name": "stdout",
     "output_type": "stream",
     "text": [
      "<class 'pandas.core.frame.DataFrame'>\n",
      "RangeIndex: 4630 entries, 0 to 4629\n",
      "Data columns (total 9 columns):\n",
      " #   Column         Non-Null Count  Dtype  \n",
      "---  ------         --------------  -----  \n",
      " 0   Company        4630 non-null   object \n",
      " 1   Location       4630 non-null   object \n",
      " 2   Date           4630 non-null   object \n",
      " 3   Time           4503 non-null   object \n",
      " 4   Rocket         4630 non-null   object \n",
      " 5   Mission        4630 non-null   object \n",
      " 6   RocketStatus   4630 non-null   object \n",
      " 7   Price          1265 non-null   float64\n",
      " 8   MissionStatus  4630 non-null   object \n",
      "dtypes: float64(1), object(8)\n",
      "memory usage: 325.7+ KB\n"
     ]
    }
   ],
   "source": [
    "sp.info()"
   ]
  },
  {
   "cell_type": "code",
   "execution_count": 17,
   "metadata": {},
   "outputs": [
    {
     "name": "stdout",
     "output_type": "stream",
     "text": [
      "<class 'pandas.core.frame.DataFrame'>\n",
      "RangeIndex: 4630 entries, 0 to 4629\n",
      "Data columns (total 9 columns):\n",
      " #   Column         Non-Null Count  Dtype         \n",
      "---  ------         --------------  -----         \n",
      " 0   Company        4630 non-null   object        \n",
      " 1   Location       4630 non-null   object        \n",
      " 2   Date           4630 non-null   datetime64[ns]\n",
      " 3   Time           4503 non-null   datetime64[ns]\n",
      " 4   Rocket         4630 non-null   object        \n",
      " 5   Mission        4630 non-null   object        \n",
      " 6   RocketStatus   4630 non-null   object        \n",
      " 7   Price          1265 non-null   float64       \n",
      " 8   MissionStatus  4630 non-null   object        \n",
      "dtypes: datetime64[ns](2), float64(1), object(6)\n",
      "memory usage: 325.7+ KB\n"
     ]
    }
   ],
   "source": [
    "sp['Date']= pd.to_datetime(sp['Date'])\n",
    "sp['Time']= pd.to_datetime(sp['Time'])\n",
    "sp.info()"
   ]
  },
  {
   "cell_type": "code",
   "execution_count": 18,
   "metadata": {},
   "outputs": [
    {
     "data": {
      "text/html": [
       "<div>\n",
       "<style scoped>\n",
       "    .dataframe tbody tr th:only-of-type {\n",
       "        vertical-align: middle;\n",
       "    }\n",
       "\n",
       "    .dataframe tbody tr th {\n",
       "        vertical-align: top;\n",
       "    }\n",
       "\n",
       "    .dataframe thead th {\n",
       "        text-align: right;\n",
       "    }\n",
       "</style>\n",
       "<table border=\"1\" class=\"dataframe\">\n",
       "  <thead>\n",
       "    <tr style=\"text-align: right;\">\n",
       "      <th></th>\n",
       "      <th>Price</th>\n",
       "    </tr>\n",
       "  </thead>\n",
       "  <tbody>\n",
       "    <tr>\n",
       "      <th>count</th>\n",
       "      <td>1265.000000</td>\n",
       "    </tr>\n",
       "    <tr>\n",
       "      <th>mean</th>\n",
       "      <td>128.303913</td>\n",
       "    </tr>\n",
       "    <tr>\n",
       "      <th>std</th>\n",
       "      <td>256.769663</td>\n",
       "    </tr>\n",
       "    <tr>\n",
       "      <th>min</th>\n",
       "      <td>2.500000</td>\n",
       "    </tr>\n",
       "    <tr>\n",
       "      <th>25%</th>\n",
       "      <td>30.000000</td>\n",
       "    </tr>\n",
       "    <tr>\n",
       "      <th>50%</th>\n",
       "      <td>63.230000</td>\n",
       "    </tr>\n",
       "    <tr>\n",
       "      <th>75%</th>\n",
       "      <td>115.000000</td>\n",
       "    </tr>\n",
       "    <tr>\n",
       "      <th>max</th>\n",
       "      <td>5000.000000</td>\n",
       "    </tr>\n",
       "  </tbody>\n",
       "</table>\n",
       "</div>"
      ],
      "text/plain": [
       "             Price\n",
       "count  1265.000000\n",
       "mean    128.303913\n",
       "std     256.769663\n",
       "min       2.500000\n",
       "25%      30.000000\n",
       "50%      63.230000\n",
       "75%     115.000000\n",
       "max    5000.000000"
      ]
     },
     "execution_count": 18,
     "metadata": {},
     "output_type": "execute_result"
    }
   ],
   "source": [
    "sp.describe()"
   ]
  },
  {
   "cell_type": "markdown",
   "metadata": {},
   "source": [
    "### Insights: Keep in mind the values for price attribute had more than 2000 null values. So the above stats doesnot provide the right understanding of the Price attribute"
   ]
  },
  {
   "cell_type": "code",
   "execution_count": 19,
   "metadata": {},
   "outputs": [
    {
     "data": {
      "text/html": [
       "<div>\n",
       "<style scoped>\n",
       "    .dataframe tbody tr th:only-of-type {\n",
       "        vertical-align: middle;\n",
       "    }\n",
       "\n",
       "    .dataframe tbody tr th {\n",
       "        vertical-align: top;\n",
       "    }\n",
       "\n",
       "    .dataframe thead th {\n",
       "        text-align: right;\n",
       "    }\n",
       "</style>\n",
       "<table border=\"1\" class=\"dataframe\">\n",
       "  <thead>\n",
       "    <tr style=\"text-align: right;\">\n",
       "      <th></th>\n",
       "      <th>Company</th>\n",
       "      <th>Location</th>\n",
       "      <th>Date</th>\n",
       "      <th>Time</th>\n",
       "      <th>Rocket</th>\n",
       "      <th>Mission</th>\n",
       "      <th>RocketStatus</th>\n",
       "      <th>Price</th>\n",
       "      <th>MissionStatus</th>\n",
       "    </tr>\n",
       "  </thead>\n",
       "  <tbody>\n",
       "    <tr>\n",
       "      <th>0</th>\n",
       "      <td>False</td>\n",
       "      <td>False</td>\n",
       "      <td>False</td>\n",
       "      <td>False</td>\n",
       "      <td>False</td>\n",
       "      <td>False</td>\n",
       "      <td>False</td>\n",
       "      <td>True</td>\n",
       "      <td>False</td>\n",
       "    </tr>\n",
       "    <tr>\n",
       "      <th>1</th>\n",
       "      <td>False</td>\n",
       "      <td>False</td>\n",
       "      <td>False</td>\n",
       "      <td>False</td>\n",
       "      <td>False</td>\n",
       "      <td>False</td>\n",
       "      <td>False</td>\n",
       "      <td>True</td>\n",
       "      <td>False</td>\n",
       "    </tr>\n",
       "    <tr>\n",
       "      <th>2</th>\n",
       "      <td>False</td>\n",
       "      <td>False</td>\n",
       "      <td>False</td>\n",
       "      <td>False</td>\n",
       "      <td>False</td>\n",
       "      <td>False</td>\n",
       "      <td>False</td>\n",
       "      <td>True</td>\n",
       "      <td>False</td>\n",
       "    </tr>\n",
       "    <tr>\n",
       "      <th>3</th>\n",
       "      <td>False</td>\n",
       "      <td>False</td>\n",
       "      <td>False</td>\n",
       "      <td>False</td>\n",
       "      <td>False</td>\n",
       "      <td>False</td>\n",
       "      <td>False</td>\n",
       "      <td>True</td>\n",
       "      <td>False</td>\n",
       "    </tr>\n",
       "    <tr>\n",
       "      <th>4</th>\n",
       "      <td>False</td>\n",
       "      <td>False</td>\n",
       "      <td>False</td>\n",
       "      <td>False</td>\n",
       "      <td>False</td>\n",
       "      <td>False</td>\n",
       "      <td>False</td>\n",
       "      <td>True</td>\n",
       "      <td>False</td>\n",
       "    </tr>\n",
       "    <tr>\n",
       "      <th>...</th>\n",
       "      <td>...</td>\n",
       "      <td>...</td>\n",
       "      <td>...</td>\n",
       "      <td>...</td>\n",
       "      <td>...</td>\n",
       "      <td>...</td>\n",
       "      <td>...</td>\n",
       "      <td>...</td>\n",
       "      <td>...</td>\n",
       "    </tr>\n",
       "    <tr>\n",
       "      <th>4625</th>\n",
       "      <td>False</td>\n",
       "      <td>False</td>\n",
       "      <td>False</td>\n",
       "      <td>False</td>\n",
       "      <td>False</td>\n",
       "      <td>False</td>\n",
       "      <td>False</td>\n",
       "      <td>False</td>\n",
       "      <td>False</td>\n",
       "    </tr>\n",
       "    <tr>\n",
       "      <th>4626</th>\n",
       "      <td>False</td>\n",
       "      <td>False</td>\n",
       "      <td>False</td>\n",
       "      <td>False</td>\n",
       "      <td>False</td>\n",
       "      <td>False</td>\n",
       "      <td>False</td>\n",
       "      <td>True</td>\n",
       "      <td>False</td>\n",
       "    </tr>\n",
       "    <tr>\n",
       "      <th>4627</th>\n",
       "      <td>False</td>\n",
       "      <td>False</td>\n",
       "      <td>False</td>\n",
       "      <td>False</td>\n",
       "      <td>False</td>\n",
       "      <td>False</td>\n",
       "      <td>False</td>\n",
       "      <td>False</td>\n",
       "      <td>False</td>\n",
       "    </tr>\n",
       "    <tr>\n",
       "      <th>4628</th>\n",
       "      <td>False</td>\n",
       "      <td>False</td>\n",
       "      <td>False</td>\n",
       "      <td>False</td>\n",
       "      <td>False</td>\n",
       "      <td>False</td>\n",
       "      <td>False</td>\n",
       "      <td>True</td>\n",
       "      <td>False</td>\n",
       "    </tr>\n",
       "    <tr>\n",
       "      <th>4629</th>\n",
       "      <td>False</td>\n",
       "      <td>False</td>\n",
       "      <td>False</td>\n",
       "      <td>False</td>\n",
       "      <td>False</td>\n",
       "      <td>False</td>\n",
       "      <td>False</td>\n",
       "      <td>False</td>\n",
       "      <td>False</td>\n",
       "    </tr>\n",
       "  </tbody>\n",
       "</table>\n",
       "<p>4630 rows × 9 columns</p>\n",
       "</div>"
      ],
      "text/plain": [
       "      Company  Location   Date   Time  Rocket  Mission  RocketStatus  Price  \\\n",
       "0       False     False  False  False   False    False         False   True   \n",
       "1       False     False  False  False   False    False         False   True   \n",
       "2       False     False  False  False   False    False         False   True   \n",
       "3       False     False  False  False   False    False         False   True   \n",
       "4       False     False  False  False   False    False         False   True   \n",
       "...       ...       ...    ...    ...     ...      ...           ...    ...   \n",
       "4625    False     False  False  False   False    False         False  False   \n",
       "4626    False     False  False  False   False    False         False   True   \n",
       "4627    False     False  False  False   False    False         False  False   \n",
       "4628    False     False  False  False   False    False         False   True   \n",
       "4629    False     False  False  False   False    False         False  False   \n",
       "\n",
       "      MissionStatus  \n",
       "0             False  \n",
       "1             False  \n",
       "2             False  \n",
       "3             False  \n",
       "4             False  \n",
       "...             ...  \n",
       "4625          False  \n",
       "4626          False  \n",
       "4627          False  \n",
       "4628          False  \n",
       "4629          False  \n",
       "\n",
       "[4630 rows x 9 columns]"
      ]
     },
     "execution_count": 19,
     "metadata": {},
     "output_type": "execute_result"
    }
   ],
   "source": [
    "sp.isna()"
   ]
  },
  {
   "cell_type": "markdown",
   "metadata": {},
   "source": [
    "**Count of Missing Values**"
   ]
  },
  {
   "cell_type": "code",
   "execution_count": 20,
   "metadata": {},
   "outputs": [
    {
     "data": {
      "text/plain": [
       "Price            3365\n",
       "Time              127\n",
       "MissionStatus       0\n",
       "RocketStatus        0\n",
       "Mission             0\n",
       "Rocket              0\n",
       "Date                0\n",
       "Location            0\n",
       "Company             0\n",
       "dtype: int64"
      ]
     },
     "execution_count": 20,
     "metadata": {},
     "output_type": "execute_result"
    }
   ],
   "source": [
    "sp.isna().sum().sort_values(ascending=False)"
   ]
  },
  {
   "cell_type": "code",
   "execution_count": 21,
   "metadata": {},
   "outputs": [
    {
     "data": {
      "text/plain": [
       "Price            72.678186\n",
       "Time              2.742981\n",
       "MissionStatus     0.000000\n",
       "RocketStatus      0.000000\n",
       "Mission           0.000000\n",
       "Rocket            0.000000\n",
       "Date              0.000000\n",
       "Location          0.000000\n",
       "Company           0.000000\n",
       "dtype: float64"
      ]
     },
     "execution_count": 21,
     "metadata": {},
     "output_type": "execute_result"
    }
   ],
   "source": [
    "Missing_percentage = (sp.isna().sum().sort_values(ascending=False)/len(sp))*100\n",
    "Missing_percentage"
   ]
  },
  {
   "cell_type": "code",
   "execution_count": 22,
   "metadata": {},
   "outputs": [
    {
     "data": {
      "text/plain": [
       "Price    72.678186\n",
       "Time      2.742981\n",
       "dtype: float64"
      ]
     },
     "execution_count": 22,
     "metadata": {},
     "output_type": "execute_result"
    }
   ],
   "source": [
    "md = Missing_percentage[Missing_percentage > 0]\n",
    "md"
   ]
  },
  {
   "cell_type": "code",
   "execution_count": 23,
   "metadata": {},
   "outputs": [
    {
     "data": {
      "text/plain": [
       "<matplotlib.axes._subplots.AxesSubplot at 0x20adb31b670>"
      ]
     },
     "execution_count": 23,
     "metadata": {},
     "output_type": "execute_result"
    },
    {
     "data": {
      "image/png": "[encoded data removed]",
      "text/plain": [
       "<Figure size 432x288 with 1 Axes>"
      ]
     },
     "metadata": {
      "needs_background": "light"
     },
     "output_type": "display_data"
    }
   ],
   "source": [
    "Missing_percentage.plot()"
   ]
  },
  {
   "cell_type": "markdown",
   "metadata": {},
   "source": [
    "**Remove Coloumns if you dont need them**"
   ]
  },
  {
   "cell_type": "markdown",
   "metadata": {},
   "source": [
    "Split the text column with delimter ,"
   ]
  },
  {
   "cell_type": "code",
   "execution_count": 24,
   "metadata": {},
   "outputs": [
    {
     "data": {
      "text/plain": [
       "1"
      ]
     },
     "execution_count": 24,
     "metadata": {},
     "output_type": "execute_result"
    }
   ],
   "source": [
    "sp.columns.get_loc(\"Location\")"
   ]
  },
  {
   "cell_type": "markdown",
   "metadata": {},
   "source": [
    "new_sp = sp.Location.str.split(expand=True)\n",
    "print(new_sp)"
   ]
  },
  {
   "cell_type": "code",
   "execution_count": 25,
   "metadata": {},
   "outputs": [
    {
     "data": {
      "text/html": [
       "<div>\n",
       "<style scoped>\n",
       "    .dataframe tbody tr th:only-of-type {\n",
       "        vertical-align: middle;\n",
       "    }\n",
       "\n",
       "    .dataframe tbody tr th {\n",
       "        vertical-align: top;\n",
       "    }\n",
       "\n",
       "    .dataframe thead th {\n",
       "        text-align: right;\n",
       "    }\n",
       "</style>\n",
       "<table border=\"1\" class=\"dataframe\">\n",
       "  <thead>\n",
       "    <tr style=\"text-align: right;\">\n",
       "      <th></th>\n",
       "      <th>Company</th>\n",
       "      <th>Location</th>\n",
       "      <th>Date</th>\n",
       "      <th>Time</th>\n",
       "      <th>Rocket</th>\n",
       "      <th>Mission</th>\n",
       "      <th>RocketStatus</th>\n",
       "      <th>Price</th>\n",
       "      <th>MissionStatus</th>\n",
       "    </tr>\n",
       "  </thead>\n",
       "  <tbody>\n",
       "    <tr>\n",
       "      <th>0</th>\n",
       "      <td>RVSN USSR</td>\n",
       "      <td>Site 1/5, Baikonur Cosmodrome, Kazakhstan</td>\n",
       "      <td>1957-10-04</td>\n",
       "      <td>2023-06-23 19:28:00</td>\n",
       "      <td>Sputnik 8K71PS</td>\n",
       "      <td>Sputnik-1</td>\n",
       "      <td>Retired</td>\n",
       "      <td>NaN</td>\n",
       "      <td>Success</td>\n",
       "    </tr>\n",
       "    <tr>\n",
       "      <th>1</th>\n",
       "      <td>RVSN USSR</td>\n",
       "      <td>Site 1/5, Baikonur Cosmodrome, Kazakhstan</td>\n",
       "      <td>1957-11-03</td>\n",
       "      <td>2023-06-23 02:30:00</td>\n",
       "      <td>Sputnik 8K71PS</td>\n",
       "      <td>Sputnik-2</td>\n",
       "      <td>Retired</td>\n",
       "      <td>NaN</td>\n",
       "      <td>Success</td>\n",
       "    </tr>\n",
       "    <tr>\n",
       "      <th>2</th>\n",
       "      <td>US Navy</td>\n",
       "      <td>LC-18A, Cape Canaveral AFS, Florida, USA</td>\n",
       "      <td>1957-12-06</td>\n",
       "      <td>2023-06-23 16:44:00</td>\n",
       "      <td>Vanguard</td>\n",
       "      <td>Vanguard TV3</td>\n",
       "      <td>Retired</td>\n",
       "      <td>NaN</td>\n",
       "      <td>Failure</td>\n",
       "    </tr>\n",
       "    <tr>\n",
       "      <th>3</th>\n",
       "      <td>AMBA</td>\n",
       "      <td>LC-26A, Cape Canaveral AFS, Florida, USA</td>\n",
       "      <td>1958-02-01</td>\n",
       "      <td>2023-06-23 03:48:00</td>\n",
       "      <td>Juno I</td>\n",
       "      <td>Explorer 1</td>\n",
       "      <td>Retired</td>\n",
       "      <td>NaN</td>\n",
       "      <td>Success</td>\n",
       "    </tr>\n",
       "    <tr>\n",
       "      <th>4</th>\n",
       "      <td>US Navy</td>\n",
       "      <td>LC-18A, Cape Canaveral AFS, Florida, USA</td>\n",
       "      <td>1958-02-05</td>\n",
       "      <td>2023-06-23 07:33:00</td>\n",
       "      <td>Vanguard</td>\n",
       "      <td>Vanguard TV3BU</td>\n",
       "      <td>Retired</td>\n",
       "      <td>NaN</td>\n",
       "      <td>Failure</td>\n",
       "    </tr>\n",
       "    <tr>\n",
       "      <th>5</th>\n",
       "      <td>AMBA</td>\n",
       "      <td>LC-26A, Cape Canaveral AFS, Florida, USA</td>\n",
       "      <td>1958-03-05</td>\n",
       "      <td>2023-06-23 18:27:00</td>\n",
       "      <td>Juno I</td>\n",
       "      <td>Explorer 2</td>\n",
       "      <td>Retired</td>\n",
       "      <td>NaN</td>\n",
       "      <td>Failure</td>\n",
       "    </tr>\n",
       "    <tr>\n",
       "      <th>6</th>\n",
       "      <td>US Navy</td>\n",
       "      <td>LC-18A, Cape Canaveral AFS, Florida, USA</td>\n",
       "      <td>1958-03-17</td>\n",
       "      <td>2023-06-23 12:15:00</td>\n",
       "      <td>Vanguard</td>\n",
       "      <td>Vanguard 1</td>\n",
       "      <td>Retired</td>\n",
       "      <td>NaN</td>\n",
       "      <td>Success</td>\n",
       "    </tr>\n",
       "    <tr>\n",
       "      <th>7</th>\n",
       "      <td>AMBA</td>\n",
       "      <td>LC-5, Cape Canaveral AFS, Florida, USA</td>\n",
       "      <td>1958-03-26</td>\n",
       "      <td>2023-06-23 17:38:00</td>\n",
       "      <td>Juno I</td>\n",
       "      <td>Explorer 3</td>\n",
       "      <td>Retired</td>\n",
       "      <td>NaN</td>\n",
       "      <td>Success</td>\n",
       "    </tr>\n",
       "    <tr>\n",
       "      <th>8</th>\n",
       "      <td>RVSN USSR</td>\n",
       "      <td>Site 1/5, Baikonur Cosmodrome, Kazakhstan</td>\n",
       "      <td>1958-04-27</td>\n",
       "      <td>2023-06-23 09:01:00</td>\n",
       "      <td>Sputnik 8A91</td>\n",
       "      <td>Sputnik-3 #1</td>\n",
       "      <td>Retired</td>\n",
       "      <td>NaN</td>\n",
       "      <td>Failure</td>\n",
       "    </tr>\n",
       "    <tr>\n",
       "      <th>9</th>\n",
       "      <td>US Navy</td>\n",
       "      <td>LC-18A, Cape Canaveral AFS, Florida, USA</td>\n",
       "      <td>1958-04-28</td>\n",
       "      <td>2023-06-23 02:53:00</td>\n",
       "      <td>Vanguard</td>\n",
       "      <td>Vanguard TV5</td>\n",
       "      <td>Retired</td>\n",
       "      <td>NaN</td>\n",
       "      <td>Failure</td>\n",
       "    </tr>\n",
       "  </tbody>\n",
       "</table>\n",
       "</div>"
      ],
      "text/plain": [
       "     Company                                   Location       Date  \\\n",
       "0  RVSN USSR  Site 1/5, Baikonur Cosmodrome, Kazakhstan 1957-10-04   \n",
       "1  RVSN USSR  Site 1/5, Baikonur Cosmodrome, Kazakhstan 1957-11-03   \n",
       "2    US Navy   LC-18A, Cape Canaveral AFS, Florida, USA 1957-12-06   \n",
       "3       AMBA   LC-26A, Cape Canaveral AFS, Florida, USA 1958-02-01   \n",
       "4    US Navy   LC-18A, Cape Canaveral AFS, Florida, USA 1958-02-05   \n",
       "5       AMBA   LC-26A, Cape Canaveral AFS, Florida, USA 1958-03-05   \n",
       "6    US Navy   LC-18A, Cape Canaveral AFS, Florida, USA 1958-03-17   \n",
       "7       AMBA     LC-5, Cape Canaveral AFS, Florida, USA 1958-03-26   \n",
       "8  RVSN USSR  Site 1/5, Baikonur Cosmodrome, Kazakhstan 1958-04-27   \n",
       "9    US Navy   LC-18A, Cape Canaveral AFS, Florida, USA 1958-04-28   \n",
       "\n",
       "                 Time          Rocket         Mission RocketStatus  Price  \\\n",
       "0 2023-06-23 19:28:00  Sputnik 8K71PS       Sputnik-1      Retired    NaN   \n",
       "1 2023-06-23 02:30:00  Sputnik 8K71PS       Sputnik-2      Retired    NaN   \n",
       "2 2023-06-23 16:44:00        Vanguard    Vanguard TV3      Retired    NaN   \n",
       "3 2023-06-23 03:48:00          Juno I      Explorer 1      Retired    NaN   \n",
       "4 2023-06-23 07:33:00        Vanguard  Vanguard TV3BU      Retired    NaN   \n",
       "5 2023-06-23 18:27:00          Juno I      Explorer 2      Retired    NaN   \n",
       "6 2023-06-23 12:15:00        Vanguard      Vanguard 1      Retired    NaN   \n",
       "7 2023-06-23 17:38:00          Juno I      Explorer 3      Retired    NaN   \n",
       "8 2023-06-23 09:01:00    Sputnik 8A91    Sputnik-3 #1      Retired    NaN   \n",
       "9 2023-06-23 02:53:00        Vanguard    Vanguard TV5      Retired    NaN   \n",
       "\n",
       "  MissionStatus  \n",
       "0       Success  \n",
       "1       Success  \n",
       "2       Failure  \n",
       "3       Success  \n",
       "4       Failure  \n",
       "5       Failure  \n",
       "6       Success  \n",
       "7       Success  \n",
       "8       Failure  \n",
       "9       Failure  "
      ]
     },
     "execution_count": 25,
     "metadata": {},
     "output_type": "execute_result"
    }
   ],
   "source": [
    "sp.head(10)"
   ]
  },
  {
   "cell_type": "code",
   "execution_count": 26,
   "metadata": {},
   "outputs": [
    {
     "name": "stdout",
     "output_type": "stream",
     "text": [
      "        Company                                         Location       Date  \\\n",
      "0     RVSN USSR        Site 1/5, Baikonur Cosmodrome, Kazakhstan 1957-10-04   \n",
      "1     RVSN USSR        Site 1/5, Baikonur Cosmodrome, Kazakhstan 1957-11-03   \n",
      "2       US Navy         LC-18A, Cape Canaveral AFS, Florida, USA 1957-12-06   \n",
      "3          AMBA         LC-26A, Cape Canaveral AFS, Florida, USA 1958-02-01   \n",
      "4       US Navy         LC-18A, Cape Canaveral AFS, Florida, USA 1958-02-05   \n",
      "...         ...                                              ...        ...   \n",
      "4625     SpaceX          SLC-4E, Vandenberg SFB, California, USA 2022-07-22   \n",
      "4626       CASC  LC-101, Wenchang Satellite Launch Center, China 2022-07-24   \n",
      "4627     SpaceX       LC-39A, Kennedy Space Center, Florida, USA 2022-07-24   \n",
      "4628  CAS Space           Jiuquan Satellite Launch Center, China 2022-07-27   \n",
      "4629       CASC     LC-3, Xichang Satellite Launch Center, China 2022-07-29   \n",
      "\n",
      "                    Time            Rocket              Mission RocketStatus  \\\n",
      "0    2023-06-23 19:28:00    Sputnik 8K71PS            Sputnik-1      Retired   \n",
      "1    2023-06-23 02:30:00    Sputnik 8K71PS            Sputnik-2      Retired   \n",
      "2    2023-06-23 16:44:00          Vanguard         Vanguard TV3      Retired   \n",
      "3    2023-06-23 03:48:00            Juno I           Explorer 1      Retired   \n",
      "4    2023-06-23 07:33:00          Vanguard       Vanguard TV3BU      Retired   \n",
      "...                  ...               ...                  ...          ...   \n",
      "4625 2023-06-23 17:39:00  Falcon 9 Block 5   Starlink Group 3-2       Active   \n",
      "4626 2023-06-23 06:22:00     Long March 5B              Wentian       Active   \n",
      "4627 2023-06-23 13:38:00  Falcon 9 Block 5  Starlink Group 4-25       Active   \n",
      "4628 2023-06-23 04:12:00        Zhongke-1A          Demo Flight       Active   \n",
      "4629 2023-06-23 13:28:00     Long March 2D   Yaogan 35 Group 03       Active   \n",
      "\n",
      "      Price MissionStatus  Year  Month  Hour  \n",
      "0       NaN       Success  1957     10  19.0  \n",
      "1       NaN       Success  1957     11   2.0  \n",
      "2       NaN       Failure  1957     12  16.0  \n",
      "3       NaN       Success  1958      2   3.0  \n",
      "4       NaN       Failure  1958      2   7.0  \n",
      "...     ...           ...   ...    ...   ...  \n",
      "4625  67.00       Success  2022      7  17.0  \n",
      "4626    NaN       Success  2022      7   6.0  \n",
      "4627  67.00       Success  2022      7  13.0  \n",
      "4628    NaN       Success  2022      7   4.0  \n",
      "4629  29.75       Success  2022      7  13.0  \n",
      "\n",
      "[4630 rows x 12 columns]\n"
     ]
    }
   ],
   "source": [
    "sp['Year']= sp['Date'].dt.year\n",
    "sp['Month']= sp['Date'].dt.month\n",
    "sp['Hour']= sp['Time'].dt.hour\n",
    "print(sp)"
   ]
  },
  {
   "cell_type": "code",
   "execution_count": 27,
   "metadata": {},
   "outputs": [
    {
     "data": {
      "text/plain": [
       "Index(['Company', 'Location', 'Date', 'Time', 'Rocket', 'Mission',\n",
       "       'RocketStatus', 'Price', 'MissionStatus', 'Year', 'Month', 'Hour'],\n",
       "      dtype='object')"
      ]
     },
     "execution_count": 27,
     "metadata": {},
     "output_type": "execute_result"
    }
   ],
   "source": [
    "sp.columns"
   ]
  },
  {
   "cell_type": "code",
   "execution_count": 28,
   "metadata": {},
   "outputs": [
    {
     "data": {
      "text/html": [
       "<div>\n",
       "<style scoped>\n",
       "    .dataframe tbody tr th:only-of-type {\n",
       "        vertical-align: middle;\n",
       "    }\n",
       "\n",
       "    .dataframe tbody tr th {\n",
       "        vertical-align: top;\n",
       "    }\n",
       "\n",
       "    .dataframe thead th {\n",
       "        text-align: right;\n",
       "    }\n",
       "</style>\n",
       "<table border=\"1\" class=\"dataframe\">\n",
       "  <thead>\n",
       "    <tr style=\"text-align: right;\">\n",
       "      <th></th>\n",
       "      <th>Company</th>\n",
       "      <th>Location</th>\n",
       "      <th>Date</th>\n",
       "      <th>Year</th>\n",
       "      <th>Month</th>\n",
       "      <th>Time</th>\n",
       "      <th>Hour</th>\n",
       "      <th>Rocket</th>\n",
       "      <th>Mission</th>\n",
       "      <th>RocketStatus</th>\n",
       "      <th>Price</th>\n",
       "      <th>MissionStatus</th>\n",
       "    </tr>\n",
       "  </thead>\n",
       "  <tbody>\n",
       "    <tr>\n",
       "      <th>0</th>\n",
       "      <td>RVSN USSR</td>\n",
       "      <td>Site 1/5, Baikonur Cosmodrome, Kazakhstan</td>\n",
       "      <td>1957-10-04</td>\n",
       "      <td>1957</td>\n",
       "      <td>10</td>\n",
       "      <td>2023-06-23 19:28:00</td>\n",
       "      <td>19.0</td>\n",
       "      <td>Sputnik 8K71PS</td>\n",
       "      <td>Sputnik-1</td>\n",
       "      <td>Retired</td>\n",
       "      <td>NaN</td>\n",
       "      <td>Success</td>\n",
       "    </tr>\n",
       "    <tr>\n",
       "      <th>1</th>\n",
       "      <td>RVSN USSR</td>\n",
       "      <td>Site 1/5, Baikonur Cosmodrome, Kazakhstan</td>\n",
       "      <td>1957-11-03</td>\n",
       "      <td>1957</td>\n",
       "      <td>11</td>\n",
       "      <td>2023-06-23 02:30:00</td>\n",
       "      <td>2.0</td>\n",
       "      <td>Sputnik 8K71PS</td>\n",
       "      <td>Sputnik-2</td>\n",
       "      <td>Retired</td>\n",
       "      <td>NaN</td>\n",
       "      <td>Success</td>\n",
       "    </tr>\n",
       "    <tr>\n",
       "      <th>2</th>\n",
       "      <td>US Navy</td>\n",
       "      <td>LC-18A, Cape Canaveral AFS, Florida, USA</td>\n",
       "      <td>1957-12-06</td>\n",
       "      <td>1957</td>\n",
       "      <td>12</td>\n",
       "      <td>2023-06-23 16:44:00</td>\n",
       "      <td>16.0</td>\n",
       "      <td>Vanguard</td>\n",
       "      <td>Vanguard TV3</td>\n",
       "      <td>Retired</td>\n",
       "      <td>NaN</td>\n",
       "      <td>Failure</td>\n",
       "    </tr>\n",
       "    <tr>\n",
       "      <th>3</th>\n",
       "      <td>AMBA</td>\n",
       "      <td>LC-26A, Cape Canaveral AFS, Florida, USA</td>\n",
       "      <td>1958-02-01</td>\n",
       "      <td>1958</td>\n",
       "      <td>2</td>\n",
       "      <td>2023-06-23 03:48:00</td>\n",
       "      <td>3.0</td>\n",
       "      <td>Juno I</td>\n",
       "      <td>Explorer 1</td>\n",
       "      <td>Retired</td>\n",
       "      <td>NaN</td>\n",
       "      <td>Success</td>\n",
       "    </tr>\n",
       "    <tr>\n",
       "      <th>4</th>\n",
       "      <td>US Navy</td>\n",
       "      <td>LC-18A, Cape Canaveral AFS, Florida, USA</td>\n",
       "      <td>1958-02-05</td>\n",
       "      <td>1958</td>\n",
       "      <td>2</td>\n",
       "      <td>2023-06-23 07:33:00</td>\n",
       "      <td>7.0</td>\n",
       "      <td>Vanguard</td>\n",
       "      <td>Vanguard TV3BU</td>\n",
       "      <td>Retired</td>\n",
       "      <td>NaN</td>\n",
       "      <td>Failure</td>\n",
       "    </tr>\n",
       "  </tbody>\n",
       "</table>\n",
       "</div>"
      ],
      "text/plain": [
       "     Company                                   Location       Date  Year  \\\n",
       "0  RVSN USSR  Site 1/5, Baikonur Cosmodrome, Kazakhstan 1957-10-04  1957   \n",
       "1  RVSN USSR  Site 1/5, Baikonur Cosmodrome, Kazakhstan 1957-11-03  1957   \n",
       "2    US Navy   LC-18A, Cape Canaveral AFS, Florida, USA 1957-12-06  1957   \n",
       "3       AMBA   LC-26A, Cape Canaveral AFS, Florida, USA 1958-02-01  1958   \n",
       "4    US Navy   LC-18A, Cape Canaveral AFS, Florida, USA 1958-02-05  1958   \n",
       "\n",
       "   Month                Time  Hour          Rocket         Mission  \\\n",
       "0     10 2023-06-23 19:28:00  19.0  Sputnik 8K71PS       Sputnik-1   \n",
       "1     11 2023-06-23 02:30:00   2.0  Sputnik 8K71PS       Sputnik-2   \n",
       "2     12 2023-06-23 16:44:00  16.0        Vanguard    Vanguard TV3   \n",
       "3      2 2023-06-23 03:48:00   3.0          Juno I      Explorer 1   \n",
       "4      2 2023-06-23 07:33:00   7.0        Vanguard  Vanguard TV3BU   \n",
       "\n",
       "  RocketStatus  Price MissionStatus  \n",
       "0      Retired    NaN       Success  \n",
       "1      Retired    NaN       Success  \n",
       "2      Retired    NaN       Failure  \n",
       "3      Retired    NaN       Success  \n",
       "4      Retired    NaN       Failure  "
      ]
     },
     "execution_count": 28,
     "metadata": {},
     "output_type": "execute_result"
    }
   ],
   "source": [
    "columns = ['Company', 'Location', 'Date', 'Year', 'Month', 'Time','Hour', 'Rocket', 'Mission',\n",
    "       'RocketStatus', 'Price', 'MissionStatus']\n",
    "sp = sp[columns]\n",
    "sp.head(5)"
   ]
  },
  {
   "cell_type": "markdown",
   "metadata": {},
   "source": [
    "# Popular Company"
   ]
  },
  {
   "cell_type": "code",
   "execution_count": 29,
   "metadata": {},
   "outputs": [
    {
     "data": {
      "text/plain": [
       "RVSN USSR           1777\n",
       "CASC                 338\n",
       "Arianespace          293\n",
       "General Dynamics     251\n",
       "VKS RF               216\n",
       "                    ... \n",
       "Landspace              1\n",
       "Sandia                 1\n",
       "Firefly                1\n",
       "Douglas                1\n",
       "CAS Space              1\n",
       "Name: Company, Length: 62, dtype: int64"
      ]
     },
     "execution_count": 29,
     "metadata": {},
     "output_type": "execute_result"
    }
   ],
   "source": [
    "pop_companies= sp.Company.value_counts()\n",
    "pop_companies"
   ]
  },
  {
   "cell_type": "markdown",
   "metadata": {},
   "source": [
    "**Top 10 companies**"
   ]
  },
  {
   "cell_type": "code",
   "execution_count": 30,
   "metadata": {},
   "outputs": [
    {
     "data": {
      "text/plain": [
       "RVSN USSR           1777\n",
       "CASC                 338\n",
       "Arianespace          293\n",
       "General Dynamics     251\n",
       "VKS RF               216\n",
       "NASA                 203\n",
       "SpaceX               182\n",
       "US Air Force         161\n",
       "ULA                  151\n",
       "Boeing               136\n",
       "Name: Company, dtype: int64"
      ]
     },
     "execution_count": 30,
     "metadata": {},
     "output_type": "execute_result"
    }
   ],
   "source": [
    "pop_companies[:10]"
   ]
  },
  {
   "cell_type": "code",
   "execution_count": 31,
   "metadata": {},
   "outputs": [
    {
     "data": {
      "text/plain": [
       "<matplotlib.axes._subplots.AxesSubplot at 0x20ad568e250>"
      ]
     },
     "execution_count": 31,
     "metadata": {},
     "output_type": "execute_result"
    },
    {
     "data": {
      "image/png": "[encoded data removed]",
      "text/plain": [
       "<Figure size 432x288 with 1 Axes>"
      ]
     },
     "metadata": {
      "needs_background": "light"
     },
     "output_type": "display_data"
    }
   ],
   "source": [
    "pop_companies[:10].plot(kind='barh')"
   ]
  },
  {
   "cell_type": "code",
   "execution_count": 32,
   "metadata": {
    "scrolled": false
   },
   "outputs": [
    {
     "data": {
      "text/plain": [
       "RVSN USSR           38.380130\n",
       "CASC                 7.300216\n",
       "Arianespace          6.328294\n",
       "General Dynamics     5.421166\n",
       "VKS RF               4.665227\n",
       "                      ...    \n",
       "Landspace            0.021598\n",
       "Sandia               0.021598\n",
       "Firefly              0.021598\n",
       "Douglas              0.021598\n",
       "CAS Space            0.021598\n",
       "Name: Company, Length: 62, dtype: float64"
      ]
     },
     "execution_count": 32,
     "metadata": {},
     "output_type": "execute_result"
    }
   ],
   "source": [
    "pg_pop_companies= (sp.Company.value_counts())/(len(sp['Company']))*100\n",
    "pg_pop_companies"
   ]
  },
  {
   "cell_type": "code",
   "execution_count": 33,
   "metadata": {},
   "outputs": [
    {
     "data": {
      "text/plain": [
       "RVSN USSR           38.380130\n",
       "CASC                 7.300216\n",
       "Arianespace          6.328294\n",
       "General Dynamics     5.421166\n",
       "VKS RF               4.665227\n",
       "NASA                 4.384449\n",
       "SpaceX               3.930886\n",
       "US Air Force         3.477322\n",
       "ULA                  3.261339\n",
       "Boeing               2.937365\n",
       "Name: Company, dtype: float64"
      ]
     },
     "execution_count": 33,
     "metadata": {},
     "output_type": "execute_result"
    }
   ],
   "source": [
    "pg_pop_companies[:10]"
   ]
  },
  {
   "cell_type": "markdown",
   "metadata": {},
   "source": [
    "### Insights : USSR dominates space launches by 38% . NASA is at 6th pos. with 4% (203) launches"
   ]
  },
  {
   "cell_type": "markdown",
   "metadata": {},
   "source": [
    "# Popular Rockets"
   ]
  },
  {
   "cell_type": "code",
   "execution_count": 34,
   "metadata": {},
   "outputs": [
    {
     "data": {
      "text/plain": [
       "Cosmos-3M (11K65M)     446\n",
       "Voskhod                299\n",
       "Molniya-M /Block ML    128\n",
       "Cosmos-2I (63SM)       126\n",
       "Soyuz U                125\n",
       "                      ... \n",
       "OS-M1                    1\n",
       "Long March 6A            1\n",
       "Scout X-2                1\n",
       "Proton-M                 1\n",
       "Atlas-SLV3 Burner-2      1\n",
       "Name: Rocket, Length: 370, dtype: int64"
      ]
     },
     "execution_count": 34,
     "metadata": {},
     "output_type": "execute_result"
    }
   ],
   "source": [
    "popular_rockets = sp.Rocket.value_counts()\n",
    "popular_rockets"
   ]
  },
  {
   "cell_type": "markdown",
   "metadata": {},
   "source": [
    "**Top and Bottom 10 Rockets**"
   ]
  },
  {
   "cell_type": "code",
   "execution_count": 35,
   "metadata": {
    "scrolled": true
   },
   "outputs": [
    {
     "data": {
      "text/plain": [
       "Cosmos-3M (11K65M)      446\n",
       "Voskhod                 299\n",
       "Molniya-M /Block ML     128\n",
       "Cosmos-2I (63SM)        126\n",
       "Soyuz U                 125\n",
       "Tsyklon-3               122\n",
       "Falcon 9 Block 5        111\n",
       "Tsyklon-2               106\n",
       "Vostok-2M                93\n",
       "Molniya-M /Block 2BL     87\n",
       "Ariane 5 ECA             80\n",
       "Delta II 7925            62\n",
       "Atlas-SLV3 Agena-D       47\n",
       "Vostok-2                 45\n",
       "Long March 2D            44\n",
       "Name: Rocket, dtype: int64"
      ]
     },
     "execution_count": 35,
     "metadata": {},
     "output_type": "execute_result"
    }
   ],
   "source": [
    "popular_rockets[:15]"
   ]
  },
  {
   "cell_type": "code",
   "execution_count": 36,
   "metadata": {},
   "outputs": [
    {
     "data": {
      "text/plain": [
       "<matplotlib.axes._subplots.AxesSubplot at 0x20adae73760>"
      ]
     },
     "execution_count": 36,
     "metadata": {},
     "output_type": "execute_result"
    },
    {
     "data": {
      "image/png": "[encoded data removed]",
      "text/plain": [
       "<Figure size 432x288 with 1 Axes>"
      ]
     },
     "metadata": {
      "needs_background": "light"
     },
     "output_type": "display_data"
    }
   ],
   "source": [
    "popular_rockets[:10].plot(kind='bar')"
   ]
  },
  {
   "cell_type": "code",
   "execution_count": 37,
   "metadata": {},
   "outputs": [
    {
     "data": {
      "text/plain": [
       "Proton K/Block-DM      1\n",
       "Delta II 7425-10C      1\n",
       "Long March 2D/YZ-3     1\n",
       "Long March 2C/SMA      1\n",
       "Atlas V 511            1\n",
       "OS-M1                  1\n",
       "Long March 6A          1\n",
       "Scout X-2              1\n",
       "Proton-M               1\n",
       "Atlas-SLV3 Burner-2    1\n",
       "Name: Rocket, dtype: int64"
      ]
     },
     "execution_count": 37,
     "metadata": {},
     "output_type": "execute_result"
    }
   ],
   "source": [
    "popular_rockets[-10:]  #Least Popular Rockets"
   ]
  },
  {
   "cell_type": "markdown",
   "metadata": {},
   "source": [
    "**Count of date by year**"
   ]
  },
  {
   "cell_type": "code",
   "execution_count": 38,
   "metadata": {},
   "outputs": [
    {
     "data": {
      "text/plain": [
       "<matplotlib.axes._subplots.AxesSubplot at 0x20adacf9190>"
      ]
     },
     "execution_count": 38,
     "metadata": {},
     "output_type": "execute_result"
    },
    {
     "data": {
      "image/png": "[encoded data removed]",
      "text/plain": [
       "<Figure size 432x288 with 1 Axes>"
      ]
     },
     "metadata": {
      "needs_background": "light"
     },
     "output_type": "display_data"
    }
   ],
   "source": [
    "y_c = sp[\"Year\"].groupby(sp[\"Year\"]).count()\n",
    "y_c.plot(kind=\"bar\")"
   ]
  },
  {
   "cell_type": "code",
   "execution_count": 39,
   "metadata": {},
   "outputs": [
    {
     "name": "stdout",
     "output_type": "stream",
     "text": [
      "Year\n",
      "2021    157\n",
      "1971    119\n",
      "2020    119\n",
      "2018    117\n",
      "1977    114\n",
      "1975    113\n",
      "1976    113\n",
      "2019    109\n",
      "1970    107\n",
      "1967    106\n",
      "Name: Year, dtype: int64\n"
     ]
    }
   ],
   "source": [
    "top_years = y_c.sort_values(ascending=False)[:10]\n",
    "print(top_years)"
   ]
  },
  {
   "cell_type": "code",
   "execution_count": 40,
   "metadata": {},
   "outputs": [
    {
     "data": {
      "text/plain": [
       "<matplotlib.axes._subplots.AxesSubplot at 0x20adb1b6ee0>"
      ]
     },
     "execution_count": 40,
     "metadata": {},
     "output_type": "execute_result"
    },
    {
     "data": {
      "image/png": "[encoded data removed]",
      "text/plain": [
       "<Figure size 432x288 with 1 Axes>"
      ]
     },
     "metadata": {
      "needs_background": "light"
     },
     "output_type": "display_data"
    }
   ],
   "source": [
    "top_years.plot(kind='bar')"
   ]
  },
  {
   "cell_type": "markdown",
   "metadata": {},
   "source": [
    "### Insights : In 1971  & 2020 we had made 119 launches"
   ]
  },
  {
   "cell_type": "code",
   "execution_count": 41,
   "metadata": {},
   "outputs": [
    {
     "data": {
      "text/plain": [
       "(1949.999, 1999.0]    3110\n",
       "Name: Year, dtype: int64"
      ]
     },
     "execution_count": 41,
     "metadata": {},
     "output_type": "execute_result"
    }
   ],
   "source": [
    "launchesin90 = (sp[\"Year\"]).value_counts(bins=[1950,1999])\n",
    "launchesin90"
   ]
  },
  {
   "cell_type": "code",
   "execution_count": 42,
   "metadata": {},
   "outputs": [
    {
     "data": {
      "text/plain": [
       "(1999.999, 2022.0]    1520\n",
       "Name: Year, dtype: int64"
      ]
     },
     "execution_count": 42,
     "metadata": {},
     "output_type": "execute_result"
    }
   ],
   "source": [
    "launchesin2k = (sp[\"Year\"]).value_counts(bins=[2000,2022])\n",
    "launchesin2k"
   ]
  },
  {
   "cell_type": "code",
   "execution_count": 43,
   "metadata": {},
   "outputs": [
    {
     "data": {
      "text/plain": [
       "(1949.999, 1999.0]    67.170626\n",
       "Name: Year, dtype: float64"
      ]
     },
     "execution_count": 43,
     "metadata": {},
     "output_type": "execute_result"
    }
   ],
   "source": [
    "launchin90_perc = (launchesin90/len(sp)) *100\n",
    "launchin90_perc"
   ]
  },
  {
   "cell_type": "code",
   "execution_count": 44,
   "metadata": {},
   "outputs": [
    {
     "data": {
      "text/plain": [
       "(1999.999, 2022.0]    32.829374\n",
       "Name: Year, dtype: float64"
      ]
     },
     "execution_count": 44,
     "metadata": {},
     "output_type": "execute_result"
    }
   ],
   "source": [
    "launchin2k_perc= (launchesin2k/len(sp))*100\n",
    "launchin2k_perc"
   ]
  },
  {
   "cell_type": "markdown",
   "metadata": {},
   "source": [
    "### Insights: Space Industry was so active before 2000s"
   ]
  },
  {
   "cell_type": "code",
   "execution_count": 45,
   "metadata": {},
   "outputs": [
    {
     "data": {
      "text/plain": [
       "(2016.583, 2022.0]      687\n",
       "(1967.833, 1973.25]     634\n",
       "(1973.25, 1978.667]     535\n",
       "(1962.417, 1967.833]    395\n",
       "(1978.667, 1984.083]    377\n",
       "(1994.917, 2000.333]    373\n",
       "(1989.5, 1994.917]      326\n",
       "(1984.083, 1989.5]      303\n",
       "(2011.167, 2016.583]    279\n",
       "(2005.75, 2011.167]     276\n",
       "(1956.934, 1962.417]    224\n",
       "(2000.333, 2005.75]     221\n",
       "Name: Year, dtype: int64"
      ]
     },
     "execution_count": 45,
     "metadata": {},
     "output_type": "execute_result"
    }
   ],
   "source": [
    "(sp[\"Year\"]).value_counts(bins=12)"
   ]
  },
  {
   "cell_type": "markdown",
   "metadata": {},
   "source": [
    "### Insights: 1967-1973 was peak in Space race  with around634 launches.\n",
    "### Stagnation is clearly visible from comparing launches in 1956-1962 and 2000-2005 ( last 2 entries)"
   ]
  },
  {
   "cell_type": "code",
   "execution_count": 46,
   "metadata": {},
   "outputs": [
    {
     "data": {
      "text/plain": [
       "12    492\n",
       "6     431\n",
       "4     409\n",
       "10    403\n",
       "8     391\n",
       "9     386\n",
       "7     380\n",
       "3     378\n",
       "11    365\n",
       "2     361\n",
       "5     350\n",
       "1     284\n",
       "Name: Month, dtype: int64"
      ]
     },
     "execution_count": 46,
     "metadata": {},
     "output_type": "execute_result"
    }
   ],
   "source": [
    "launch_months = (sp[\"Month\"]).value_counts()\n",
    "launch_months"
   ]
  },
  {
   "cell_type": "markdown",
   "metadata": {},
   "source": [
    "### Insights: Most Launches happened in December, June, April"
   ]
  },
  {
   "cell_type": "code",
   "execution_count": 47,
   "metadata": {},
   "outputs": [
    {
     "data": {
      "text/plain": [
       "11.0    244\n",
       "12.0    241\n",
       "9.0     240\n",
       "10.0    228\n",
       "22.0    220\n",
       "13.0    216\n",
       "8.0     203\n",
       "14.0    201\n",
       "0.0     197\n",
       "7.0     192\n",
       "23.0    190\n",
       "21.0    187\n",
       "18.0    186\n",
       "1.0     180\n",
       "15.0    175\n",
       "3.0     165\n",
       "20.0    163\n",
       "16.0    163\n",
       "6.0     162\n",
       "4.0     155\n",
       "5.0     154\n",
       "19.0    154\n",
       "17.0    153\n",
       "2.0     134\n",
       "Name: Hour, dtype: int64"
      ]
     },
     "execution_count": 47,
     "metadata": {},
     "output_type": "execute_result"
    }
   ],
   "source": [
    "most_launch_hour = (sp[\"Hour\"]).value_counts()\n",
    "most_launch_hour"
   ]
  },
  {
   "cell_type": "code",
   "execution_count": 58,
   "metadata": {
    "scrolled": false
   },
   "outputs": [
    {
     "data": {
      "text/plain": [
       "<matplotlib.axes._subplots.AxesSubplot at 0x20adaf44820>"
      ]
     },
     "execution_count": 58,
     "metadata": {},
     "output_type": "execute_result"
    },
    {
     "data": {
      "image/png": "[encoded data removed]",
      "text/plain": [
       "<Figure size 432x288 with 1 Axes>"
      ]
     },
     "metadata": {
      "needs_background": "light"
     },
     "output_type": "display_data"
    }
   ],
   "source": [
    "most_launch_hour.plot(kind='bar')"
   ]
  },
  {
   "cell_type": "code",
   "execution_count": 74,
   "metadata": {
    "scrolled": false
   },
   "outputs": [
    {
     "data": {
      "text/plain": [
       "(12.0, 24.0]     2008\n",
       "(6.0, 12.0]      1348\n",
       "(-0.001, 6.0]    1147\n",
       "Name: Hour, dtype: int64"
      ]
     },
     "execution_count": 74,
     "metadata": {},
     "output_type": "execute_result"
    }
   ],
   "source": [
    "(sp[\"Hour\"]).value_counts(bins=[0,6,12,24])"
   ]
  },
  {
   "cell_type": "code",
   "execution_count": 75,
   "metadata": {},
   "outputs": [
    {
     "data": {
      "text/plain": [
       "(12.0, 24.0]     0.433693\n",
       "(6.0, 12.0]      0.291145\n",
       "(-0.001, 6.0]    0.247732\n",
       "Name: Hour, dtype: float64"
      ]
     },
     "execution_count": 75,
     "metadata": {},
     "output_type": "execute_result"
    }
   ],
   "source": [
    "(sp[\"Hour\"]).value_counts(bins=[0,6,12,24],normalize=True)"
   ]
  },
  {
   "cell_type": "markdown",
   "metadata": {},
   "source": [
    "### Insights : 43% of launches took place after noon"
   ]
  },
  {
   "cell_type": "code",
   "execution_count": 78,
   "metadata": {},
   "outputs": [
    {
     "data": {
      "text/plain": [
       "(6.0, 12.0]      1348\n",
       "(-0.001, 6.0]    1147\n",
       "(12.0, 18.0]     1094\n",
       "(18.0, 24.0]      914\n",
       "Name: Hour, dtype: int64"
      ]
     },
     "execution_count": 78,
     "metadata": {},
     "output_type": "execute_result"
    }
   ],
   "source": [
    "(sp[\"Hour\"]).value_counts(bins=[0,6,12,18,24])"
   ]
  },
  {
   "cell_type": "markdown",
   "metadata": {},
   "source": [
    "### Insights : among 43% of launches after noon, most launches took place between 12-18 (12-6pm)"
   ]
  },
  {
   "cell_type": "code",
   "execution_count": 83,
   "metadata": {},
   "outputs": [
    {
     "data": {
      "text/plain": [
       "(9.0, 12.0]      713\n",
       "(-0.001, 3.0]    676\n",
       "(6.0, 9.0]       635\n",
       "(12.0, 15.0]     592\n",
       "(18.0, 21.0]     504\n",
       "(15.0, 18.0]     502\n",
       "(3.0, 6.0]       471\n",
       "(21.0, 24.0]     410\n",
       "Name: Hour, dtype: int64"
      ]
     },
     "execution_count": 83,
     "metadata": {},
     "output_type": "execute_result"
    }
   ],
   "source": [
    "(sp[\"Hour\"]).value_counts(bins=[0,3,6,9,12,15,18,21,24])"
   ]
  },
  {
   "cell_type": "markdown",
   "metadata": {},
   "source": [
    "### Insights: 410 launches took place after 9pm"
   ]
  },
  {
   "cell_type": "code",
   "execution_count": 85,
   "metadata": {},
   "outputs": [
    {
     "data": {
      "text/plain": [
       "<matplotlib.axes._subplots.AxesSubplot at 0x20adac85370>"
      ]
     },
     "execution_count": 85,
     "metadata": {},
     "output_type": "execute_result"
    },
    {
     "data": {
      "image/png": "[encoded data removed]",
      "text/plain": [
       "<Figure size 432x288 with 1 Axes>"
      ]
     },
     "metadata": {
      "needs_background": "light"
     },
     "output_type": "display_data"
    }
   ],
   "source": [
    "sp['Price'].plot(kind='hist')"
   ]
  },
  {
   "cell_type": "code",
   "execution_count": 86,
   "metadata": {
    "scrolled": true
   },
   "outputs": [
    {
     "data": {
      "text/plain": [
       "303     63.23\n",
       "323     63.23\n",
       "330     63.23\n",
       "352     63.23\n",
       "468     59.00\n",
       "        ...  \n",
       "4623    30.80\n",
       "4624    67.00\n",
       "4625    67.00\n",
       "4627    67.00\n",
       "4629    29.75\n",
       "Name: Price, Length: 1265, dtype: float64"
      ]
     },
     "execution_count": 86,
     "metadata": {},
     "output_type": "execute_result"
    }
   ],
   "source": [
    "notnullprice = sp['Price'][~sp['Price'].isnull()]\n",
    "notnullprice"
   ]
  },
  {
   "cell_type": "code",
   "execution_count": 93,
   "metadata": {},
   "outputs": [
    {
     "data": {
      "text/plain": [
       "3171     450.0\n",
       "3174     450.0\n",
       "2462     450.0\n",
       "2401     450.0\n",
       "2432     450.0\n",
       "739     1160.0\n",
       "720     1160.0\n",
       "607     1160.0\n",
       "1174    1160.0\n",
       "763     1160.0\n",
       "1143    1160.0\n",
       "1080    1160.0\n",
       "995     1160.0\n",
       "939     1160.0\n",
       "778     1160.0\n",
       "812     1160.0\n",
       "640     1160.0\n",
       "848     1160.0\n",
       "2407    5000.0\n",
       "2323    5000.0\n",
       "Name: Price, dtype: float64"
      ]
     },
     "execution_count": 93,
     "metadata": {},
     "output_type": "execute_result"
    }
   ],
   "source": [
    "notnullprice.sort_values().tail(20)"
   ]
  },
  {
   "cell_type": "markdown",
   "metadata": {},
   "source": [
    "### Insights:There were 2 launches with 5000M and 13 launches with 1160M"
   ]
  },
  {
   "cell_type": "code",
   "execution_count": 105,
   "metadata": {
    "scrolled": true
   },
   "outputs": [
    {
     "data": {
      "text/html": [
       "<div>\n",
       "<style scoped>\n",
       "    .dataframe tbody tr th:only-of-type {\n",
       "        vertical-align: middle;\n",
       "    }\n",
       "\n",
       "    .dataframe tbody tr th {\n",
       "        vertical-align: top;\n",
       "    }\n",
       "\n",
       "    .dataframe thead th {\n",
       "        text-align: right;\n",
       "    }\n",
       "</style>\n",
       "<table border=\"1\" class=\"dataframe\">\n",
       "  <thead>\n",
       "    <tr style=\"text-align: right;\">\n",
       "      <th></th>\n",
       "      <th>Company</th>\n",
       "      <th>Location</th>\n",
       "      <th>Date</th>\n",
       "      <th>Year</th>\n",
       "      <th>Month</th>\n",
       "      <th>Time</th>\n",
       "      <th>Hour</th>\n",
       "      <th>Rocket</th>\n",
       "      <th>Mission</th>\n",
       "      <th>RocketStatus</th>\n",
       "      <th>Price</th>\n",
       "      <th>MissionStatus</th>\n",
       "    </tr>\n",
       "  </thead>\n",
       "  <tbody>\n",
       "    <tr>\n",
       "      <th>2323</th>\n",
       "      <td>RVSN USSR</td>\n",
       "      <td>Site 250, Baikonur Cosmodrome, Kazakhstan</td>\n",
       "      <td>1987-05-15</td>\n",
       "      <td>1987</td>\n",
       "      <td>5</td>\n",
       "      <td>2023-06-23 17:30:00</td>\n",
       "      <td>17.0</td>\n",
       "      <td>Energiya/Polyus</td>\n",
       "      <td>Polyus Space Station</td>\n",
       "      <td>Retired</td>\n",
       "      <td>5000.0</td>\n",
       "      <td>Success</td>\n",
       "    </tr>\n",
       "    <tr>\n",
       "      <th>2407</th>\n",
       "      <td>RVSN USSR</td>\n",
       "      <td>Site 110/37, Baikonur Cosmodrome, Kazakhstan</td>\n",
       "      <td>1988-11-15</td>\n",
       "      <td>1988</td>\n",
       "      <td>11</td>\n",
       "      <td>2023-06-23 03:00:00</td>\n",
       "      <td>3.0</td>\n",
       "      <td>Energiya/Buran</td>\n",
       "      <td>Buran</td>\n",
       "      <td>Retired</td>\n",
       "      <td>5000.0</td>\n",
       "      <td>Success</td>\n",
       "    </tr>\n",
       "  </tbody>\n",
       "</table>\n",
       "</div>"
      ],
      "text/plain": [
       "        Company                                      Location       Date  \\\n",
       "2323  RVSN USSR     Site 250, Baikonur Cosmodrome, Kazakhstan 1987-05-15   \n",
       "2407  RVSN USSR  Site 110/37, Baikonur Cosmodrome, Kazakhstan 1988-11-15   \n",
       "\n",
       "      Year  Month                Time  Hour           Rocket  \\\n",
       "2323  1987      5 2023-06-23 17:30:00  17.0  Energiya/Polyus   \n",
       "2407  1988     11 2023-06-23 03:00:00   3.0   Energiya/Buran   \n",
       "\n",
       "                   Mission RocketStatus   Price MissionStatus  \n",
       "2323  Polyus Space Station      Retired  5000.0       Success  \n",
       "2407                 Buran      Retired  5000.0       Success  "
      ]
     },
     "execution_count": 105,
     "metadata": {},
     "output_type": "execute_result"
    }
   ],
   "source": [
    "sp.loc[(sp['Price']==5000)]"
   ]
  },
  {
   "cell_type": "code",
   "execution_count": 106,
   "metadata": {
    "scrolled": true
   },
   "outputs": [
    {
     "data": {
      "text/html": [
       "<div>\n",
       "<style scoped>\n",
       "    .dataframe tbody tr th:only-of-type {\n",
       "        vertical-align: middle;\n",
       "    }\n",
       "\n",
       "    .dataframe tbody tr th {\n",
       "        vertical-align: top;\n",
       "    }\n",
       "\n",
       "    .dataframe thead th {\n",
       "        text-align: right;\n",
       "    }\n",
       "</style>\n",
       "<table border=\"1\" class=\"dataframe\">\n",
       "  <thead>\n",
       "    <tr style=\"text-align: right;\">\n",
       "      <th></th>\n",
       "      <th>Company</th>\n",
       "      <th>Location</th>\n",
       "      <th>Date</th>\n",
       "      <th>Year</th>\n",
       "      <th>Month</th>\n",
       "      <th>Time</th>\n",
       "      <th>Hour</th>\n",
       "      <th>Rocket</th>\n",
       "      <th>Mission</th>\n",
       "      <th>RocketStatus</th>\n",
       "      <th>Price</th>\n",
       "      <th>MissionStatus</th>\n",
       "    </tr>\n",
       "  </thead>\n",
       "  <tbody>\n",
       "    <tr>\n",
       "      <th>607</th>\n",
       "      <td>NASA</td>\n",
       "      <td>LC-39A, Kennedy Space Center, Florida, USA</td>\n",
       "      <td>1967-11-09</td>\n",
       "      <td>1967</td>\n",
       "      <td>11</td>\n",
       "      <td>2023-06-23 12:00:00</td>\n",
       "      <td>12.0</td>\n",
       "      <td>Saturn V</td>\n",
       "      <td>Apollo 4</td>\n",
       "      <td>Retired</td>\n",
       "      <td>1160.0</td>\n",
       "      <td>Success</td>\n",
       "    </tr>\n",
       "    <tr>\n",
       "      <th>640</th>\n",
       "      <td>NASA</td>\n",
       "      <td>LC-39A, Kennedy Space Center, Florida, USA</td>\n",
       "      <td>1968-04-04</td>\n",
       "      <td>1968</td>\n",
       "      <td>4</td>\n",
       "      <td>2023-06-23 12:00:00</td>\n",
       "      <td>12.0</td>\n",
       "      <td>Saturn V</td>\n",
       "      <td>Apollo 6</td>\n",
       "      <td>Retired</td>\n",
       "      <td>1160.0</td>\n",
       "      <td>Partial Failure</td>\n",
       "    </tr>\n",
       "    <tr>\n",
       "      <th>720</th>\n",
       "      <td>NASA</td>\n",
       "      <td>LC-39A, Kennedy Space Center, Florida, USA</td>\n",
       "      <td>1968-12-21</td>\n",
       "      <td>1968</td>\n",
       "      <td>12</td>\n",
       "      <td>2023-06-23 12:51:00</td>\n",
       "      <td>12.0</td>\n",
       "      <td>Saturn V</td>\n",
       "      <td>Apollo 8</td>\n",
       "      <td>Retired</td>\n",
       "      <td>1160.0</td>\n",
       "      <td>Success</td>\n",
       "    </tr>\n",
       "    <tr>\n",
       "      <th>739</th>\n",
       "      <td>NASA</td>\n",
       "      <td>LC-39A, Kennedy Space Center, Florida, USA</td>\n",
       "      <td>1969-03-03</td>\n",
       "      <td>1969</td>\n",
       "      <td>3</td>\n",
       "      <td>2023-06-23 16:00:00</td>\n",
       "      <td>16.0</td>\n",
       "      <td>Saturn V</td>\n",
       "      <td>Apollo 9</td>\n",
       "      <td>Retired</td>\n",
       "      <td>1160.0</td>\n",
       "      <td>Success</td>\n",
       "    </tr>\n",
       "    <tr>\n",
       "      <th>763</th>\n",
       "      <td>NASA</td>\n",
       "      <td>LC-39B, Kennedy Space Center, Florida, USA</td>\n",
       "      <td>1969-05-18</td>\n",
       "      <td>1969</td>\n",
       "      <td>5</td>\n",
       "      <td>2023-06-23 16:49:00</td>\n",
       "      <td>16.0</td>\n",
       "      <td>Saturn V</td>\n",
       "      <td>Apollo 10</td>\n",
       "      <td>Retired</td>\n",
       "      <td>1160.0</td>\n",
       "      <td>Success</td>\n",
       "    </tr>\n",
       "    <tr>\n",
       "      <th>778</th>\n",
       "      <td>NASA</td>\n",
       "      <td>LC-39A, Kennedy Space Center, Florida, USA</td>\n",
       "      <td>1969-07-16</td>\n",
       "      <td>1969</td>\n",
       "      <td>7</td>\n",
       "      <td>2023-06-23 13:32:00</td>\n",
       "      <td>13.0</td>\n",
       "      <td>Saturn V</td>\n",
       "      <td>Apollo 11</td>\n",
       "      <td>Retired</td>\n",
       "      <td>1160.0</td>\n",
       "      <td>Success</td>\n",
       "    </tr>\n",
       "    <tr>\n",
       "      <th>812</th>\n",
       "      <td>NASA</td>\n",
       "      <td>LC-39A, Kennedy Space Center, Florida, USA</td>\n",
       "      <td>1969-11-14</td>\n",
       "      <td>1969</td>\n",
       "      <td>11</td>\n",
       "      <td>2023-06-23 16:22:00</td>\n",
       "      <td>16.0</td>\n",
       "      <td>Saturn V</td>\n",
       "      <td>Apollo 12</td>\n",
       "      <td>Retired</td>\n",
       "      <td>1160.0</td>\n",
       "      <td>Success</td>\n",
       "    </tr>\n",
       "    <tr>\n",
       "      <th>848</th>\n",
       "      <td>NASA</td>\n",
       "      <td>LC-39A, Kennedy Space Center, Florida, USA</td>\n",
       "      <td>1970-04-11</td>\n",
       "      <td>1970</td>\n",
       "      <td>4</td>\n",
       "      <td>2023-06-23 19:13:00</td>\n",
       "      <td>19.0</td>\n",
       "      <td>Saturn V</td>\n",
       "      <td>Apollo 13</td>\n",
       "      <td>Retired</td>\n",
       "      <td>1160.0</td>\n",
       "      <td>Success</td>\n",
       "    </tr>\n",
       "    <tr>\n",
       "      <th>939</th>\n",
       "      <td>NASA</td>\n",
       "      <td>LC-39A, Kennedy Space Center, Florida, USA</td>\n",
       "      <td>1971-01-31</td>\n",
       "      <td>1971</td>\n",
       "      <td>1</td>\n",
       "      <td>2023-06-23 21:03:00</td>\n",
       "      <td>21.0</td>\n",
       "      <td>Saturn V</td>\n",
       "      <td>Apollo 14</td>\n",
       "      <td>Retired</td>\n",
       "      <td>1160.0</td>\n",
       "      <td>Success</td>\n",
       "    </tr>\n",
       "    <tr>\n",
       "      <th>995</th>\n",
       "      <td>NASA</td>\n",
       "      <td>LC-39A, Kennedy Space Center, Florida, USA</td>\n",
       "      <td>1971-07-26</td>\n",
       "      <td>1971</td>\n",
       "      <td>7</td>\n",
       "      <td>2023-06-23 13:34:00</td>\n",
       "      <td>13.0</td>\n",
       "      <td>Saturn V</td>\n",
       "      <td>Apollo 15</td>\n",
       "      <td>Retired</td>\n",
       "      <td>1160.0</td>\n",
       "      <td>Success</td>\n",
       "    </tr>\n",
       "    <tr>\n",
       "      <th>1080</th>\n",
       "      <td>NASA</td>\n",
       "      <td>LC-39A, Kennedy Space Center, Florida, USA</td>\n",
       "      <td>1972-04-16</td>\n",
       "      <td>1972</td>\n",
       "      <td>4</td>\n",
       "      <td>2023-06-23 17:54:00</td>\n",
       "      <td>17.0</td>\n",
       "      <td>Saturn V</td>\n",
       "      <td>Apollo 16</td>\n",
       "      <td>Retired</td>\n",
       "      <td>1160.0</td>\n",
       "      <td>Success</td>\n",
       "    </tr>\n",
       "    <tr>\n",
       "      <th>1143</th>\n",
       "      <td>NASA</td>\n",
       "      <td>LC-39A, Kennedy Space Center, Florida, USA</td>\n",
       "      <td>1972-12-19</td>\n",
       "      <td>1972</td>\n",
       "      <td>12</td>\n",
       "      <td>2023-06-23 19:24:00</td>\n",
       "      <td>19.0</td>\n",
       "      <td>Saturn V</td>\n",
       "      <td>Apollo 17</td>\n",
       "      <td>Retired</td>\n",
       "      <td>1160.0</td>\n",
       "      <td>Success</td>\n",
       "    </tr>\n",
       "    <tr>\n",
       "      <th>1174</th>\n",
       "      <td>NASA</td>\n",
       "      <td>LC-39A, Kennedy Space Center, Florida, USA</td>\n",
       "      <td>1973-05-14</td>\n",
       "      <td>1973</td>\n",
       "      <td>5</td>\n",
       "      <td>2023-06-23 17:30:00</td>\n",
       "      <td>17.0</td>\n",
       "      <td>Saturn V</td>\n",
       "      <td>Skylab 1</td>\n",
       "      <td>Retired</td>\n",
       "      <td>1160.0</td>\n",
       "      <td>Success</td>\n",
       "    </tr>\n",
       "  </tbody>\n",
       "</table>\n",
       "</div>"
      ],
      "text/plain": [
       "     Company                                    Location       Date  Year  \\\n",
       "607     NASA  LC-39A, Kennedy Space Center, Florida, USA 1967-11-09  1967   \n",
       "640     NASA  LC-39A, Kennedy Space Center, Florida, USA 1968-04-04  1968   \n",
       "720     NASA  LC-39A, Kennedy Space Center, Florida, USA 1968-12-21  1968   \n",
       "739     NASA  LC-39A, Kennedy Space Center, Florida, USA 1969-03-03  1969   \n",
       "763     NASA  LC-39B, Kennedy Space Center, Florida, USA 1969-05-18  1969   \n",
       "778     NASA  LC-39A, Kennedy Space Center, Florida, USA 1969-07-16  1969   \n",
       "812     NASA  LC-39A, Kennedy Space Center, Florida, USA 1969-11-14  1969   \n",
       "848     NASA  LC-39A, Kennedy Space Center, Florida, USA 1970-04-11  1970   \n",
       "939     NASA  LC-39A, Kennedy Space Center, Florida, USA 1971-01-31  1971   \n",
       "995     NASA  LC-39A, Kennedy Space Center, Florida, USA 1971-07-26  1971   \n",
       "1080    NASA  LC-39A, Kennedy Space Center, Florida, USA 1972-04-16  1972   \n",
       "1143    NASA  LC-39A, Kennedy Space Center, Florida, USA 1972-12-19  1972   \n",
       "1174    NASA  LC-39A, Kennedy Space Center, Florida, USA 1973-05-14  1973   \n",
       "\n",
       "      Month                Time  Hour    Rocket    Mission RocketStatus  \\\n",
       "607      11 2023-06-23 12:00:00  12.0  Saturn V   Apollo 4      Retired   \n",
       "640       4 2023-06-23 12:00:00  12.0  Saturn V   Apollo 6      Retired   \n",
       "720      12 2023-06-23 12:51:00  12.0  Saturn V   Apollo 8      Retired   \n",
       "739       3 2023-06-23 16:00:00  16.0  Saturn V   Apollo 9      Retired   \n",
       "763       5 2023-06-23 16:49:00  16.0  Saturn V  Apollo 10      Retired   \n",
       "778       7 2023-06-23 13:32:00  13.0  Saturn V  Apollo 11      Retired   \n",
       "812      11 2023-06-23 16:22:00  16.0  Saturn V  Apollo 12      Retired   \n",
       "848       4 2023-06-23 19:13:00  19.0  Saturn V  Apollo 13      Retired   \n",
       "939       1 2023-06-23 21:03:00  21.0  Saturn V  Apollo 14      Retired   \n",
       "995       7 2023-06-23 13:34:00  13.0  Saturn V  Apollo 15      Retired   \n",
       "1080      4 2023-06-23 17:54:00  17.0  Saturn V  Apollo 16      Retired   \n",
       "1143     12 2023-06-23 19:24:00  19.0  Saturn V  Apollo 17      Retired   \n",
       "1174      5 2023-06-23 17:30:00  17.0  Saturn V   Skylab 1      Retired   \n",
       "\n",
       "       Price    MissionStatus  \n",
       "607   1160.0          Success  \n",
       "640   1160.0  Partial Failure  \n",
       "720   1160.0          Success  \n",
       "739   1160.0          Success  \n",
       "763   1160.0          Success  \n",
       "778   1160.0          Success  \n",
       "812   1160.0          Success  \n",
       "848   1160.0          Success  \n",
       "939   1160.0          Success  \n",
       "995   1160.0          Success  \n",
       "1080  1160.0          Success  \n",
       "1143  1160.0          Success  \n",
       "1174  1160.0          Success  "
      ]
     },
     "execution_count": 106,
     "metadata": {},
     "output_type": "execute_result"
    }
   ],
   "source": [
    "sp.loc[(sp['Price']==1160)]"
   ]
  },
  {
   "cell_type": "markdown",
   "metadata": {},
   "source": [
    "### Insights : 5000M - Russia- Energia - polyus(1987),Buran(1988)\n",
    "### 1160M - USA-NASA-Saturn V-Apollo(67-72), Skylab(73)"
   ]
  },
  {
   "cell_type": "code",
   "execution_count": 88,
   "metadata": {},
   "outputs": [
    {
     "data": {
      "text/plain": [
       "162304.45"
      ]
     },
     "execution_count": 88,
     "metadata": {},
     "output_type": "execute_result"
    }
   ],
   "source": [
    "notnullprice.sum()"
   ]
  },
  {
   "cell_type": "code",
   "execution_count": 91,
   "metadata": {
    "scrolled": false
   },
   "outputs": [
    {
     "data": {
      "text/plain": [
       "450.00    136\n",
       "67.00     111\n",
       "200.00     80\n",
       "64.68      58\n",
       "40.00      57\n",
       "         ... \n",
       "135.00      2\n",
       "55.00       1\n",
       "15.00       1\n",
       "20.14       1\n",
       "28.30       1\n",
       "Name: Price, Length: 65, dtype: int64"
      ]
     },
     "execution_count": 91,
     "metadata": {},
     "output_type": "execute_result"
    }
   ],
   "source": [
    "sp['Price'].value_counts()"
   ]
  },
  {
   "cell_type": "code",
   "execution_count": 100,
   "metadata": {},
   "outputs": [
    {
     "data": {
      "text/plain": [
       "450.00    0.107510\n",
       "67.00     0.087747\n",
       "200.00    0.063241\n",
       "64.68     0.045850\n",
       "40.00     0.045059\n",
       "30.80     0.038735\n",
       "29.75     0.034783\n",
       "25.00     0.033992\n",
       "29.15     0.032411\n",
       "62.00     0.032411\n",
       "Name: Price, dtype: float64"
      ]
     },
     "execution_count": 100,
     "metadata": {},
     "output_type": "execute_result"
    }
   ],
   "source": [
    "sp['Price'].value_counts(normalize=True).head(10)"
   ]
  },
  {
   "cell_type": "markdown",
   "metadata": {},
   "source": [
    "### Around 136 or 10% launches costed 450M"
   ]
  },
  {
   "cell_type": "code",
   "execution_count": 107,
   "metadata": {},
   "outputs": [
    {
     "data": {
      "text/plain": [
       "pandas.core.frame.DataFrame"
      ]
     },
     "execution_count": 107,
     "metadata": {},
     "output_type": "execute_result"
    }
   ],
   "source": [
    "type(sp['Company']) # SERIES\n",
    "\n",
    "type(sp) # DATAFRAME\n"
   ]
  },
  {
   "cell_type": "code",
   "execution_count": 119,
   "metadata": {},
   "outputs": [
    {
     "data": {
      "text/plain": [
       "<matplotlib.axes._subplots.AxesSubplot at 0x20ada7c4490>"
      ]
     },
     "execution_count": 119,
     "metadata": {},
     "output_type": "execute_result"
    },
    {
     "data": {
      "image/png": "[encoded data removed]",
      "text/plain": [
       "<Figure size 432x288 with 1 Axes>"
      ]
     },
     "metadata": {
      "needs_background": "light"
     },
     "output_type": "display_data"
    }
   ],
   "source": [
    "notnullprice.plot(kind='hist',bins=50)"
   ]
  },
  {
   "cell_type": "code",
   "execution_count": 122,
   "metadata": {},
   "outputs": [
    {
     "data": {
      "text/plain": [
       "128.30391304347756"
      ]
     },
     "execution_count": 122,
     "metadata": {},
     "output_type": "execute_result"
    }
   ],
   "source": [
    "notnullprice.mean()"
   ]
  },
  {
   "cell_type": "markdown",
   "metadata": {},
   "source": [
    "### Insights: Average launch price 128M"
   ]
  }
 ],
 "metadata": {
  "kernelspec": {
   "display_name": "Python 3",
   "language": "python",
   "name": "python3"
  },
  "language_info": {
   "codemirror_mode": {
    "name": "ipython",
    "version": 3
   },
   "file_extension": ".py",
   "mimetype": "text/x-python",
   "name": "python",
   "nbconvert_exporter": "python",
   "pygments_lexer": "ipython3",
   "version": "3.8.3"
  }
 },
 "nbformat": 4,
 "nbformat_minor": 4
}
