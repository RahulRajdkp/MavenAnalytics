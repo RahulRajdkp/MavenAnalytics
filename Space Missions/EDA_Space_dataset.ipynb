{
 "cells": [
  {
   "cell_type": "markdown",
   "metadata": {},
   "source": [
    "# <center> Space Dataset from Maven Analytics"
   ]
  },
  {
   "cell_type": "code",
   "execution_count": 1,
   "metadata": {},
   "outputs": [],
   "source": [
    "import pandas as pd\n",
    "import numpy as np\n",
    "import matplotlib.pyplot as plt"
   ]
  },
  {
   "cell_type": "markdown",
   "metadata": {},
   "source": [
    "## 1. Importing Data\n",
    "**Reading Excel or csv**"
   ]
  },
  {
   "cell_type": "code",
   "execution_count": 2,
   "metadata": {},
   "outputs": [
    {
     "data": {
      "text/html": [
       "<div>\n",
       "<style scoped>\n",
       "    .dataframe tbody tr th:only-of-type {\n",
       "        vertical-align: middle;\n",
       "    }\n",
       "\n",
       "    .dataframe tbody tr th {\n",
       "        vertical-align: top;\n",
       "    }\n",
       "\n",
       "    .dataframe thead th {\n",
       "        text-align: right;\n",
       "    }\n",
       "</style>\n",
       "<table border=\"1\" class=\"dataframe\">\n",
       "  <thead>\n",
       "    <tr style=\"text-align: right;\">\n",
       "      <th></th>\n",
       "      <th>Year of Birth</th>\n",
       "      <th>Gender</th>\n",
       "      <th>Ethnicity</th>\n",
       "      <th>Child's First Name</th>\n",
       "      <th>Count</th>\n",
       "      <th>Rank</th>\n",
       "    </tr>\n",
       "  </thead>\n",
       "  <tbody>\n",
       "    <tr>\n",
       "      <th>0</th>\n",
       "      <td>2011</td>\n",
       "      <td>MALE</td>\n",
       "      <td>ASIAN AND PACIFIC ISLANDER</td>\n",
       "      <td>AARAV</td>\n",
       "      <td>15</td>\n",
       "      <td>51</td>\n",
       "    </tr>\n",
       "    <tr>\n",
       "      <th>1</th>\n",
       "      <td>2011</td>\n",
       "      <td>MALE</td>\n",
       "      <td>ASIAN AND PACIFIC ISLANDER</td>\n",
       "      <td>AARON</td>\n",
       "      <td>51</td>\n",
       "      <td>19</td>\n",
       "    </tr>\n",
       "    <tr>\n",
       "      <th>2</th>\n",
       "      <td>2011</td>\n",
       "      <td>MALE</td>\n",
       "      <td>ASIAN AND PACIFIC ISLANDER</td>\n",
       "      <td>ABDUL</td>\n",
       "      <td>20</td>\n",
       "      <td>46</td>\n",
       "    </tr>\n",
       "  </tbody>\n",
       "</table>\n",
       "</div>"
      ],
      "text/plain": [
       "   Year of Birth Gender                   Ethnicity Child's First Name  Count  \\\n",
       "0           2011   MALE  ASIAN AND PACIFIC ISLANDER              AARAV     15   \n",
       "1           2011   MALE  ASIAN AND PACIFIC ISLANDER              AARON     51   \n",
       "2           2011   MALE  ASIAN AND PACIFIC ISLANDER              ABDUL     20   \n",
       "\n",
       "   Rank  \n",
       "0    51  \n",
       "1    19  \n",
       "2    46  "
      ]
     },
     "execution_count": 2,
     "metadata": {},
     "output_type": "execute_result"
    }
   ],
   "source": [
    "baby = pd.read_excel('babynames.xlsx')\n",
    "baby.head(3)"
   ]
  },
  {
   "cell_type": "code",
   "execution_count": 3,
   "metadata": {
    "scrolled": true
   },
   "outputs": [
    {
     "data": {
      "text/html": [
       "<div>\n",
       "<style scoped>\n",
       "    .dataframe tbody tr th:only-of-type {\n",
       "        vertical-align: middle;\n",
       "    }\n",
       "\n",
       "    .dataframe tbody tr th {\n",
       "        vertical-align: top;\n",
       "    }\n",
       "\n",
       "    .dataframe thead th {\n",
       "        text-align: right;\n",
       "    }\n",
       "</style>\n",
       "<table border=\"1\" class=\"dataframe\">\n",
       "  <thead>\n",
       "    <tr style=\"text-align: right;\">\n",
       "      <th></th>\n",
       "      <th>Company</th>\n",
       "      <th>Location</th>\n",
       "      <th>Date</th>\n",
       "      <th>Time</th>\n",
       "      <th>Rocket</th>\n",
       "      <th>Mission</th>\n",
       "      <th>RocketStatus</th>\n",
       "      <th>Price</th>\n",
       "      <th>MissionStatus</th>\n",
       "    </tr>\n",
       "  </thead>\n",
       "  <tbody>\n",
       "    <tr>\n",
       "      <th>0</th>\n",
       "      <td>RVSN USSR</td>\n",
       "      <td>Site 1/5, Baikonur Cosmodrome, Kazakhstan</td>\n",
       "      <td>1957-10-04</td>\n",
       "      <td>19:28:00</td>\n",
       "      <td>Sputnik 8K71PS</td>\n",
       "      <td>Sputnik-1</td>\n",
       "      <td>Retired</td>\n",
       "      <td>NaN</td>\n",
       "      <td>Success</td>\n",
       "    </tr>\n",
       "    <tr>\n",
       "      <th>1</th>\n",
       "      <td>RVSN USSR</td>\n",
       "      <td>Site 1/5, Baikonur Cosmodrome, Kazakhstan</td>\n",
       "      <td>1957-11-03</td>\n",
       "      <td>02:30:00</td>\n",
       "      <td>Sputnik 8K71PS</td>\n",
       "      <td>Sputnik-2</td>\n",
       "      <td>Retired</td>\n",
       "      <td>NaN</td>\n",
       "      <td>Success</td>\n",
       "    </tr>\n",
       "    <tr>\n",
       "      <th>2</th>\n",
       "      <td>US Navy</td>\n",
       "      <td>LC-18A, Cape Canaveral AFS, Florida, USA</td>\n",
       "      <td>1957-12-06</td>\n",
       "      <td>16:44:00</td>\n",
       "      <td>Vanguard</td>\n",
       "      <td>Vanguard TV3</td>\n",
       "      <td>Retired</td>\n",
       "      <td>NaN</td>\n",
       "      <td>Failure</td>\n",
       "    </tr>\n",
       "    <tr>\n",
       "      <th>3</th>\n",
       "      <td>AMBA</td>\n",
       "      <td>LC-26A, Cape Canaveral AFS, Florida, USA</td>\n",
       "      <td>1958-02-01</td>\n",
       "      <td>03:48:00</td>\n",
       "      <td>Juno I</td>\n",
       "      <td>Explorer 1</td>\n",
       "      <td>Retired</td>\n",
       "      <td>NaN</td>\n",
       "      <td>Success</td>\n",
       "    </tr>\n",
       "    <tr>\n",
       "      <th>4</th>\n",
       "      <td>US Navy</td>\n",
       "      <td>LC-18A, Cape Canaveral AFS, Florida, USA</td>\n",
       "      <td>1958-02-05</td>\n",
       "      <td>07:33:00</td>\n",
       "      <td>Vanguard</td>\n",
       "      <td>Vanguard TV3BU</td>\n",
       "      <td>Retired</td>\n",
       "      <td>NaN</td>\n",
       "      <td>Failure</td>\n",
       "    </tr>\n",
       "    <tr>\n",
       "      <th>5</th>\n",
       "      <td>AMBA</td>\n",
       "      <td>LC-26A, Cape Canaveral AFS, Florida, USA</td>\n",
       "      <td>1958-03-05</td>\n",
       "      <td>18:27:00</td>\n",
       "      <td>Juno I</td>\n",
       "      <td>Explorer 2</td>\n",
       "      <td>Retired</td>\n",
       "      <td>NaN</td>\n",
       "      <td>Failure</td>\n",
       "    </tr>\n",
       "    <tr>\n",
       "      <th>6</th>\n",
       "      <td>US Navy</td>\n",
       "      <td>LC-18A, Cape Canaveral AFS, Florida, USA</td>\n",
       "      <td>1958-03-17</td>\n",
       "      <td>12:15:00</td>\n",
       "      <td>Vanguard</td>\n",
       "      <td>Vanguard 1</td>\n",
       "      <td>Retired</td>\n",
       "      <td>NaN</td>\n",
       "      <td>Success</td>\n",
       "    </tr>\n",
       "    <tr>\n",
       "      <th>7</th>\n",
       "      <td>AMBA</td>\n",
       "      <td>LC-5, Cape Canaveral AFS, Florida, USA</td>\n",
       "      <td>1958-03-26</td>\n",
       "      <td>17:38:00</td>\n",
       "      <td>Juno I</td>\n",
       "      <td>Explorer 3</td>\n",
       "      <td>Retired</td>\n",
       "      <td>NaN</td>\n",
       "      <td>Success</td>\n",
       "    </tr>\n",
       "    <tr>\n",
       "      <th>8</th>\n",
       "      <td>RVSN USSR</td>\n",
       "      <td>Site 1/5, Baikonur Cosmodrome, Kazakhstan</td>\n",
       "      <td>1958-04-27</td>\n",
       "      <td>09:01:00</td>\n",
       "      <td>Sputnik 8A91</td>\n",
       "      <td>Sputnik-3 #1</td>\n",
       "      <td>Retired</td>\n",
       "      <td>NaN</td>\n",
       "      <td>Failure</td>\n",
       "    </tr>\n",
       "    <tr>\n",
       "      <th>9</th>\n",
       "      <td>US Navy</td>\n",
       "      <td>LC-18A, Cape Canaveral AFS, Florida, USA</td>\n",
       "      <td>1958-04-28</td>\n",
       "      <td>02:53:00</td>\n",
       "      <td>Vanguard</td>\n",
       "      <td>Vanguard TV5</td>\n",
       "      <td>Retired</td>\n",
       "      <td>NaN</td>\n",
       "      <td>Failure</td>\n",
       "    </tr>\n",
       "  </tbody>\n",
       "</table>\n",
       "</div>"
      ],
      "text/plain": [
       "     Company                                   Location        Date      Time  \\\n",
       "0  RVSN USSR  Site 1/5, Baikonur Cosmodrome, Kazakhstan  1957-10-04  19:28:00   \n",
       "1  RVSN USSR  Site 1/5, Baikonur Cosmodrome, Kazakhstan  1957-11-03  02:30:00   \n",
       "2    US Navy   LC-18A, Cape Canaveral AFS, Florida, USA  1957-12-06  16:44:00   \n",
       "3       AMBA   LC-26A, Cape Canaveral AFS, Florida, USA  1958-02-01  03:48:00   \n",
       "4    US Navy   LC-18A, Cape Canaveral AFS, Florida, USA  1958-02-05  07:33:00   \n",
       "5       AMBA   LC-26A, Cape Canaveral AFS, Florida, USA  1958-03-05  18:27:00   \n",
       "6    US Navy   LC-18A, Cape Canaveral AFS, Florida, USA  1958-03-17  12:15:00   \n",
       "7       AMBA     LC-5, Cape Canaveral AFS, Florida, USA  1958-03-26  17:38:00   \n",
       "8  RVSN USSR  Site 1/5, Baikonur Cosmodrome, Kazakhstan  1958-04-27  09:01:00   \n",
       "9    US Navy   LC-18A, Cape Canaveral AFS, Florida, USA  1958-04-28  02:53:00   \n",
       "\n",
       "           Rocket         Mission RocketStatus Price MissionStatus  \n",
       "0  Sputnik 8K71PS       Sputnik-1      Retired   NaN       Success  \n",
       "1  Sputnik 8K71PS       Sputnik-2      Retired   NaN       Success  \n",
       "2        Vanguard    Vanguard TV3      Retired   NaN       Failure  \n",
       "3          Juno I      Explorer 1      Retired   NaN       Success  \n",
       "4        Vanguard  Vanguard TV3BU      Retired   NaN       Failure  \n",
       "5          Juno I      Explorer 2      Retired   NaN       Failure  \n",
       "6        Vanguard      Vanguard 1      Retired   NaN       Success  \n",
       "7          Juno I      Explorer 3      Retired   NaN       Success  \n",
       "8    Sputnik 8A91    Sputnik-3 #1      Retired   NaN       Failure  \n",
       "9        Vanguard    Vanguard TV5      Retired   NaN       Failure  "
      ]
     },
     "execution_count": 3,
     "metadata": {},
     "output_type": "execute_result"
    }
   ],
   "source": [
    "sp = pd.read_csv('space_miss.csv')\n",
    "sp.head(10)"
   ]
  },
  {
   "cell_type": "markdown",
   "metadata": {},
   "source": [
    "# 1 . Data Understanding"
   ]
  },
  {
   "cell_type": "markdown",
   "metadata": {},
   "source": [
    " **Understanding the Columns and Datatypes**"
   ]
  },
  {
   "cell_type": "code",
   "execution_count": 4,
   "metadata": {},
   "outputs": [
    {
     "data": {
      "text/plain": [
       "Index(['Company', 'Location', 'Date', 'Time', 'Rocket', 'Mission',\n",
       "       'RocketStatus', 'Price', 'MissionStatus'],\n",
       "      dtype='object')"
      ]
     },
     "execution_count": 4,
     "metadata": {},
     "output_type": "execute_result"
    }
   ],
   "source": [
    "sp.columns"
   ]
  },
  {
   "cell_type": "code",
   "execution_count": 5,
   "metadata": {},
   "outputs": [
    {
     "name": "stdout",
     "output_type": "stream",
     "text": [
      "<class 'pandas.core.frame.DataFrame'>\n",
      "RangeIndex: 4630 entries, 0 to 4629\n",
      "Data columns (total 9 columns):\n",
      " #   Column         Non-Null Count  Dtype \n",
      "---  ------         --------------  ----- \n",
      " 0   Company        4630 non-null   object\n",
      " 1   Location       4630 non-null   object\n",
      " 2   Date           4630 non-null   object\n",
      " 3   Time           4503 non-null   object\n",
      " 4   Rocket         4630 non-null   object\n",
      " 5   Mission        4630 non-null   object\n",
      " 6   RocketStatus   4630 non-null   object\n",
      " 7   Price          1265 non-null   object\n",
      " 8   MissionStatus  4630 non-null   object\n",
      "dtypes: object(9)\n",
      "memory usage: 325.7+ KB\n"
     ]
    }
   ],
   "source": [
    "sp.info()"
   ]
  },
  {
   "cell_type": "code",
   "execution_count": 6,
   "metadata": {
    "scrolled": true
   },
   "outputs": [
    {
     "data": {
      "text/html": [
       "<div>\n",
       "<style scoped>\n",
       "    .dataframe tbody tr th:only-of-type {\n",
       "        vertical-align: middle;\n",
       "    }\n",
       "\n",
       "    .dataframe tbody tr th {\n",
       "        vertical-align: top;\n",
       "    }\n",
       "\n",
       "    .dataframe thead th {\n",
       "        text-align: right;\n",
       "    }\n",
       "</style>\n",
       "<table border=\"1\" class=\"dataframe\">\n",
       "  <thead>\n",
       "    <tr style=\"text-align: right;\">\n",
       "      <th></th>\n",
       "      <th>Company</th>\n",
       "      <th>Location</th>\n",
       "      <th>Date</th>\n",
       "      <th>Time</th>\n",
       "      <th>Rocket</th>\n",
       "      <th>Mission</th>\n",
       "      <th>RocketStatus</th>\n",
       "      <th>Price</th>\n",
       "      <th>MissionStatus</th>\n",
       "    </tr>\n",
       "  </thead>\n",
       "  <tbody>\n",
       "    <tr>\n",
       "      <th>count</th>\n",
       "      <td>4630</td>\n",
       "      <td>4630</td>\n",
       "      <td>4630</td>\n",
       "      <td>4503</td>\n",
       "      <td>4630</td>\n",
       "      <td>4630</td>\n",
       "      <td>4630</td>\n",
       "      <td>1265</td>\n",
       "      <td>4630</td>\n",
       "    </tr>\n",
       "    <tr>\n",
       "      <th>unique</th>\n",
       "      <td>62</td>\n",
       "      <td>158</td>\n",
       "      <td>4180</td>\n",
       "      <td>1300</td>\n",
       "      <td>370</td>\n",
       "      <td>4556</td>\n",
       "      <td>2</td>\n",
       "      <td>65</td>\n",
       "      <td>4</td>\n",
       "    </tr>\n",
       "    <tr>\n",
       "      <th>top</th>\n",
       "      <td>RVSN USSR</td>\n",
       "      <td>Site 31/6, Baikonur Cosmodrome, Kazakhstan</td>\n",
       "      <td>1962-04-26</td>\n",
       "      <td>12:00:00</td>\n",
       "      <td>Cosmos-3M (11K65M)</td>\n",
       "      <td>DSP</td>\n",
       "      <td>Retired</td>\n",
       "      <td>450</td>\n",
       "      <td>Success</td>\n",
       "    </tr>\n",
       "    <tr>\n",
       "      <th>freq</th>\n",
       "      <td>1777</td>\n",
       "      <td>251</td>\n",
       "      <td>4</td>\n",
       "      <td>52</td>\n",
       "      <td>446</td>\n",
       "      <td>8</td>\n",
       "      <td>3620</td>\n",
       "      <td>136</td>\n",
       "      <td>4162</td>\n",
       "    </tr>\n",
       "  </tbody>\n",
       "</table>\n",
       "</div>"
      ],
      "text/plain": [
       "          Company                                    Location        Date  \\\n",
       "count        4630                                        4630        4630   \n",
       "unique         62                                         158        4180   \n",
       "top     RVSN USSR  Site 31/6, Baikonur Cosmodrome, Kazakhstan  1962-04-26   \n",
       "freq         1777                                         251           4   \n",
       "\n",
       "            Time              Rocket Mission RocketStatus Price MissionStatus  \n",
       "count       4503                4630    4630         4630  1265          4630  \n",
       "unique      1300                 370    4556            2    65             4  \n",
       "top     12:00:00  Cosmos-3M (11K65M)     DSP      Retired   450       Success  \n",
       "freq          52                 446       8         3620   136          4162  "
      ]
     },
     "execution_count": 6,
     "metadata": {},
     "output_type": "execute_result"
    }
   ],
   "source": [
    "sp.describe()"
   ]
  },
  {
   "cell_type": "code",
   "execution_count": 7,
   "metadata": {},
   "outputs": [
    {
     "data": {
      "text/html": [
       "<div>\n",
       "<style scoped>\n",
       "    .dataframe tbody tr th:only-of-type {\n",
       "        vertical-align: middle;\n",
       "    }\n",
       "\n",
       "    .dataframe tbody tr th {\n",
       "        vertical-align: top;\n",
       "    }\n",
       "\n",
       "    .dataframe thead th {\n",
       "        text-align: right;\n",
       "    }\n",
       "</style>\n",
       "<table border=\"1\" class=\"dataframe\">\n",
       "  <thead>\n",
       "    <tr style=\"text-align: right;\">\n",
       "      <th></th>\n",
       "      <th>Company</th>\n",
       "      <th>Location</th>\n",
       "      <th>Date</th>\n",
       "      <th>Time</th>\n",
       "      <th>Rocket</th>\n",
       "      <th>Mission</th>\n",
       "      <th>RocketStatus</th>\n",
       "      <th>Price</th>\n",
       "      <th>MissionStatus</th>\n",
       "    </tr>\n",
       "  </thead>\n",
       "  <tbody>\n",
       "    <tr>\n",
       "      <th>0</th>\n",
       "      <td>False</td>\n",
       "      <td>False</td>\n",
       "      <td>False</td>\n",
       "      <td>False</td>\n",
       "      <td>False</td>\n",
       "      <td>False</td>\n",
       "      <td>False</td>\n",
       "      <td>True</td>\n",
       "      <td>False</td>\n",
       "    </tr>\n",
       "    <tr>\n",
       "      <th>1</th>\n",
       "      <td>False</td>\n",
       "      <td>False</td>\n",
       "      <td>False</td>\n",
       "      <td>False</td>\n",
       "      <td>False</td>\n",
       "      <td>False</td>\n",
       "      <td>False</td>\n",
       "      <td>True</td>\n",
       "      <td>False</td>\n",
       "    </tr>\n",
       "    <tr>\n",
       "      <th>2</th>\n",
       "      <td>False</td>\n",
       "      <td>False</td>\n",
       "      <td>False</td>\n",
       "      <td>False</td>\n",
       "      <td>False</td>\n",
       "      <td>False</td>\n",
       "      <td>False</td>\n",
       "      <td>True</td>\n",
       "      <td>False</td>\n",
       "    </tr>\n",
       "    <tr>\n",
       "      <th>3</th>\n",
       "      <td>False</td>\n",
       "      <td>False</td>\n",
       "      <td>False</td>\n",
       "      <td>False</td>\n",
       "      <td>False</td>\n",
       "      <td>False</td>\n",
       "      <td>False</td>\n",
       "      <td>True</td>\n",
       "      <td>False</td>\n",
       "    </tr>\n",
       "    <tr>\n",
       "      <th>4</th>\n",
       "      <td>False</td>\n",
       "      <td>False</td>\n",
       "      <td>False</td>\n",
       "      <td>False</td>\n",
       "      <td>False</td>\n",
       "      <td>False</td>\n",
       "      <td>False</td>\n",
       "      <td>True</td>\n",
       "      <td>False</td>\n",
       "    </tr>\n",
       "    <tr>\n",
       "      <th>...</th>\n",
       "      <td>...</td>\n",
       "      <td>...</td>\n",
       "      <td>...</td>\n",
       "      <td>...</td>\n",
       "      <td>...</td>\n",
       "      <td>...</td>\n",
       "      <td>...</td>\n",
       "      <td>...</td>\n",
       "      <td>...</td>\n",
       "    </tr>\n",
       "    <tr>\n",
       "      <th>4625</th>\n",
       "      <td>False</td>\n",
       "      <td>False</td>\n",
       "      <td>False</td>\n",
       "      <td>False</td>\n",
       "      <td>False</td>\n",
       "      <td>False</td>\n",
       "      <td>False</td>\n",
       "      <td>False</td>\n",
       "      <td>False</td>\n",
       "    </tr>\n",
       "    <tr>\n",
       "      <th>4626</th>\n",
       "      <td>False</td>\n",
       "      <td>False</td>\n",
       "      <td>False</td>\n",
       "      <td>False</td>\n",
       "      <td>False</td>\n",
       "      <td>False</td>\n",
       "      <td>False</td>\n",
       "      <td>True</td>\n",
       "      <td>False</td>\n",
       "    </tr>\n",
       "    <tr>\n",
       "      <th>4627</th>\n",
       "      <td>False</td>\n",
       "      <td>False</td>\n",
       "      <td>False</td>\n",
       "      <td>False</td>\n",
       "      <td>False</td>\n",
       "      <td>False</td>\n",
       "      <td>False</td>\n",
       "      <td>False</td>\n",
       "      <td>False</td>\n",
       "    </tr>\n",
       "    <tr>\n",
       "      <th>4628</th>\n",
       "      <td>False</td>\n",
       "      <td>False</td>\n",
       "      <td>False</td>\n",
       "      <td>False</td>\n",
       "      <td>False</td>\n",
       "      <td>False</td>\n",
       "      <td>False</td>\n",
       "      <td>True</td>\n",
       "      <td>False</td>\n",
       "    </tr>\n",
       "    <tr>\n",
       "      <th>4629</th>\n",
       "      <td>False</td>\n",
       "      <td>False</td>\n",
       "      <td>False</td>\n",
       "      <td>False</td>\n",
       "      <td>False</td>\n",
       "      <td>False</td>\n",
       "      <td>False</td>\n",
       "      <td>False</td>\n",
       "      <td>False</td>\n",
       "    </tr>\n",
       "  </tbody>\n",
       "</table>\n",
       "<p>4630 rows × 9 columns</p>\n",
       "</div>"
      ],
      "text/plain": [
       "      Company  Location   Date   Time  Rocket  Mission  RocketStatus  Price  \\\n",
       "0       False     False  False  False   False    False         False   True   \n",
       "1       False     False  False  False   False    False         False   True   \n",
       "2       False     False  False  False   False    False         False   True   \n",
       "3       False     False  False  False   False    False         False   True   \n",
       "4       False     False  False  False   False    False         False   True   \n",
       "...       ...       ...    ...    ...     ...      ...           ...    ...   \n",
       "4625    False     False  False  False   False    False         False  False   \n",
       "4626    False     False  False  False   False    False         False   True   \n",
       "4627    False     False  False  False   False    False         False  False   \n",
       "4628    False     False  False  False   False    False         False   True   \n",
       "4629    False     False  False  False   False    False         False  False   \n",
       "\n",
       "      MissionStatus  \n",
       "0             False  \n",
       "1             False  \n",
       "2             False  \n",
       "3             False  \n",
       "4             False  \n",
       "...             ...  \n",
       "4625          False  \n",
       "4626          False  \n",
       "4627          False  \n",
       "4628          False  \n",
       "4629          False  \n",
       "\n",
       "[4630 rows x 9 columns]"
      ]
     },
     "execution_count": 7,
     "metadata": {},
     "output_type": "execute_result"
    }
   ],
   "source": [
    "sp.isna()"
   ]
  },
  {
   "cell_type": "code",
   "execution_count": 8,
   "metadata": {
    "scrolled": true
   },
   "outputs": [
    {
     "data": {
      "text/plain": [
       "Company             0\n",
       "Location            0\n",
       "Date                0\n",
       "Time              127\n",
       "Rocket              0\n",
       "Mission             0\n",
       "RocketStatus        0\n",
       "Price            3365\n",
       "MissionStatus       0\n",
       "dtype: int64"
      ]
     },
     "execution_count": 8,
     "metadata": {},
     "output_type": "execute_result"
    }
   ],
   "source": [
    "sp.isna().sum()"
   ]
  },
  {
   "cell_type": "code",
   "execution_count": 9,
   "metadata": {},
   "outputs": [
    {
     "data": {
      "text/plain": [
       "Price            3365\n",
       "Time              127\n",
       "MissionStatus       0\n",
       "RocketStatus        0\n",
       "Mission             0\n",
       "Rocket              0\n",
       "Date                0\n",
       "Location            0\n",
       "Company             0\n",
       "dtype: int64"
      ]
     },
     "execution_count": 9,
     "metadata": {},
     "output_type": "execute_result"
    }
   ],
   "source": [
    "sp.isna().sum().sort_values(ascending=False)"
   ]
  },
  {
   "cell_type": "code",
   "execution_count": 10,
   "metadata": {},
   "outputs": [
    {
     "data": {
      "text/plain": [
       "Price            73.0\n",
       "Time              3.0\n",
       "MissionStatus     0.0\n",
       "RocketStatus      0.0\n",
       "Mission           0.0\n",
       "Rocket            0.0\n",
       "Date              0.0\n",
       "Location          0.0\n",
       "Company           0.0\n",
       "dtype: float64"
      ]
     },
     "execution_count": 10,
     "metadata": {},
     "output_type": "execute_result"
    }
   ],
   "source": [
    "Missing_percentage = round((sp.isna().sum().sort_values(ascending=False)/len(sp))*100,0)\n",
    "Missing_percentage"
   ]
  },
  {
   "cell_type": "code",
   "execution_count": 11,
   "metadata": {},
   "outputs": [
    {
     "data": {
      "text/plain": [
       "Price    73.0\n",
       "Time      3.0\n",
       "dtype: float64"
      ]
     },
     "execution_count": 11,
     "metadata": {},
     "output_type": "execute_result"
    }
   ],
   "source": [
    "Missing_percentage[Missing_percentage > 0]"
   ]
  },
  {
   "cell_type": "markdown",
   "metadata": {},
   "source": [
    "- Entries in Time and Price are missing \n",
    "- Unique - 62 companies, 370 rockets, 158 locations & 4556 Missions"
   ]
  },
  {
   "cell_type": "markdown",
   "metadata": {},
   "source": [
    "**Datatype Conversion**"
   ]
  },
  {
   "cell_type": "markdown",
   "metadata": {},
   "source": [
    "**Was unable to convert price to Float ($ sign or comma seaprators).So they have to be removed and assigned to numeric or float**"
   ]
  },
  {
   "cell_type": "code",
   "execution_count": 12,
   "metadata": {
    "scrolled": true
   },
   "outputs": [],
   "source": [
    "sp['Price'] = sp['Price'].replace(',','',regex=True)"
   ]
  },
  {
   "cell_type": "code",
   "execution_count": 13,
   "metadata": {},
   "outputs": [
    {
     "name": "stdout",
     "output_type": "stream",
     "text": [
      "<class 'pandas.core.frame.DataFrame'>\n",
      "RangeIndex: 4630 entries, 0 to 4629\n",
      "Data columns (total 9 columns):\n",
      " #   Column         Non-Null Count  Dtype  \n",
      "---  ------         --------------  -----  \n",
      " 0   Company        4630 non-null   object \n",
      " 1   Location       4630 non-null   object \n",
      " 2   Date           4630 non-null   object \n",
      " 3   Time           4503 non-null   object \n",
      " 4   Rocket         4630 non-null   object \n",
      " 5   Mission        4630 non-null   object \n",
      " 6   RocketStatus   4630 non-null   object \n",
      " 7   Price          1265 non-null   float64\n",
      " 8   MissionStatus  4630 non-null   object \n",
      "dtypes: float64(1), object(8)\n",
      "memory usage: 325.7+ KB\n"
     ]
    }
   ],
   "source": [
    "sp = sp.astype( {'Company':object, 'Location':object, 'Date':object, 'Time':object,\n",
    "                 'Rocket':object, 'Mission':object,'RocketStatus':object, 'Price':float ,'MissionStatus':object})\n",
    "\n",
    "sp.info()"
   ]
  },
  {
   "cell_type": "code",
   "execution_count": 14,
   "metadata": {},
   "outputs": [],
   "source": [
    "#sp['Price']= pd.to_numeric(sp['Price'],errors='coerce')"
   ]
  },
  {
   "cell_type": "code",
   "execution_count": 15,
   "metadata": {
    "scrolled": true
   },
   "outputs": [
    {
     "name": "stdout",
     "output_type": "stream",
     "text": [
      "<class 'pandas.core.frame.DataFrame'>\n",
      "RangeIndex: 4630 entries, 0 to 4629\n",
      "Data columns (total 9 columns):\n",
      " #   Column         Non-Null Count  Dtype         \n",
      "---  ------         --------------  -----         \n",
      " 0   Company        4630 non-null   object        \n",
      " 1   Location       4630 non-null   object        \n",
      " 2   Date           4630 non-null   datetime64[ns]\n",
      " 3   Time           4503 non-null   object        \n",
      " 4   Rocket         4630 non-null   object        \n",
      " 5   Mission        4630 non-null   object        \n",
      " 6   RocketStatus   4630 non-null   object        \n",
      " 7   Price          1265 non-null   float64       \n",
      " 8   MissionStatus  4630 non-null   object        \n",
      "dtypes: datetime64[ns](1), float64(1), object(7)\n",
      "memory usage: 325.7+ KB\n"
     ]
    }
   ],
   "source": [
    "sp['Date']= pd.to_datetime(sp['Date'])\n",
    "sp['Time']= pd.to_datetime(sp['Time'])\n",
    "sp['Time'] = sp['Time'].dt.time\n",
    "sp.info()"
   ]
  },
  {
   "cell_type": "code",
   "execution_count": 16,
   "metadata": {},
   "outputs": [
    {
     "data": {
      "text/html": [
       "<div>\n",
       "<style scoped>\n",
       "    .dataframe tbody tr th:only-of-type {\n",
       "        vertical-align: middle;\n",
       "    }\n",
       "\n",
       "    .dataframe tbody tr th {\n",
       "        vertical-align: top;\n",
       "    }\n",
       "\n",
       "    .dataframe thead th {\n",
       "        text-align: right;\n",
       "    }\n",
       "</style>\n",
       "<table border=\"1\" class=\"dataframe\">\n",
       "  <thead>\n",
       "    <tr style=\"text-align: right;\">\n",
       "      <th></th>\n",
       "      <th>Company</th>\n",
       "      <th>Location</th>\n",
       "      <th>Date</th>\n",
       "      <th>Time</th>\n",
       "      <th>Rocket</th>\n",
       "      <th>Mission</th>\n",
       "      <th>RocketStatus</th>\n",
       "      <th>Price</th>\n",
       "      <th>MissionStatus</th>\n",
       "    </tr>\n",
       "  </thead>\n",
       "  <tbody>\n",
       "    <tr>\n",
       "      <th>0</th>\n",
       "      <td>RVSN USSR</td>\n",
       "      <td>Site 1/5, Baikonur Cosmodrome, Kazakhstan</td>\n",
       "      <td>1957-10-04</td>\n",
       "      <td>19:28:00</td>\n",
       "      <td>Sputnik 8K71PS</td>\n",
       "      <td>Sputnik-1</td>\n",
       "      <td>Retired</td>\n",
       "      <td>NaN</td>\n",
       "      <td>Success</td>\n",
       "    </tr>\n",
       "    <tr>\n",
       "      <th>1</th>\n",
       "      <td>RVSN USSR</td>\n",
       "      <td>Site 1/5, Baikonur Cosmodrome, Kazakhstan</td>\n",
       "      <td>1957-11-03</td>\n",
       "      <td>02:30:00</td>\n",
       "      <td>Sputnik 8K71PS</td>\n",
       "      <td>Sputnik-2</td>\n",
       "      <td>Retired</td>\n",
       "      <td>NaN</td>\n",
       "      <td>Success</td>\n",
       "    </tr>\n",
       "    <tr>\n",
       "      <th>2</th>\n",
       "      <td>US Navy</td>\n",
       "      <td>LC-18A, Cape Canaveral AFS, Florida, USA</td>\n",
       "      <td>1957-12-06</td>\n",
       "      <td>16:44:00</td>\n",
       "      <td>Vanguard</td>\n",
       "      <td>Vanguard TV3</td>\n",
       "      <td>Retired</td>\n",
       "      <td>NaN</td>\n",
       "      <td>Failure</td>\n",
       "    </tr>\n",
       "    <tr>\n",
       "      <th>3</th>\n",
       "      <td>AMBA</td>\n",
       "      <td>LC-26A, Cape Canaveral AFS, Florida, USA</td>\n",
       "      <td>1958-02-01</td>\n",
       "      <td>03:48:00</td>\n",
       "      <td>Juno I</td>\n",
       "      <td>Explorer 1</td>\n",
       "      <td>Retired</td>\n",
       "      <td>NaN</td>\n",
       "      <td>Success</td>\n",
       "    </tr>\n",
       "    <tr>\n",
       "      <th>4</th>\n",
       "      <td>US Navy</td>\n",
       "      <td>LC-18A, Cape Canaveral AFS, Florida, USA</td>\n",
       "      <td>1958-02-05</td>\n",
       "      <td>07:33:00</td>\n",
       "      <td>Vanguard</td>\n",
       "      <td>Vanguard TV3BU</td>\n",
       "      <td>Retired</td>\n",
       "      <td>NaN</td>\n",
       "      <td>Failure</td>\n",
       "    </tr>\n",
       "  </tbody>\n",
       "</table>\n",
       "</div>"
      ],
      "text/plain": [
       "     Company                                   Location       Date      Time  \\\n",
       "0  RVSN USSR  Site 1/5, Baikonur Cosmodrome, Kazakhstan 1957-10-04  19:28:00   \n",
       "1  RVSN USSR  Site 1/5, Baikonur Cosmodrome, Kazakhstan 1957-11-03  02:30:00   \n",
       "2    US Navy   LC-18A, Cape Canaveral AFS, Florida, USA 1957-12-06  16:44:00   \n",
       "3       AMBA   LC-26A, Cape Canaveral AFS, Florida, USA 1958-02-01  03:48:00   \n",
       "4    US Navy   LC-18A, Cape Canaveral AFS, Florida, USA 1958-02-05  07:33:00   \n",
       "\n",
       "           Rocket         Mission RocketStatus  Price MissionStatus  \n",
       "0  Sputnik 8K71PS       Sputnik-1      Retired    NaN       Success  \n",
       "1  Sputnik 8K71PS       Sputnik-2      Retired    NaN       Success  \n",
       "2        Vanguard    Vanguard TV3      Retired    NaN       Failure  \n",
       "3          Juno I      Explorer 1      Retired    NaN       Success  \n",
       "4        Vanguard  Vanguard TV3BU      Retired    NaN       Failure  "
      ]
     },
     "execution_count": 16,
     "metadata": {},
     "output_type": "execute_result"
    }
   ],
   "source": [
    "sp.head(5)"
   ]
  },
  {
   "cell_type": "code",
   "execution_count": 47,
   "metadata": {},
   "outputs": [
    {
     "data": {
      "text/html": [
       "<div>\n",
       "<style scoped>\n",
       "    .dataframe tbody tr th:only-of-type {\n",
       "        vertical-align: middle;\n",
       "    }\n",
       "\n",
       "    .dataframe tbody tr th {\n",
       "        vertical-align: top;\n",
       "    }\n",
       "\n",
       "    .dataframe thead th {\n",
       "        text-align: right;\n",
       "    }\n",
       "</style>\n",
       "<table border=\"1\" class=\"dataframe\">\n",
       "  <thead>\n",
       "    <tr style=\"text-align: right;\">\n",
       "      <th></th>\n",
       "      <th>Price</th>\n",
       "      <th>Year</th>\n",
       "      <th>Month</th>\n",
       "      <th>Hour</th>\n",
       "    </tr>\n",
       "  </thead>\n",
       "  <tbody>\n",
       "    <tr>\n",
       "      <th>count</th>\n",
       "      <td>1265.000000</td>\n",
       "      <td>4630.000000</td>\n",
       "      <td>4630.000000</td>\n",
       "      <td>4503.000000</td>\n",
       "    </tr>\n",
       "    <tr>\n",
       "      <th>mean</th>\n",
       "      <td>128.303913</td>\n",
       "      <td>1989.616199</td>\n",
       "      <td>6.765227</td>\n",
       "      <td>11.640240</td>\n",
       "    </tr>\n",
       "    <tr>\n",
       "      <th>std</th>\n",
       "      <td>256.769663</td>\n",
       "      <td>19.373003</td>\n",
       "      <td>3.423572</td>\n",
       "      <td>6.745207</td>\n",
       "    </tr>\n",
       "    <tr>\n",
       "      <th>min</th>\n",
       "      <td>2.500000</td>\n",
       "      <td>1957.000000</td>\n",
       "      <td>1.000000</td>\n",
       "      <td>0.000000</td>\n",
       "    </tr>\n",
       "    <tr>\n",
       "      <th>25%</th>\n",
       "      <td>30.000000</td>\n",
       "      <td>1973.000000</td>\n",
       "      <td>4.000000</td>\n",
       "      <td>6.000000</td>\n",
       "    </tr>\n",
       "    <tr>\n",
       "      <th>50%</th>\n",
       "      <td>63.230000</td>\n",
       "      <td>1987.000000</td>\n",
       "      <td>7.000000</td>\n",
       "      <td>11.000000</td>\n",
       "    </tr>\n",
       "    <tr>\n",
       "      <th>75%</th>\n",
       "      <td>115.000000</td>\n",
       "      <td>2007.000000</td>\n",
       "      <td>10.000000</td>\n",
       "      <td>17.000000</td>\n",
       "    </tr>\n",
       "    <tr>\n",
       "      <th>max</th>\n",
       "      <td>5000.000000</td>\n",
       "      <td>2022.000000</td>\n",
       "      <td>12.000000</td>\n",
       "      <td>23.000000</td>\n",
       "    </tr>\n",
       "  </tbody>\n",
       "</table>\n",
       "</div>"
      ],
      "text/plain": [
       "             Price         Year        Month         Hour\n",
       "count  1265.000000  4630.000000  4630.000000  4503.000000\n",
       "mean    128.303913  1989.616199     6.765227    11.640240\n",
       "std     256.769663    19.373003     3.423572     6.745207\n",
       "min       2.500000  1957.000000     1.000000     0.000000\n",
       "25%      30.000000  1973.000000     4.000000     6.000000\n",
       "50%      63.230000  1987.000000     7.000000    11.000000\n",
       "75%     115.000000  2007.000000    10.000000    17.000000\n",
       "max    5000.000000  2022.000000    12.000000    23.000000"
      ]
     },
     "execution_count": 47,
     "metadata": {},
     "output_type": "execute_result"
    }
   ],
   "source": [
    "sp.describe()"
   ]
  },
  {
   "cell_type": "markdown",
   "metadata": {},
   "source": [
    "- Keep in mind the values for price attribute had more than 2000 null values. So the above stats doesnot provide the right understanding of the Price attribute"
   ]
  },
  {
   "cell_type": "markdown",
   "metadata": {},
   "source": [
    "**Remove or Add Coloumns accroding to the needs for analysis**"
   ]
  },
  {
   "cell_type": "code",
   "execution_count": 17,
   "metadata": {},
   "outputs": [
    {
     "data": {
      "text/html": [
       "<div>\n",
       "<style scoped>\n",
       "    .dataframe tbody tr th:only-of-type {\n",
       "        vertical-align: middle;\n",
       "    }\n",
       "\n",
       "    .dataframe tbody tr th {\n",
       "        vertical-align: top;\n",
       "    }\n",
       "\n",
       "    .dataframe thead th {\n",
       "        text-align: right;\n",
       "    }\n",
       "</style>\n",
       "<table border=\"1\" class=\"dataframe\">\n",
       "  <thead>\n",
       "    <tr style=\"text-align: right;\">\n",
       "      <th></th>\n",
       "      <th>0</th>\n",
       "      <th>1</th>\n",
       "      <th>2</th>\n",
       "      <th>3</th>\n",
       "      <th>4</th>\n",
       "    </tr>\n",
       "  </thead>\n",
       "  <tbody>\n",
       "    <tr>\n",
       "      <th>0</th>\n",
       "      <td>Site 1/5</td>\n",
       "      <td>Baikonur Cosmodrome</td>\n",
       "      <td>Kazakhstan</td>\n",
       "      <td>None</td>\n",
       "      <td>None</td>\n",
       "    </tr>\n",
       "    <tr>\n",
       "      <th>1</th>\n",
       "      <td>Site 1/5</td>\n",
       "      <td>Baikonur Cosmodrome</td>\n",
       "      <td>Kazakhstan</td>\n",
       "      <td>None</td>\n",
       "      <td>None</td>\n",
       "    </tr>\n",
       "    <tr>\n",
       "      <th>2</th>\n",
       "      <td>LC-18A</td>\n",
       "      <td>Cape Canaveral AFS</td>\n",
       "      <td>Florida</td>\n",
       "      <td>USA</td>\n",
       "      <td>None</td>\n",
       "    </tr>\n",
       "    <tr>\n",
       "      <th>3</th>\n",
       "      <td>LC-26A</td>\n",
       "      <td>Cape Canaveral AFS</td>\n",
       "      <td>Florida</td>\n",
       "      <td>USA</td>\n",
       "      <td>None</td>\n",
       "    </tr>\n",
       "    <tr>\n",
       "      <th>4</th>\n",
       "      <td>LC-18A</td>\n",
       "      <td>Cape Canaveral AFS</td>\n",
       "      <td>Florida</td>\n",
       "      <td>USA</td>\n",
       "      <td>None</td>\n",
       "    </tr>\n",
       "    <tr>\n",
       "      <th>...</th>\n",
       "      <td>...</td>\n",
       "      <td>...</td>\n",
       "      <td>...</td>\n",
       "      <td>...</td>\n",
       "      <td>...</td>\n",
       "    </tr>\n",
       "    <tr>\n",
       "      <th>4625</th>\n",
       "      <td>SLC-4E</td>\n",
       "      <td>Vandenberg SFB</td>\n",
       "      <td>California</td>\n",
       "      <td>USA</td>\n",
       "      <td>None</td>\n",
       "    </tr>\n",
       "    <tr>\n",
       "      <th>4626</th>\n",
       "      <td>LC-101</td>\n",
       "      <td>Wenchang Satellite Launch Center</td>\n",
       "      <td>China</td>\n",
       "      <td>None</td>\n",
       "      <td>None</td>\n",
       "    </tr>\n",
       "    <tr>\n",
       "      <th>4627</th>\n",
       "      <td>LC-39A</td>\n",
       "      <td>Kennedy Space Center</td>\n",
       "      <td>Florida</td>\n",
       "      <td>USA</td>\n",
       "      <td>None</td>\n",
       "    </tr>\n",
       "    <tr>\n",
       "      <th>4628</th>\n",
       "      <td>Jiuquan Satellite Launch Center</td>\n",
       "      <td>China</td>\n",
       "      <td>None</td>\n",
       "      <td>None</td>\n",
       "      <td>None</td>\n",
       "    </tr>\n",
       "    <tr>\n",
       "      <th>4629</th>\n",
       "      <td>LC-3</td>\n",
       "      <td>Xichang Satellite Launch Center</td>\n",
       "      <td>China</td>\n",
       "      <td>None</td>\n",
       "      <td>None</td>\n",
       "    </tr>\n",
       "  </tbody>\n",
       "</table>\n",
       "<p>4630 rows × 5 columns</p>\n",
       "</div>"
      ],
      "text/plain": [
       "                                    0                                  1  \\\n",
       "0                            Site 1/5                Baikonur Cosmodrome   \n",
       "1                            Site 1/5                Baikonur Cosmodrome   \n",
       "2                              LC-18A                 Cape Canaveral AFS   \n",
       "3                              LC-26A                 Cape Canaveral AFS   \n",
       "4                              LC-18A                 Cape Canaveral AFS   \n",
       "...                               ...                                ...   \n",
       "4625                           SLC-4E                     Vandenberg SFB   \n",
       "4626                           LC-101   Wenchang Satellite Launch Center   \n",
       "4627                           LC-39A               Kennedy Space Center   \n",
       "4628  Jiuquan Satellite Launch Center                              China   \n",
       "4629                             LC-3    Xichang Satellite Launch Center   \n",
       "\n",
       "                2     3     4  \n",
       "0      Kazakhstan  None  None  \n",
       "1      Kazakhstan  None  None  \n",
       "2         Florida   USA  None  \n",
       "3         Florida   USA  None  \n",
       "4         Florida   USA  None  \n",
       "...           ...   ...   ...  \n",
       "4625   California   USA  None  \n",
       "4626        China  None  None  \n",
       "4627      Florida   USA  None  \n",
       "4628         None  None  None  \n",
       "4629        China  None  None  \n",
       "\n",
       "[4630 rows x 5 columns]"
      ]
     },
     "execution_count": 17,
     "metadata": {},
     "output_type": "execute_result"
    }
   ],
   "source": [
    "sp.Location.str.split(pat=\",\",n=4, expand=True) #n is max separations\n"
   ]
  },
  {
   "cell_type": "code",
   "execution_count": 19,
   "metadata": {},
   "outputs": [
    {
     "data": {
      "text/html": [
       "<div>\n",
       "<style scoped>\n",
       "    .dataframe tbody tr th:only-of-type {\n",
       "        vertical-align: middle;\n",
       "    }\n",
       "\n",
       "    .dataframe tbody tr th {\n",
       "        vertical-align: top;\n",
       "    }\n",
       "\n",
       "    .dataframe thead th {\n",
       "        text-align: right;\n",
       "    }\n",
       "</style>\n",
       "<table border=\"1\" class=\"dataframe\">\n",
       "  <thead>\n",
       "    <tr style=\"text-align: right;\">\n",
       "      <th></th>\n",
       "      <th>Company</th>\n",
       "      <th>Location</th>\n",
       "      <th>Date</th>\n",
       "      <th>Time</th>\n",
       "      <th>Rocket</th>\n",
       "      <th>Mission</th>\n",
       "      <th>RocketStatus</th>\n",
       "      <th>Price</th>\n",
       "      <th>MissionStatus</th>\n",
       "      <th>Year</th>\n",
       "      <th>Month</th>\n",
       "      <th>Day</th>\n",
       "    </tr>\n",
       "  </thead>\n",
       "  <tbody>\n",
       "    <tr>\n",
       "      <th>0</th>\n",
       "      <td>RVSN USSR</td>\n",
       "      <td>Site 1/5, Baikonur Cosmodrome, Kazakhstan</td>\n",
       "      <td>1957-10-04</td>\n",
       "      <td>19:28:00</td>\n",
       "      <td>Sputnik 8K71PS</td>\n",
       "      <td>Sputnik-1</td>\n",
       "      <td>Retired</td>\n",
       "      <td>NaN</td>\n",
       "      <td>Success</td>\n",
       "      <td>1957</td>\n",
       "      <td>10</td>\n",
       "      <td>4</td>\n",
       "    </tr>\n",
       "    <tr>\n",
       "      <th>1</th>\n",
       "      <td>RVSN USSR</td>\n",
       "      <td>Site 1/5, Baikonur Cosmodrome, Kazakhstan</td>\n",
       "      <td>1957-11-03</td>\n",
       "      <td>02:30:00</td>\n",
       "      <td>Sputnik 8K71PS</td>\n",
       "      <td>Sputnik-2</td>\n",
       "      <td>Retired</td>\n",
       "      <td>NaN</td>\n",
       "      <td>Success</td>\n",
       "      <td>1957</td>\n",
       "      <td>11</td>\n",
       "      <td>3</td>\n",
       "    </tr>\n",
       "    <tr>\n",
       "      <th>2</th>\n",
       "      <td>US Navy</td>\n",
       "      <td>LC-18A, Cape Canaveral AFS, Florida, USA</td>\n",
       "      <td>1957-12-06</td>\n",
       "      <td>16:44:00</td>\n",
       "      <td>Vanguard</td>\n",
       "      <td>Vanguard TV3</td>\n",
       "      <td>Retired</td>\n",
       "      <td>NaN</td>\n",
       "      <td>Failure</td>\n",
       "      <td>1957</td>\n",
       "      <td>12</td>\n",
       "      <td>6</td>\n",
       "    </tr>\n",
       "    <tr>\n",
       "      <th>3</th>\n",
       "      <td>AMBA</td>\n",
       "      <td>LC-26A, Cape Canaveral AFS, Florida, USA</td>\n",
       "      <td>1958-02-01</td>\n",
       "      <td>03:48:00</td>\n",
       "      <td>Juno I</td>\n",
       "      <td>Explorer 1</td>\n",
       "      <td>Retired</td>\n",
       "      <td>NaN</td>\n",
       "      <td>Success</td>\n",
       "      <td>1958</td>\n",
       "      <td>2</td>\n",
       "      <td>1</td>\n",
       "    </tr>\n",
       "    <tr>\n",
       "      <th>4</th>\n",
       "      <td>US Navy</td>\n",
       "      <td>LC-18A, Cape Canaveral AFS, Florida, USA</td>\n",
       "      <td>1958-02-05</td>\n",
       "      <td>07:33:00</td>\n",
       "      <td>Vanguard</td>\n",
       "      <td>Vanguard TV3BU</td>\n",
       "      <td>Retired</td>\n",
       "      <td>NaN</td>\n",
       "      <td>Failure</td>\n",
       "      <td>1958</td>\n",
       "      <td>2</td>\n",
       "      <td>5</td>\n",
       "    </tr>\n",
       "  </tbody>\n",
       "</table>\n",
       "</div>"
      ],
      "text/plain": [
       "     Company                                   Location       Date      Time  \\\n",
       "0  RVSN USSR  Site 1/5, Baikonur Cosmodrome, Kazakhstan 1957-10-04  19:28:00   \n",
       "1  RVSN USSR  Site 1/5, Baikonur Cosmodrome, Kazakhstan 1957-11-03  02:30:00   \n",
       "2    US Navy   LC-18A, Cape Canaveral AFS, Florida, USA 1957-12-06  16:44:00   \n",
       "3       AMBA   LC-26A, Cape Canaveral AFS, Florida, USA 1958-02-01  03:48:00   \n",
       "4    US Navy   LC-18A, Cape Canaveral AFS, Florida, USA 1958-02-05  07:33:00   \n",
       "\n",
       "           Rocket         Mission RocketStatus  Price MissionStatus  Year  \\\n",
       "0  Sputnik 8K71PS       Sputnik-1      Retired    NaN       Success  1957   \n",
       "1  Sputnik 8K71PS       Sputnik-2      Retired    NaN       Success  1957   \n",
       "2        Vanguard    Vanguard TV3      Retired    NaN       Failure  1957   \n",
       "3          Juno I      Explorer 1      Retired    NaN       Success  1958   \n",
       "4        Vanguard  Vanguard TV3BU      Retired    NaN       Failure  1958   \n",
       "\n",
       "   Month  Day  \n",
       "0     10    4  \n",
       "1     11    3  \n",
       "2     12    6  \n",
       "3      2    1  \n",
       "4      2    5  "
      ]
     },
     "execution_count": 19,
     "metadata": {},
     "output_type": "execute_result"
    }
   ],
   "source": [
    "sp['Year']= sp['Date'].dt.year\n",
    "sp['Month']= sp['Date'].dt.month\n",
    "sp['Day']= sp['Date'].dt.day\n",
    "\n",
    "sp.head(5)"
   ]
  },
  {
   "cell_type": "code",
   "execution_count": 32,
   "metadata": {},
   "outputs": [
    {
     "data": {
      "text/plain": [
       "0       19\n",
       "1       02\n",
       "2       16\n",
       "3       03\n",
       "4       07\n",
       "        ..\n",
       "4625    17\n",
       "4626    06\n",
       "4627    13\n",
       "4628    04\n",
       "4629    13\n",
       "Name: Hour, Length: 4630, dtype: object"
      ]
     },
     "execution_count": 32,
     "metadata": {},
     "output_type": "execute_result"
    }
   ],
   "source": [
    "c= sp['Time'].astype(str)\n",
    "sp['Hour']= c.str.slice(0,2,)\n",
    "sp['Hour']"
   ]
  },
  {
   "cell_type": "code",
   "execution_count": 33,
   "metadata": {
    "scrolled": true
   },
   "outputs": [
    {
     "data": {
      "text/html": [
       "<div>\n",
       "<style scoped>\n",
       "    .dataframe tbody tr th:only-of-type {\n",
       "        vertical-align: middle;\n",
       "    }\n",
       "\n",
       "    .dataframe tbody tr th {\n",
       "        vertical-align: top;\n",
       "    }\n",
       "\n",
       "    .dataframe thead th {\n",
       "        text-align: right;\n",
       "    }\n",
       "</style>\n",
       "<table border=\"1\" class=\"dataframe\">\n",
       "  <thead>\n",
       "    <tr style=\"text-align: right;\">\n",
       "      <th></th>\n",
       "      <th>Company</th>\n",
       "      <th>Location</th>\n",
       "      <th>Date</th>\n",
       "      <th>Year</th>\n",
       "      <th>Month</th>\n",
       "      <th>Day</th>\n",
       "      <th>Time</th>\n",
       "      <th>Hour</th>\n",
       "      <th>Rocket</th>\n",
       "      <th>Mission</th>\n",
       "      <th>RocketStatus</th>\n",
       "      <th>Price</th>\n",
       "      <th>MissionStatus</th>\n",
       "    </tr>\n",
       "  </thead>\n",
       "  <tbody>\n",
       "    <tr>\n",
       "      <th>0</th>\n",
       "      <td>RVSN USSR</td>\n",
       "      <td>Site 1/5, Baikonur Cosmodrome, Kazakhstan</td>\n",
       "      <td>1957-10-04</td>\n",
       "      <td>1957</td>\n",
       "      <td>10</td>\n",
       "      <td>4</td>\n",
       "      <td>19:28:00</td>\n",
       "      <td>19</td>\n",
       "      <td>Sputnik 8K71PS</td>\n",
       "      <td>Sputnik-1</td>\n",
       "      <td>Retired</td>\n",
       "      <td>NaN</td>\n",
       "      <td>Success</td>\n",
       "    </tr>\n",
       "    <tr>\n",
       "      <th>1</th>\n",
       "      <td>RVSN USSR</td>\n",
       "      <td>Site 1/5, Baikonur Cosmodrome, Kazakhstan</td>\n",
       "      <td>1957-11-03</td>\n",
       "      <td>1957</td>\n",
       "      <td>11</td>\n",
       "      <td>3</td>\n",
       "      <td>02:30:00</td>\n",
       "      <td>02</td>\n",
       "      <td>Sputnik 8K71PS</td>\n",
       "      <td>Sputnik-2</td>\n",
       "      <td>Retired</td>\n",
       "      <td>NaN</td>\n",
       "      <td>Success</td>\n",
       "    </tr>\n",
       "    <tr>\n",
       "      <th>2</th>\n",
       "      <td>US Navy</td>\n",
       "      <td>LC-18A, Cape Canaveral AFS, Florida, USA</td>\n",
       "      <td>1957-12-06</td>\n",
       "      <td>1957</td>\n",
       "      <td>12</td>\n",
       "      <td>6</td>\n",
       "      <td>16:44:00</td>\n",
       "      <td>16</td>\n",
       "      <td>Vanguard</td>\n",
       "      <td>Vanguard TV3</td>\n",
       "      <td>Retired</td>\n",
       "      <td>NaN</td>\n",
       "      <td>Failure</td>\n",
       "    </tr>\n",
       "    <tr>\n",
       "      <th>3</th>\n",
       "      <td>AMBA</td>\n",
       "      <td>LC-26A, Cape Canaveral AFS, Florida, USA</td>\n",
       "      <td>1958-02-01</td>\n",
       "      <td>1958</td>\n",
       "      <td>2</td>\n",
       "      <td>1</td>\n",
       "      <td>03:48:00</td>\n",
       "      <td>03</td>\n",
       "      <td>Juno I</td>\n",
       "      <td>Explorer 1</td>\n",
       "      <td>Retired</td>\n",
       "      <td>NaN</td>\n",
       "      <td>Success</td>\n",
       "    </tr>\n",
       "    <tr>\n",
       "      <th>4</th>\n",
       "      <td>US Navy</td>\n",
       "      <td>LC-18A, Cape Canaveral AFS, Florida, USA</td>\n",
       "      <td>1958-02-05</td>\n",
       "      <td>1958</td>\n",
       "      <td>2</td>\n",
       "      <td>5</td>\n",
       "      <td>07:33:00</td>\n",
       "      <td>07</td>\n",
       "      <td>Vanguard</td>\n",
       "      <td>Vanguard TV3BU</td>\n",
       "      <td>Retired</td>\n",
       "      <td>NaN</td>\n",
       "      <td>Failure</td>\n",
       "    </tr>\n",
       "  </tbody>\n",
       "</table>\n",
       "</div>"
      ],
      "text/plain": [
       "     Company                                   Location       Date  Year  \\\n",
       "0  RVSN USSR  Site 1/5, Baikonur Cosmodrome, Kazakhstan 1957-10-04  1957   \n",
       "1  RVSN USSR  Site 1/5, Baikonur Cosmodrome, Kazakhstan 1957-11-03  1957   \n",
       "2    US Navy   LC-18A, Cape Canaveral AFS, Florida, USA 1957-12-06  1957   \n",
       "3       AMBA   LC-26A, Cape Canaveral AFS, Florida, USA 1958-02-01  1958   \n",
       "4    US Navy   LC-18A, Cape Canaveral AFS, Florida, USA 1958-02-05  1958   \n",
       "\n",
       "   Month  Day      Time Hour          Rocket         Mission RocketStatus  \\\n",
       "0     10    4  19:28:00   19  Sputnik 8K71PS       Sputnik-1      Retired   \n",
       "1     11    3  02:30:00   02  Sputnik 8K71PS       Sputnik-2      Retired   \n",
       "2     12    6  16:44:00   16        Vanguard    Vanguard TV3      Retired   \n",
       "3      2    1  03:48:00   03          Juno I      Explorer 1      Retired   \n",
       "4      2    5  07:33:00   07        Vanguard  Vanguard TV3BU      Retired   \n",
       "\n",
       "   Price MissionStatus  \n",
       "0    NaN       Success  \n",
       "1    NaN       Success  \n",
       "2    NaN       Failure  \n",
       "3    NaN       Success  \n",
       "4    NaN       Failure  "
      ]
     },
     "execution_count": 33,
     "metadata": {},
     "output_type": "execute_result"
    }
   ],
   "source": [
    "columns = ['Company', 'Location', 'Date', 'Year', 'Month','Day', 'Time','Hour', 'Rocket', 'Mission',\n",
    "       'RocketStatus', 'Price', 'MissionStatus']\n",
    "sp = sp[columns]\n",
    "sp.head(5)"
   ]
  },
  {
   "cell_type": "markdown",
   "metadata": {},
   "source": [
    "# 2.Exploratory Data Analysis"
   ]
  },
  {
   "cell_type": "markdown",
   "metadata": {},
   "source": [
    "## Popular Companies"
   ]
  },
  {
   "cell_type": "code",
   "execution_count": 37,
   "metadata": {},
   "outputs": [
    {
     "data": {
      "text/plain": [
       "RVSN USSR           1777\n",
       "CASC                 338\n",
       "Arianespace          293\n",
       "General Dynamics     251\n",
       "VKS RF               216\n",
       "                    ... \n",
       "OneSpace               1\n",
       "EER                    1\n",
       "Khrunichev             1\n",
       "Douglas                1\n",
       "GK LS                  1\n",
       "Name: Company, Length: 62, dtype: int64"
      ]
     },
     "execution_count": 37,
     "metadata": {},
     "output_type": "execute_result"
    }
   ],
   "source": [
    "pop_companies= sp.Company.value_counts()\n",
    "pop_companies"
   ]
  },
  {
   "cell_type": "markdown",
   "metadata": {},
   "source": [
    "**Top 10 companies**"
   ]
  },
  {
   "cell_type": "code",
   "execution_count": 38,
   "metadata": {},
   "outputs": [
    {
     "data": {
      "text/plain": [
       "RVSN USSR           1777\n",
       "CASC                 338\n",
       "Arianespace          293\n",
       "General Dynamics     251\n",
       "VKS RF               216\n",
       "NASA                 203\n",
       "SpaceX               182\n",
       "US Air Force         161\n",
       "ULA                  151\n",
       "Boeing               136\n",
       "Name: Company, dtype: int64"
      ]
     },
     "execution_count": 38,
     "metadata": {},
     "output_type": "execute_result"
    }
   ],
   "source": [
    "pop_companies[:10]"
   ]
  },
  {
   "cell_type": "code",
   "execution_count": 39,
   "metadata": {},
   "outputs": [
    {
     "data": {
      "text/plain": [
       "<matplotlib.axes._subplots.AxesSubplot at 0x280ccddf280>"
      ]
     },
     "execution_count": 39,
     "metadata": {},
     "output_type": "execute_result"
    },
    {
     "data": {
      "image/png": "[encoded data removed]",
      "text/plain": [
       "<Figure size 432x288 with 1 Axes>"
      ]
     },
     "metadata": {
      "needs_background": "light"
     },
     "output_type": "display_data"
    }
   ],
   "source": [
    "pop_companies[:10].plot(kind='barh')"
   ]
  },
  {
   "cell_type": "code",
   "execution_count": 40,
   "metadata": {
    "scrolled": false
   },
   "outputs": [
    {
     "data": {
      "text/plain": [
       "RVSN USSR           38.380130\n",
       "CASC                 7.300216\n",
       "Arianespace          6.328294\n",
       "General Dynamics     5.421166\n",
       "VKS RF               4.665227\n",
       "                      ...    \n",
       "OneSpace             0.021598\n",
       "EER                  0.021598\n",
       "Khrunichev           0.021598\n",
       "Douglas              0.021598\n",
       "GK LS                0.021598\n",
       "Name: Company, Length: 62, dtype: float64"
      ]
     },
     "execution_count": 40,
     "metadata": {},
     "output_type": "execute_result"
    }
   ],
   "source": [
    "pg_pop_companies= (sp.Company.value_counts())/(len(sp['Company']))*100\n",
    "pg_pop_companies"
   ]
  },
  {
   "cell_type": "code",
   "execution_count": 41,
   "metadata": {
    "scrolled": false
   },
   "outputs": [
    {
     "data": {
      "text/plain": [
       "RVSN USSR           38.380130\n",
       "CASC                 7.300216\n",
       "Arianespace          6.328294\n",
       "General Dynamics     5.421166\n",
       "VKS RF               4.665227\n",
       "NASA                 4.384449\n",
       "SpaceX               3.930886\n",
       "US Air Force         3.477322\n",
       "ULA                  3.261339\n",
       "Boeing               2.937365\n",
       "Name: Company, dtype: float64"
      ]
     },
     "execution_count": 41,
     "metadata": {},
     "output_type": "execute_result"
    }
   ],
   "source": [
    "pg_pop_companies[:10]"
   ]
  },
  {
   "cell_type": "code",
   "execution_count": 63,
   "metadata": {},
   "outputs": [
    {
     "data": {
      "text/plain": [
       "<matplotlib.axes._subplots.AxesSubplot at 0x280cc2ed0a0>"
      ]
     },
     "execution_count": 63,
     "metadata": {},
     "output_type": "execute_result"
    },
    {
     "data": {
      "image/png": "[encoded data removed]",
      "text/plain": [
       "<Figure size 4320x360 with 1 Axes>"
      ]
     },
     "metadata": {},
     "output_type": "display_data"
    }
   ],
   "source": [
    "kwargs = dict(\n",
    "    startangle = 75,\n",
    "    colormap   = 'Pastel2',\n",
    "    fontsize   = 13,\n",
    "    explode    = (0.1,0.2,0.2,0.2,0.2,0.7,0.2,0.2,0.2,0.2),\n",
    "    figsize    = (60,5),\n",
    "    #autopct    = '%1.1f%%',\n",
    "    title      = 'Top 10 Companies'\n",
    ")\n",
    "\n",
    "pg_pop_companies[:10].plot.pie(**kwargs)"
   ]
  },
  {
   "cell_type": "markdown",
   "metadata": {},
   "source": [
    "- USSR dominates space launches by 38% . \n",
    "- NASA is at 6th position with 4% (203) launches"
   ]
  },
  {
   "cell_type": "markdown",
   "metadata": {},
   "source": [
    "## Popular Rockets"
   ]
  },
  {
   "cell_type": "code",
   "execution_count": 64,
   "metadata": {},
   "outputs": [
    {
     "data": {
      "text/plain": [
       "Cosmos-3M (11K65M)     446\n",
       "Voskhod                299\n",
       "Molniya-M /Block ML    128\n",
       "Cosmos-2I (63SM)       126\n",
       "Soyuz U                125\n",
       "                      ... \n",
       "Scout F1                 1\n",
       "Angara A5/Persey         1\n",
       "Jielong-1                1\n",
       "Proton-M                 1\n",
       "Delta II 6920-8          1\n",
       "Name: Rocket, Length: 370, dtype: int64"
      ]
     },
     "execution_count": 64,
     "metadata": {},
     "output_type": "execute_result"
    }
   ],
   "source": [
    "pop_rockets = sp.Rocket.value_counts()\n",
    "pop_rockets"
   ]
  },
  {
   "cell_type": "markdown",
   "metadata": {},
   "source": [
    "**10 Most & Least used rockets**"
   ]
  },
  {
   "cell_type": "code",
   "execution_count": 73,
   "metadata": {
    "scrolled": true
   },
   "outputs": [
    {
     "data": {
      "text/plain": [
       "Cosmos-3M (11K65M)      446\n",
       "Voskhod                 299\n",
       "Molniya-M /Block ML     128\n",
       "Cosmos-2I (63SM)        126\n",
       "Soyuz U                 125\n",
       "Tsyklon-3               122\n",
       "Falcon 9 Block 5        111\n",
       "Tsyklon-2               106\n",
       "Vostok-2M                93\n",
       "Molniya-M /Block 2BL     87\n",
       "Name: Rocket, dtype: int64"
      ]
     },
     "execution_count": 73,
     "metadata": {},
     "output_type": "execute_result"
    }
   ],
   "source": [
    "pop_rockets[:10] "
   ]
  },
  {
   "cell_type": "code",
   "execution_count": 75,
   "metadata": {},
   "outputs": [
    {
     "data": {
      "text/plain": [
       "<matplotlib.axes._subplots.AxesSubplot at 0x280cc55eeb0>"
      ]
     },
     "execution_count": 75,
     "metadata": {},
     "output_type": "execute_result"
    },
    {
     "data": {
      "image/png": "[encoded data removed]",
      "text/plain": [
       "<Figure size 432x288 with 1 Axes>"
      ]
     },
     "metadata": {
      "needs_background": "light"
     },
     "output_type": "display_data"
    }
   ],
   "source": [
    "pop_rockets[:10].plot(kind='bar')"
   ]
  },
  {
   "cell_type": "code",
   "execution_count": 37,
   "metadata": {},
   "outputs": [
    {
     "data": {
      "text/plain": [
       "Proton K/Block-DM      1\n",
       "Delta II 7425-10C      1\n",
       "Long March 2D/YZ-3     1\n",
       "Long March 2C/SMA      1\n",
       "Atlas V 511            1\n",
       "OS-M1                  1\n",
       "Long March 6A          1\n",
       "Scout X-2              1\n",
       "Proton-M               1\n",
       "Atlas-SLV3 Burner-2    1\n",
       "Name: Rocket, dtype: int64"
      ]
     },
     "execution_count": 37,
     "metadata": {},
     "output_type": "execute_result"
    }
   ],
   "source": [
    "popular_rockets[-10:]  #Least Popular Rockets"
   ]
  },
  {
   "cell_type": "markdown",
   "metadata": {},
   "source": [
    "## Yearly Launches"
   ]
  },
  {
   "cell_type": "code",
   "execution_count": 124,
   "metadata": {
    "scrolled": true
   },
   "outputs": [
    {
     "data": {
      "text/plain": [
       "<matplotlib.axes._subplots.AxesSubplot at 0x280d1e481c0>"
      ]
     },
     "execution_count": 124,
     "metadata": {},
     "output_type": "execute_result"
    },
    {
     "data": {
      "image/png": "[encoded data removed]",
      "text/plain": [
       "<Figure size 864x360 with 1 Axes>"
      ]
     },
     "metadata": {
      "needs_background": "light"
     },
     "output_type": "display_data"
    }
   ],
   "source": [
    "sp[\"Year\"].value_counts().plot.bar(figsize=(12,5))"
   ]
  },
  {
   "cell_type": "code",
   "execution_count": 158,
   "metadata": {
    "scrolled": true
   },
   "outputs": [
    {
     "data": {
      "text/plain": [
       "<matplotlib.axes._subplots.AxesSubplot at 0x280d27c6c70>"
      ]
     },
     "execution_count": 158,
     "metadata": {},
     "output_type": "execute_result"
    },
    {
     "data": {
      "image/png": "[encoded data removed]",
      "text/plain": [
       "<Figure size 432x288 with 1 Axes>"
      ]
     },
     "metadata": {
      "needs_background": "light"
     },
     "output_type": "display_data"
    }
   ],
   "source": [
    "sp[\"Year\"].value_counts()[:20].plot.bar()"
   ]
  },
  {
   "cell_type": "code",
   "execution_count": 157,
   "metadata": {},
   "outputs": [
    {
     "data": {
      "text/plain": [
       "<matplotlib.axes._subplots.AxesSubplot at 0x280d1cb7c10>"
      ]
     },
     "execution_count": 157,
     "metadata": {},
     "output_type": "execute_result"
    },
    {
     "data": {
      "image/png": "[encoded data removed]",
      "text/plain": [
       "<Figure size 432x288 with 1 Axes>"
      ]
     },
     "metadata": {
      "needs_background": "light"
     },
     "output_type": "display_data"
    }
   ],
   "source": [
    "sp[\"Year\"].groupby(sp[\"Year\"]).count() .plot(kind=\"line\")"
   ]
  },
  {
   "cell_type": "markdown",
   "metadata": {},
   "source": [
    "- Heighest Launches in 2021\n",
    "- In 1971 & 2020 we had made same no .of launches - 119"
   ]
  },
  {
   "cell_type": "markdown",
   "metadata": {},
   "source": [
    "**Comparing 90's & 2k launches**"
   ]
  },
  {
   "cell_type": "code",
   "execution_count": 129,
   "metadata": {},
   "outputs": [
    {
     "data": {
      "text/plain": [
       "(1900.999, 1999.0]    3110\n",
       "Name: Year, dtype: int64"
      ]
     },
     "execution_count": 129,
     "metadata": {},
     "output_type": "execute_result"
    }
   ],
   "source": [
    "launchesin90 = (sp[\"Year\"]).value_counts(bins=[1901,1999])\n",
    "launchesin90"
   ]
  },
  {
   "cell_type": "code",
   "execution_count": 130,
   "metadata": {},
   "outputs": [
    {
     "data": {
      "text/plain": [
       "(2000.999, 2022.0]    1463\n",
       "Name: Year, dtype: int64"
      ]
     },
     "execution_count": 130,
     "metadata": {},
     "output_type": "execute_result"
    }
   ],
   "source": [
    "launchesin2k = (sp[\"Year\"]).value_counts(bins=[2001,2022])\n",
    "launchesin2k"
   ]
  },
  {
   "cell_type": "code",
   "execution_count": 132,
   "metadata": {},
   "outputs": [
    {
     "data": {
      "text/plain": [
       "(1900.999, 1999.0]    67.170626\n",
       "Name: Year, dtype: float64"
      ]
     },
     "execution_count": 132,
     "metadata": {},
     "output_type": "execute_result"
    }
   ],
   "source": [
    "(launchesin90/len(sp)) *100"
   ]
  },
  {
   "cell_type": "code",
   "execution_count": 133,
   "metadata": {},
   "outputs": [
    {
     "data": {
      "text/plain": [
       "(2000.999, 2022.0]    31.598272\n",
       "Name: Year, dtype: float64"
      ]
     },
     "execution_count": 133,
     "metadata": {},
     "output_type": "execute_result"
    }
   ],
   "source": [
    "(launchesin2k/len(sp))*100"
   ]
  },
  {
   "cell_type": "markdown",
   "metadata": {},
   "source": [
    "- Space launches were active in 90's than 2k"
   ]
  },
  {
   "cell_type": "code",
   "execution_count": 146,
   "metadata": {},
   "outputs": [
    {
     "data": {
      "text/plain": [
       "(1956.934, 1962.417]    224\n",
       "(1962.417, 1967.833]    395\n",
       "(1967.833, 1973.25]     634\n",
       "(1973.25, 1978.667]     535\n",
       "(1978.667, 1984.083]    377\n",
       "(1984.083, 1989.5]      303\n",
       "(1989.5, 1994.917]      326\n",
       "(1994.917, 2000.333]    373\n",
       "(2000.333, 2005.75]     221\n",
       "(2005.75, 2011.167]     276\n",
       "(2011.167, 2016.583]    279\n",
       "(2016.583, 2022.0]      687\n",
       "Name: Year, dtype: int64"
      ]
     },
     "execution_count": 146,
     "metadata": {},
     "output_type": "execute_result"
    }
   ],
   "source": [
    "(sp[\"Year\"]).value_counts(bins=12,sort=False)"
   ]
  },
  {
   "cell_type": "code",
   "execution_count": 215,
   "metadata": {
    "scrolled": true
   },
   "outputs": [
    {
     "data": {
      "text/plain": [
       "Year\n",
       "1969    103\n",
       "1970    107\n",
       "1971    119\n",
       "1972     99\n",
       "1973    103\n",
       "1974     98\n",
       "1975    113\n",
       "1976    113\n",
       "1977    114\n",
       "1978     97\n",
       "1979     49\n",
       "1980     55\n",
       "1981     71\n",
       "1982     67\n",
       "1983     66\n",
       "1984     69\n",
       "1985     74\n",
       "1986     62\n",
       "1987     56\n",
       "1988     59\n",
       "1989     52\n",
       "1990     80\n",
       "1991     59\n",
       "1992     62\n",
       "1993     61\n",
       "1994     64\n",
       "1995     61\n",
       "1996     60\n",
       "1997     70\n",
       "1998     68\n",
       "1999     57\n",
       "2000     57\n",
       "2001     43\n",
       "2002     49\n",
       "2003     52\n",
       "2004     40\n",
       "2005     37\n",
       "2006     49\n",
       "2007     50\n",
       "2008     48\n",
       "2009     50\n",
       "2010     37\n",
       "2011     42\n",
       "2012     38\n",
       "2013     46\n",
       "2014     53\n",
       "2015     52\n",
       "2016     90\n",
       "2017     92\n",
       "2018    117\n",
       "2019    109\n",
       "2020    119\n",
       "2021    157\n",
       "2022     93\n",
       "Name: Year, dtype: int64"
      ]
     },
     "execution_count": 215,
     "metadata": {},
     "output_type": "execute_result"
    }
   ],
   "source": [
    "#Get the year-wise price\n",
    "sp.groupby('Year')['Year'].count()[12:]\n"
   ]
  },
  {
   "cell_type": "code",
   "execution_count": 223,
   "metadata": {},
   "outputs": [
    {
     "data": {
      "text/plain": [
       "<matplotlib.axes._subplots.AxesSubplot at 0x280df1a89d0>"
      ]
     },
     "execution_count": 223,
     "metadata": {},
     "output_type": "execute_result"
    },
    {
     "data": {
      "image/png": "[encoded data removed]",
      "text/plain": [
       "<Figure size 432x288 with 1 Axes>"
      ]
     },
     "metadata": {
      "needs_background": "light"
     },
     "output_type": "display_data"
    }
   ],
   "source": [
    "sp.groupby('Year')['Year'].count()[40:-9].plot.line() #2000-2017\n"
   ]
  },
  {
   "cell_type": "markdown",
   "metadata": {},
   "source": [
    "- In 90's (1967-1973) and in 2000's (2016-2022) had the pea launches.\n",
    "- No.of launches started to decrease from 1978, almost 50% less than previous year 1977\n",
    "- Max of only 80 launches from 200-2012\n",
    "- Loest laucnh year periods are in  1956-1962 and 2000-2005"
   ]
  },
  {
   "cell_type": "markdown",
   "metadata": {},
   "source": [
    "## Monthly Launches"
   ]
  },
  {
   "cell_type": "code",
   "execution_count": 255,
   "metadata": {
    "scrolled": true
   },
   "outputs": [
    {
     "data": {
      "text/plain": [
       "2416     1\n",
       "1354     1\n",
       "1355     1\n",
       "1356     1\n",
       "329      1\n",
       "        ..\n",
       "823     12\n",
       "822     12\n",
       "821     12\n",
       "4255    12\n",
       "4138    12\n",
       "Name: Month, Length: 4630, dtype: int64"
      ]
     },
     "execution_count": 255,
     "metadata": {},
     "output_type": "execute_result"
    }
   ],
   "source": [
    "sm = sp.Month.sort_values()\n",
    "sm"
   ]
  },
  {
   "cell_type": "code",
   "execution_count": 259,
   "metadata": {
    "scrolled": true
   },
   "outputs": [
    {
     "data": {
      "text/plain": [
       "12    492\n",
       "6     431\n",
       "4     409\n",
       "10    403\n",
       "8     391\n",
       "9     386\n",
       "7     380\n",
       "3     378\n",
       "11    365\n",
       "2     361\n",
       "5     350\n",
       "1     284\n",
       "Name: Month, dtype: int64"
      ]
     },
     "execution_count": 259,
     "metadata": {},
     "output_type": "execute_result"
    }
   ],
   "source": [
    "launch_months = (sp[\"Month\"]).value_counts()\n",
    "launch_months"
   ]
  },
  {
   "cell_type": "code",
   "execution_count": 250,
   "metadata": {},
   "outputs": [
    {
     "data": {
      "text/plain": [
       "<matplotlib.axes._subplots.AxesSubplot at 0x280d2bb0d30>"
      ]
     },
     "execution_count": 250,
     "metadata": {},
     "output_type": "execute_result"
    },
    {
     "data": {
      "image/png": "[encoded data removed]",
      "text/plain": [
       "<Figure size 432x288 with 1 Axes>"
      ]
     },
     "metadata": {
      "needs_background": "light"
     },
     "output_type": "display_data"
    }
   ],
   "source": [
    "launch_months.plot.bar()"
   ]
  },
  {
   "cell_type": "markdown",
   "metadata": {},
   "source": [
    "- Most Launches happened in December, June, April"
   ]
  },
  {
   "cell_type": "markdown",
   "metadata": {},
   "source": [
    "## Hourly Analysis"
   ]
  },
  {
   "cell_type": "code",
   "execution_count": 265,
   "metadata": {},
   "outputs": [
    {
     "data": {
      "text/plain": [
       "11    244\n",
       "12    241\n",
       "09    240\n",
       "10    228\n",
       "22    220\n",
       "13    216\n",
       "08    203\n",
       "14    201\n",
       "00    197\n",
       "07    192\n",
       "23    190\n",
       "21    187\n",
       "18    186\n",
       "01    180\n",
       "15    175\n",
       "03    165\n",
       "20    163\n",
       "16    163\n",
       "06    162\n",
       "04    155\n",
       "05    154\n",
       "19    154\n",
       "17    153\n",
       "02    134\n",
       "Na    127\n",
       "Name: Hour, dtype: int64"
      ]
     },
     "execution_count": 265,
     "metadata": {},
     "output_type": "execute_result"
    }
   ],
   "source": [
    "most_launch_hour = (sp[\"Hour\"]).value_counts()\n",
    "most_launch_hour"
   ]
  },
  {
   "cell_type": "code",
   "execution_count": 266,
   "metadata": {
    "scrolled": true
   },
   "outputs": [
    {
     "data": {
      "text/plain": [
       "<matplotlib.axes._subplots.AxesSubplot at 0x280d2c19070>"
      ]
     },
     "execution_count": 266,
     "metadata": {},
     "output_type": "execute_result"
    },
    {
     "data": {
      "image/png": "[encoded data removed]",
      "text/plain": [
       "<Figure size 432x288 with 1 Axes>"
      ]
     },
     "metadata": {
      "needs_background": "light"
     },
     "output_type": "display_data"
    }
   ],
   "source": [
    "most_launch_hour.plot(kind='bar')"
   ]
  },
  {
   "cell_type": "code",
   "execution_count": 267,
   "metadata": {},
   "outputs": [
    {
     "data": {
      "text/plain": [
       "0       19.0\n",
       "1        2.0\n",
       "2       16.0\n",
       "3        3.0\n",
       "4        7.0\n",
       "        ... \n",
       "4625    17.0\n",
       "4626     6.0\n",
       "4627    13.0\n",
       "4628     4.0\n",
       "4629    13.0\n",
       "Name: Hour, Length: 4630, dtype: float64"
      ]
     },
     "execution_count": 267,
     "metadata": {},
     "output_type": "execute_result"
    }
   ],
   "source": [
    "#Series to numeric\n",
    "hr = pd.to_numeric(sp['Hour'],errors='coerce')\n",
    "hr"
   ]
  },
  {
   "cell_type": "code",
   "execution_count": 274,
   "metadata": {
    "scrolled": false
   },
   "outputs": [
    {
     "data": {
      "text/plain": [
       "(12.0, 24.0]     0.433693\n",
       "(6.0, 12.0]      0.291145\n",
       "(-0.001, 6.0]    0.247732\n",
       "Name: Hour, dtype: float64"
      ]
     },
     "execution_count": 274,
     "metadata": {},
     "output_type": "execute_result"
    }
   ],
   "source": [
    "hr.value_counts(bins=[0,6,12,24],normalize = True)"
   ]
  },
  {
   "cell_type": "code",
   "execution_count": 272,
   "metadata": {},
   "outputs": [
    {
     "data": {
      "text/plain": [
       "(6.0, 12.0]      1348\n",
       "(-0.001, 6.0]    1147\n",
       "(12.0, 18.0]     1094\n",
       "(18.0, 24.0]      914\n",
       "Name: Hour, dtype: int64"
      ]
     },
     "execution_count": 272,
     "metadata": {},
     "output_type": "execute_result"
    }
   ],
   "source": [
    "hr.value_counts(bins=[0,6,12,18,24])"
   ]
  },
  {
   "cell_type": "code",
   "execution_count": 270,
   "metadata": {},
   "outputs": [
    {
     "data": {
      "text/plain": [
       "(6.0, 12.0]      0.291145\n",
       "(-0.001, 6.0]    0.247732\n",
       "(12.0, 18.0]     0.236285\n",
       "(18.0, 24.0]     0.197408\n",
       "Name: Hour, dtype: float64"
      ]
     },
     "execution_count": 270,
     "metadata": {},
     "output_type": "execute_result"
    }
   ],
   "source": [
    "hr.value_counts(bins=[0,6,12,18,24],normalize=True)"
   ]
  },
  {
   "cell_type": "markdown",
   "metadata": {},
   "source": [
    "- Most launches too place from 6-12\n",
    "- We can see that 4 bins resulted in \"43% of launches took place rom 12-24\" \n",
    "    but 5 bins showed clearly that \"29% launches in 6-12"
   ]
  },
  {
   "cell_type": "code",
   "execution_count": 275,
   "metadata": {
    "scrolled": true
   },
   "outputs": [
    {
     "data": {
      "text/plain": [
       "(9.0, 12.0]      713\n",
       "(-0.001, 3.0]    676\n",
       "(6.0, 9.0]       635\n",
       "(12.0, 15.0]     592\n",
       "(18.0, 21.0]     504\n",
       "(15.0, 18.0]     502\n",
       "(3.0, 6.0]       471\n",
       "(21.0, 24.0]     410\n",
       "Name: Hour, dtype: int64"
      ]
     },
     "execution_count": 275,
     "metadata": {},
     "output_type": "execute_result"
    }
   ],
   "source": [
    "hr.value_counts(bins=[0,3,6,9,12,15,18,21,24])"
   ]
  },
  {
   "cell_type": "markdown",
   "metadata": {},
   "source": [
    "- Among the 29% of launches from 6-12 , 713 launches took place from 9-12"
   ]
  },
  {
   "cell_type": "markdown",
   "metadata": {},
   "source": [
    "## Price Analysis"
   ]
  },
  {
   "cell_type": "code",
   "execution_count": 283,
   "metadata": {
    "scrolled": false
   },
   "outputs": [
    {
     "data": {
      "text/plain": [
       "303     63.23\n",
       "323     63.23\n",
       "330     63.23\n",
       "352     63.23\n",
       "468     59.00\n",
       "        ...  \n",
       "4623    30.80\n",
       "4624    67.00\n",
       "4625    67.00\n",
       "4627    67.00\n",
       "4629    29.75\n",
       "Name: Price, Length: 1265, dtype: float64"
      ]
     },
     "execution_count": 283,
     "metadata": {},
     "output_type": "execute_result"
    }
   ],
   "source": [
    "notnullprice = sp['Price'][~sp['Price'].isnull()]\n",
    "notnullprice"
   ]
  },
  {
   "cell_type": "code",
   "execution_count": 287,
   "metadata": {},
   "outputs": [
    {
     "data": {
      "text/plain": [
       "<matplotlib.axes._subplots.AxesSubplot at 0x280d2ef4310>"
      ]
     },
     "execution_count": 287,
     "metadata": {},
     "output_type": "execute_result"
    },
    {
     "data": {
      "image/png": "[encoded data removed]",
      "text/plain": [
       "<Figure size 360x360 with 1 Axes>"
      ]
     },
     "metadata": {
      "needs_background": "light"
     },
     "output_type": "display_data"
    }
   ],
   "source": [
    "notnullprice.plot.hist(figsize=(5,5))"
   ]
  },
  {
   "cell_type": "markdown",
   "metadata": {},
   "source": [
    "**To display all values print as string**\n",
    "print(notnullprice.sort_values(ascending= False).to_string()) "
   ]
  },
  {
   "cell_type": "markdown",
   "metadata": {},
   "source": [
    "- Highest cost of was **5000M**\n",
    "- Lowest cost was **450M**\n",
    "- From Histigram, Most launches(1250) costed **less than 1000M**"
   ]
  },
  {
   "cell_type": "code",
   "execution_count": 105,
   "metadata": {
    "scrolled": true
   },
   "outputs": [
    {
     "data": {
      "text/html": [
       "<div>\n",
       "<style scoped>\n",
       "    .dataframe tbody tr th:only-of-type {\n",
       "        vertical-align: middle;\n",
       "    }\n",
       "\n",
       "    .dataframe tbody tr th {\n",
       "        vertical-align: top;\n",
       "    }\n",
       "\n",
       "    .dataframe thead th {\n",
       "        text-align: right;\n",
       "    }\n",
       "</style>\n",
       "<table border=\"1\" class=\"dataframe\">\n",
       "  <thead>\n",
       "    <tr style=\"text-align: right;\">\n",
       "      <th></th>\n",
       "      <th>Company</th>\n",
       "      <th>Location</th>\n",
       "      <th>Date</th>\n",
       "      <th>Year</th>\n",
       "      <th>Month</th>\n",
       "      <th>Time</th>\n",
       "      <th>Hour</th>\n",
       "      <th>Rocket</th>\n",
       "      <th>Mission</th>\n",
       "      <th>RocketStatus</th>\n",
       "      <th>Price</th>\n",
       "      <th>MissionStatus</th>\n",
       "    </tr>\n",
       "  </thead>\n",
       "  <tbody>\n",
       "    <tr>\n",
       "      <th>2323</th>\n",
       "      <td>RVSN USSR</td>\n",
       "      <td>Site 250, Baikonur Cosmodrome, Kazakhstan</td>\n",
       "      <td>1987-05-15</td>\n",
       "      <td>1987</td>\n",
       "      <td>5</td>\n",
       "      <td>2023-06-23 17:30:00</td>\n",
       "      <td>17.0</td>\n",
       "      <td>Energiya/Polyus</td>\n",
       "      <td>Polyus Space Station</td>\n",
       "      <td>Retired</td>\n",
       "      <td>5000.0</td>\n",
       "      <td>Success</td>\n",
       "    </tr>\n",
       "    <tr>\n",
       "      <th>2407</th>\n",
       "      <td>RVSN USSR</td>\n",
       "      <td>Site 110/37, Baikonur Cosmodrome, Kazakhstan</td>\n",
       "      <td>1988-11-15</td>\n",
       "      <td>1988</td>\n",
       "      <td>11</td>\n",
       "      <td>2023-06-23 03:00:00</td>\n",
       "      <td>3.0</td>\n",
       "      <td>Energiya/Buran</td>\n",
       "      <td>Buran</td>\n",
       "      <td>Retired</td>\n",
       "      <td>5000.0</td>\n",
       "      <td>Success</td>\n",
       "    </tr>\n",
       "  </tbody>\n",
       "</table>\n",
       "</div>"
      ],
      "text/plain": [
       "        Company                                      Location       Date  \\\n",
       "2323  RVSN USSR     Site 250, Baikonur Cosmodrome, Kazakhstan 1987-05-15   \n",
       "2407  RVSN USSR  Site 110/37, Baikonur Cosmodrome, Kazakhstan 1988-11-15   \n",
       "\n",
       "      Year  Month                Time  Hour           Rocket  \\\n",
       "2323  1987      5 2023-06-23 17:30:00  17.0  Energiya/Polyus   \n",
       "2407  1988     11 2023-06-23 03:00:00   3.0   Energiya/Buran   \n",
       "\n",
       "                   Mission RocketStatus   Price MissionStatus  \n",
       "2323  Polyus Space Station      Retired  5000.0       Success  \n",
       "2407                 Buran      Retired  5000.0       Success  "
      ]
     },
     "execution_count": 105,
     "metadata": {},
     "output_type": "execute_result"
    }
   ],
   "source": [
    "sp.loc[(sp['Price']==5000)]"
   ]
  },
  {
   "cell_type": "markdown",
   "metadata": {},
   "source": [
    "- 5000M - Russia- Energia - polyus(1987),Buran(1988"
   ]
  },
  {
   "cell_type": "code",
   "execution_count": 88,
   "metadata": {},
   "outputs": [
    {
     "data": {
      "text/plain": [
       "162304.45"
      ]
     },
     "execution_count": 88,
     "metadata": {},
     "output_type": "execute_result"
    }
   ],
   "source": [
    "notnullprice.sum()"
   ]
  },
  {
   "cell_type": "code",
   "execution_count": 100,
   "metadata": {
    "scrolled": true
   },
   "outputs": [
    {
     "data": {
      "text/plain": [
       "450.00    0.107510\n",
       "67.00     0.087747\n",
       "200.00    0.063241\n",
       "64.68     0.045850\n",
       "40.00     0.045059\n",
       "30.80     0.038735\n",
       "29.75     0.034783\n",
       "25.00     0.033992\n",
       "29.15     0.032411\n",
       "62.00     0.032411\n",
       "Name: Price, dtype: float64"
      ]
     },
     "execution_count": 100,
     "metadata": {},
     "output_type": "execute_result"
    }
   ],
   "source": [
    "sp['Price'].value_counts(normalize=True).head(10)"
   ]
  },
  {
   "cell_type": "markdown",
   "metadata": {},
   "source": [
    "- Around **136 or 10%** launches costed 450M"
   ]
  },
  {
   "cell_type": "code",
   "execution_count": 107,
   "metadata": {},
   "outputs": [
    {
     "data": {
      "text/plain": [
       "pandas.core.frame.DataFrame"
      ]
     },
     "execution_count": 107,
     "metadata": {},
     "output_type": "execute_result"
    }
   ],
   "source": [
    "type(sp['Company']) # SERIES\n",
    "\n",
    "type(sp) # DATAFRAME\n"
   ]
  },
  {
   "cell_type": "code",
   "execution_count": 122,
   "metadata": {
    "scrolled": true
   },
   "outputs": [
    {
     "data": {
      "text/plain": [
       "128.30391304347756"
      ]
     },
     "execution_count": 122,
     "metadata": {},
     "output_type": "execute_result"
    }
   ],
   "source": [
    "notnullprice.mean()"
   ]
  },
  {
   "cell_type": "markdown",
   "metadata": {},
   "source": [
    "- Average launch price till 2022 is **128M**"
   ]
  },
  {
   "cell_type": "code",
   "execution_count": 301,
   "metadata": {},
   "outputs": [],
   "source": [
    "#sp['Price'] = sp['Price'].astype('float')  // dint work because price column had NaN values too\n",
    "\n",
    "#so first convert it to numeric \n",
    "\n",
    "sp['Price'] = pd.to_numeric(sp['Price'], errors='coerce')"
   ]
  },
  {
   "cell_type": "code",
   "execution_count": 302,
   "metadata": {},
   "outputs": [
    {
     "data": {
      "text/html": [
       "<div>\n",
       "<style scoped>\n",
       "    .dataframe tbody tr th:only-of-type {\n",
       "        vertical-align: middle;\n",
       "    }\n",
       "\n",
       "    .dataframe tbody tr th {\n",
       "        vertical-align: top;\n",
       "    }\n",
       "\n",
       "    .dataframe thead th {\n",
       "        text-align: right;\n",
       "    }\n",
       "</style>\n",
       "<table border=\"1\" class=\"dataframe\">\n",
       "  <thead>\n",
       "    <tr style=\"text-align: right;\">\n",
       "      <th></th>\n",
       "      <th>Company</th>\n",
       "      <th>Location</th>\n",
       "      <th>Date</th>\n",
       "      <th>Year</th>\n",
       "      <th>Month</th>\n",
       "      <th>Day</th>\n",
       "      <th>Time</th>\n",
       "      <th>Hour</th>\n",
       "      <th>Rocket</th>\n",
       "      <th>Mission</th>\n",
       "      <th>RocketStatus</th>\n",
       "      <th>Price</th>\n",
       "      <th>MissionStatus</th>\n",
       "      <th>grade</th>\n",
       "    </tr>\n",
       "  </thead>\n",
       "  <tbody>\n",
       "    <tr>\n",
       "      <th>2323</th>\n",
       "      <td>RVSN USSR</td>\n",
       "      <td>Site 250, Baikonur Cosmodrome, Kazakhstan</td>\n",
       "      <td>1987-05-15</td>\n",
       "      <td>1987</td>\n",
       "      <td>5</td>\n",
       "      <td>15</td>\n",
       "      <td>17:30:00</td>\n",
       "      <td>17</td>\n",
       "      <td>Energiya/Polyus</td>\n",
       "      <td>Polyus Space Station</td>\n",
       "      <td>Retired</td>\n",
       "      <td>5000.0</td>\n",
       "      <td>Success</td>\n",
       "      <td>(1899.999, 2000.0]</td>\n",
       "    </tr>\n",
       "    <tr>\n",
       "      <th>2407</th>\n",
       "      <td>RVSN USSR</td>\n",
       "      <td>Site 110/37, Baikonur Cosmodrome, Kazakhstan</td>\n",
       "      <td>1988-11-15</td>\n",
       "      <td>1988</td>\n",
       "      <td>11</td>\n",
       "      <td>15</td>\n",
       "      <td>03:00:00</td>\n",
       "      <td>03</td>\n",
       "      <td>Energiya/Buran</td>\n",
       "      <td>Buran</td>\n",
       "      <td>Retired</td>\n",
       "      <td>5000.0</td>\n",
       "      <td>Success</td>\n",
       "      <td>(1899.999, 2000.0]</td>\n",
       "    </tr>\n",
       "    <tr>\n",
       "      <th>607</th>\n",
       "      <td>NASA</td>\n",
       "      <td>LC-39A, Kennedy Space Center, Florida, USA</td>\n",
       "      <td>1967-11-09</td>\n",
       "      <td>1967</td>\n",
       "      <td>11</td>\n",
       "      <td>9</td>\n",
       "      <td>12:00:00</td>\n",
       "      <td>12</td>\n",
       "      <td>Saturn V</td>\n",
       "      <td>Apollo 4</td>\n",
       "      <td>Retired</td>\n",
       "      <td>1160.0</td>\n",
       "      <td>Success</td>\n",
       "      <td>(1899.999, 2000.0]</td>\n",
       "    </tr>\n",
       "  </tbody>\n",
       "</table>\n",
       "</div>"
      ],
      "text/plain": [
       "        Company                                      Location       Date  \\\n",
       "2323  RVSN USSR     Site 250, Baikonur Cosmodrome, Kazakhstan 1987-05-15   \n",
       "2407  RVSN USSR  Site 110/37, Baikonur Cosmodrome, Kazakhstan 1988-11-15   \n",
       "607        NASA    LC-39A, Kennedy Space Center, Florida, USA 1967-11-09   \n",
       "\n",
       "      Year  Month  Day      Time Hour           Rocket               Mission  \\\n",
       "2323  1987      5   15  17:30:00   17  Energiya/Polyus  Polyus Space Station   \n",
       "2407  1988     11   15  03:00:00   03   Energiya/Buran                 Buran   \n",
       "607   1967     11    9  12:00:00   12         Saturn V              Apollo 4   \n",
       "\n",
       "     RocketStatus   Price MissionStatus               grade  \n",
       "2323      Retired  5000.0       Success  (1899.999, 2000.0]  \n",
       "2407      Retired  5000.0       Success  (1899.999, 2000.0]  \n",
       "607       Retired  1160.0       Success  (1899.999, 2000.0]  "
      ]
     },
     "execution_count": 302,
     "metadata": {},
     "output_type": "execute_result"
    }
   ],
   "source": [
    "sp.nlargest(n=3,columns='Price')"
   ]
  },
  {
   "cell_type": "code",
   "execution_count": 304,
   "metadata": {},
   "outputs": [
    {
     "data": {
      "text/html": [
       "<div>\n",
       "<style scoped>\n",
       "    .dataframe tbody tr th:only-of-type {\n",
       "        vertical-align: middle;\n",
       "    }\n",
       "\n",
       "    .dataframe tbody tr th {\n",
       "        vertical-align: top;\n",
       "    }\n",
       "\n",
       "    .dataframe thead th {\n",
       "        text-align: right;\n",
       "    }\n",
       "</style>\n",
       "<table border=\"1\" class=\"dataframe\">\n",
       "  <thead>\n",
       "    <tr style=\"text-align: right;\">\n",
       "      <th></th>\n",
       "      <th>Company</th>\n",
       "      <th>Location</th>\n",
       "      <th>Date</th>\n",
       "      <th>Year</th>\n",
       "      <th>Month</th>\n",
       "      <th>Day</th>\n",
       "      <th>Time</th>\n",
       "      <th>Hour</th>\n",
       "      <th>Rocket</th>\n",
       "      <th>Mission</th>\n",
       "      <th>RocketStatus</th>\n",
       "      <th>Price</th>\n",
       "      <th>MissionStatus</th>\n",
       "      <th>grade</th>\n",
       "    </tr>\n",
       "  </thead>\n",
       "  <tbody>\n",
       "    <tr>\n",
       "      <th>4333</th>\n",
       "      <td>Astra</td>\n",
       "      <td>LP-3B, Pacific Spaceport Complex, Kodiak, Alas...</td>\n",
       "      <td>2020-09-12</td>\n",
       "      <td>2020</td>\n",
       "      <td>9</td>\n",
       "      <td>12</td>\n",
       "      <td>03:19:00</td>\n",
       "      <td>03</td>\n",
       "      <td>Rocket 3</td>\n",
       "      <td>Rocket 3.1</td>\n",
       "      <td>Active</td>\n",
       "      <td>2.5</td>\n",
       "      <td>Failure</td>\n",
       "      <td>(2000.0, 2022.0]</td>\n",
       "    </tr>\n",
       "    <tr>\n",
       "      <th>4373</th>\n",
       "      <td>Astra</td>\n",
       "      <td>LP-3B, Pacific Spaceport Complex, Kodiak, Alas...</td>\n",
       "      <td>2020-12-15</td>\n",
       "      <td>2020</td>\n",
       "      <td>12</td>\n",
       "      <td>15</td>\n",
       "      <td>20:55:00</td>\n",
       "      <td>20</td>\n",
       "      <td>Rocket 3</td>\n",
       "      <td>Rocket 3.2</td>\n",
       "      <td>Active</td>\n",
       "      <td>2.5</td>\n",
       "      <td>Failure</td>\n",
       "      <td>(2000.0, 2022.0]</td>\n",
       "    </tr>\n",
       "    <tr>\n",
       "      <th>4472</th>\n",
       "      <td>Astra</td>\n",
       "      <td>LP-3B, Pacific Spaceport Complex, Kodiak, Alas...</td>\n",
       "      <td>2021-08-28</td>\n",
       "      <td>2021</td>\n",
       "      <td>8</td>\n",
       "      <td>28</td>\n",
       "      <td>22:35:00</td>\n",
       "      <td>22</td>\n",
       "      <td>Rocket 3</td>\n",
       "      <td>STP-27AD1</td>\n",
       "      <td>Active</td>\n",
       "      <td>2.5</td>\n",
       "      <td>Failure</td>\n",
       "      <td>(2000.0, 2022.0]</td>\n",
       "    </tr>\n",
       "  </tbody>\n",
       "</table>\n",
       "</div>"
      ],
      "text/plain": [
       "     Company                                           Location       Date  \\\n",
       "4333   Astra  LP-3B, Pacific Spaceport Complex, Kodiak, Alas... 2020-09-12   \n",
       "4373   Astra  LP-3B, Pacific Spaceport Complex, Kodiak, Alas... 2020-12-15   \n",
       "4472   Astra  LP-3B, Pacific Spaceport Complex, Kodiak, Alas... 2021-08-28   \n",
       "\n",
       "      Year  Month  Day      Time Hour    Rocket     Mission RocketStatus  \\\n",
       "4333  2020      9   12  03:19:00   03  Rocket 3  Rocket 3.1       Active   \n",
       "4373  2020     12   15  20:55:00   20  Rocket 3  Rocket 3.2       Active   \n",
       "4472  2021      8   28  22:35:00   22  Rocket 3   STP-27AD1       Active   \n",
       "\n",
       "      Price MissionStatus             grade  \n",
       "4333    2.5       Failure  (2000.0, 2022.0]  \n",
       "4373    2.5       Failure  (2000.0, 2022.0]  \n",
       "4472    2.5       Failure  (2000.0, 2022.0]  "
      ]
     },
     "execution_count": 304,
     "metadata": {},
     "output_type": "execute_result"
    }
   ],
   "source": [
    "sp.nsmallest(n=3,columns='Price')"
   ]
  },
  {
   "cell_type": "code",
   "execution_count": null,
   "metadata": {},
   "outputs": [],
   "source": []
  },
  {
   "cell_type": "code",
   "execution_count": null,
   "metadata": {},
   "outputs": [],
   "source": []
  },
  {
   "cell_type": "markdown",
   "metadata": {},
   "source": [
    "## Rocket Analysis"
   ]
  },
  {
   "cell_type": "code",
   "execution_count": 305,
   "metadata": {},
   "outputs": [
    {
     "data": {
      "text/html": [
       "<div>\n",
       "<style scoped>\n",
       "    .dataframe tbody tr th:only-of-type {\n",
       "        vertical-align: middle;\n",
       "    }\n",
       "\n",
       "    .dataframe tbody tr th {\n",
       "        vertical-align: top;\n",
       "    }\n",
       "\n",
       "    .dataframe thead th {\n",
       "        text-align: right;\n",
       "    }\n",
       "</style>\n",
       "<table border=\"1\" class=\"dataframe\">\n",
       "  <thead>\n",
       "    <tr style=\"text-align: right;\">\n",
       "      <th></th>\n",
       "      <th>Company</th>\n",
       "      <th>Location</th>\n",
       "      <th>Date</th>\n",
       "      <th>Year</th>\n",
       "      <th>Month</th>\n",
       "      <th>Day</th>\n",
       "      <th>Time</th>\n",
       "      <th>Hour</th>\n",
       "      <th>Rocket</th>\n",
       "      <th>Mission</th>\n",
       "      <th>RocketStatus</th>\n",
       "      <th>Price</th>\n",
       "      <th>MissionStatus</th>\n",
       "      <th>grade</th>\n",
       "    </tr>\n",
       "  </thead>\n",
       "  <tbody>\n",
       "    <tr>\n",
       "      <th>2</th>\n",
       "      <td>US Navy</td>\n",
       "      <td>LC-18A, Cape Canaveral AFS, Florida, USA</td>\n",
       "      <td>1957-12-06</td>\n",
       "      <td>1957</td>\n",
       "      <td>12</td>\n",
       "      <td>6</td>\n",
       "      <td>16:44:00</td>\n",
       "      <td>16</td>\n",
       "      <td>Vanguard</td>\n",
       "      <td>Vanguard TV3</td>\n",
       "      <td>Retired</td>\n",
       "      <td>NaN</td>\n",
       "      <td>Failure</td>\n",
       "      <td>(1899.999, 2000.0]</td>\n",
       "    </tr>\n",
       "    <tr>\n",
       "      <th>4</th>\n",
       "      <td>US Navy</td>\n",
       "      <td>LC-18A, Cape Canaveral AFS, Florida, USA</td>\n",
       "      <td>1958-02-05</td>\n",
       "      <td>1958</td>\n",
       "      <td>2</td>\n",
       "      <td>5</td>\n",
       "      <td>07:33:00</td>\n",
       "      <td>07</td>\n",
       "      <td>Vanguard</td>\n",
       "      <td>Vanguard TV3BU</td>\n",
       "      <td>Retired</td>\n",
       "      <td>NaN</td>\n",
       "      <td>Failure</td>\n",
       "      <td>(1899.999, 2000.0]</td>\n",
       "    </tr>\n",
       "    <tr>\n",
       "      <th>6</th>\n",
       "      <td>US Navy</td>\n",
       "      <td>LC-18A, Cape Canaveral AFS, Florida, USA</td>\n",
       "      <td>1958-03-17</td>\n",
       "      <td>1958</td>\n",
       "      <td>3</td>\n",
       "      <td>17</td>\n",
       "      <td>12:15:00</td>\n",
       "      <td>12</td>\n",
       "      <td>Vanguard</td>\n",
       "      <td>Vanguard 1</td>\n",
       "      <td>Retired</td>\n",
       "      <td>NaN</td>\n",
       "      <td>Success</td>\n",
       "      <td>(1899.999, 2000.0]</td>\n",
       "    </tr>\n",
       "    <tr>\n",
       "      <th>9</th>\n",
       "      <td>US Navy</td>\n",
       "      <td>LC-18A, Cape Canaveral AFS, Florida, USA</td>\n",
       "      <td>1958-04-28</td>\n",
       "      <td>1958</td>\n",
       "      <td>4</td>\n",
       "      <td>28</td>\n",
       "      <td>02:53:00</td>\n",
       "      <td>02</td>\n",
       "      <td>Vanguard</td>\n",
       "      <td>Vanguard TV5</td>\n",
       "      <td>Retired</td>\n",
       "      <td>NaN</td>\n",
       "      <td>Failure</td>\n",
       "      <td>(1899.999, 2000.0]</td>\n",
       "    </tr>\n",
       "    <tr>\n",
       "      <th>11</th>\n",
       "      <td>US Navy</td>\n",
       "      <td>LC-18A, Cape Canaveral AFS, Florida, USA</td>\n",
       "      <td>1958-05-28</td>\n",
       "      <td>1958</td>\n",
       "      <td>5</td>\n",
       "      <td>28</td>\n",
       "      <td>03:46:00</td>\n",
       "      <td>03</td>\n",
       "      <td>Vanguard</td>\n",
       "      <td>Vanguard SLV-1</td>\n",
       "      <td>Retired</td>\n",
       "      <td>NaN</td>\n",
       "      <td>Failure</td>\n",
       "      <td>(1899.999, 2000.0]</td>\n",
       "    </tr>\n",
       "    <tr>\n",
       "      <th>12</th>\n",
       "      <td>US Navy</td>\n",
       "      <td>LC-18A, Cape Canaveral AFS, Florida, USA</td>\n",
       "      <td>1958-06-26</td>\n",
       "      <td>1958</td>\n",
       "      <td>6</td>\n",
       "      <td>26</td>\n",
       "      <td>05:00:00</td>\n",
       "      <td>05</td>\n",
       "      <td>Vanguard</td>\n",
       "      <td>Vanguard SLV-2</td>\n",
       "      <td>Retired</td>\n",
       "      <td>NaN</td>\n",
       "      <td>Failure</td>\n",
       "      <td>(1899.999, 2000.0]</td>\n",
       "    </tr>\n",
       "    <tr>\n",
       "      <th>23</th>\n",
       "      <td>US Navy</td>\n",
       "      <td>LC-18A, Cape Canaveral AFS, Florida, USA</td>\n",
       "      <td>1958-09-26</td>\n",
       "      <td>1958</td>\n",
       "      <td>9</td>\n",
       "      <td>26</td>\n",
       "      <td>15:38:00</td>\n",
       "      <td>15</td>\n",
       "      <td>Vanguard</td>\n",
       "      <td>Vanguard SLV-3</td>\n",
       "      <td>Retired</td>\n",
       "      <td>NaN</td>\n",
       "      <td>Failure</td>\n",
       "      <td>(1899.999, 2000.0]</td>\n",
       "    </tr>\n",
       "    <tr>\n",
       "      <th>32</th>\n",
       "      <td>US Navy</td>\n",
       "      <td>LC-18A, Cape Canaveral AFS, Florida, USA</td>\n",
       "      <td>1959-02-17</td>\n",
       "      <td>1959</td>\n",
       "      <td>2</td>\n",
       "      <td>17</td>\n",
       "      <td>15:55:00</td>\n",
       "      <td>15</td>\n",
       "      <td>Vanguard</td>\n",
       "      <td>Vanguard 2</td>\n",
       "      <td>Retired</td>\n",
       "      <td>NaN</td>\n",
       "      <td>Success</td>\n",
       "      <td>(1899.999, 2000.0]</td>\n",
       "    </tr>\n",
       "    <tr>\n",
       "      <th>35</th>\n",
       "      <td>US Navy</td>\n",
       "      <td>LC-18A, Cape Canaveral AFS, Florida, USA</td>\n",
       "      <td>1959-04-14</td>\n",
       "      <td>1959</td>\n",
       "      <td>4</td>\n",
       "      <td>14</td>\n",
       "      <td>02:49:00</td>\n",
       "      <td>02</td>\n",
       "      <td>Vanguard</td>\n",
       "      <td>Vanguard SLV-5</td>\n",
       "      <td>Retired</td>\n",
       "      <td>NaN</td>\n",
       "      <td>Failure</td>\n",
       "      <td>(1899.999, 2000.0]</td>\n",
       "    </tr>\n",
       "    <tr>\n",
       "      <th>38</th>\n",
       "      <td>US Navy</td>\n",
       "      <td>LC-18A, Cape Canaveral AFS, Florida, USA</td>\n",
       "      <td>1959-06-22</td>\n",
       "      <td>1959</td>\n",
       "      <td>6</td>\n",
       "      <td>22</td>\n",
       "      <td>20:16:00</td>\n",
       "      <td>20</td>\n",
       "      <td>Vanguard</td>\n",
       "      <td>Vanguard SLV-6</td>\n",
       "      <td>Retired</td>\n",
       "      <td>NaN</td>\n",
       "      <td>Failure</td>\n",
       "      <td>(1899.999, 2000.0]</td>\n",
       "    </tr>\n",
       "    <tr>\n",
       "      <th>46</th>\n",
       "      <td>US Navy</td>\n",
       "      <td>LC-18A, Cape Canaveral AFS, Florida, USA</td>\n",
       "      <td>1959-09-18</td>\n",
       "      <td>1959</td>\n",
       "      <td>9</td>\n",
       "      <td>18</td>\n",
       "      <td>05:20:00</td>\n",
       "      <td>05</td>\n",
       "      <td>Vanguard</td>\n",
       "      <td>Vanguard 3</td>\n",
       "      <td>Retired</td>\n",
       "      <td>NaN</td>\n",
       "      <td>Partial Failure</td>\n",
       "      <td>(1899.999, 2000.0]</td>\n",
       "    </tr>\n",
       "  </tbody>\n",
       "</table>\n",
       "</div>"
      ],
      "text/plain": [
       "    Company                                  Location       Date  Year  Month  \\\n",
       "2   US Navy  LC-18A, Cape Canaveral AFS, Florida, USA 1957-12-06  1957     12   \n",
       "4   US Navy  LC-18A, Cape Canaveral AFS, Florida, USA 1958-02-05  1958      2   \n",
       "6   US Navy  LC-18A, Cape Canaveral AFS, Florida, USA 1958-03-17  1958      3   \n",
       "9   US Navy  LC-18A, Cape Canaveral AFS, Florida, USA 1958-04-28  1958      4   \n",
       "11  US Navy  LC-18A, Cape Canaveral AFS, Florida, USA 1958-05-28  1958      5   \n",
       "12  US Navy  LC-18A, Cape Canaveral AFS, Florida, USA 1958-06-26  1958      6   \n",
       "23  US Navy  LC-18A, Cape Canaveral AFS, Florida, USA 1958-09-26  1958      9   \n",
       "32  US Navy  LC-18A, Cape Canaveral AFS, Florida, USA 1959-02-17  1959      2   \n",
       "35  US Navy  LC-18A, Cape Canaveral AFS, Florida, USA 1959-04-14  1959      4   \n",
       "38  US Navy  LC-18A, Cape Canaveral AFS, Florida, USA 1959-06-22  1959      6   \n",
       "46  US Navy  LC-18A, Cape Canaveral AFS, Florida, USA 1959-09-18  1959      9   \n",
       "\n",
       "    Day      Time Hour    Rocket         Mission RocketStatus  Price  \\\n",
       "2     6  16:44:00   16  Vanguard    Vanguard TV3      Retired    NaN   \n",
       "4     5  07:33:00   07  Vanguard  Vanguard TV3BU      Retired    NaN   \n",
       "6    17  12:15:00   12  Vanguard      Vanguard 1      Retired    NaN   \n",
       "9    28  02:53:00   02  Vanguard    Vanguard TV5      Retired    NaN   \n",
       "11   28  03:46:00   03  Vanguard  Vanguard SLV-1      Retired    NaN   \n",
       "12   26  05:00:00   05  Vanguard  Vanguard SLV-2      Retired    NaN   \n",
       "23   26  15:38:00   15  Vanguard  Vanguard SLV-3      Retired    NaN   \n",
       "32   17  15:55:00   15  Vanguard      Vanguard 2      Retired    NaN   \n",
       "35   14  02:49:00   02  Vanguard  Vanguard SLV-5      Retired    NaN   \n",
       "38   22  20:16:00   20  Vanguard  Vanguard SLV-6      Retired    NaN   \n",
       "46   18  05:20:00   05  Vanguard      Vanguard 3      Retired    NaN   \n",
       "\n",
       "      MissionStatus               grade  \n",
       "2           Failure  (1899.999, 2000.0]  \n",
       "4           Failure  (1899.999, 2000.0]  \n",
       "6           Success  (1899.999, 2000.0]  \n",
       "9           Failure  (1899.999, 2000.0]  \n",
       "11          Failure  (1899.999, 2000.0]  \n",
       "12          Failure  (1899.999, 2000.0]  \n",
       "23          Failure  (1899.999, 2000.0]  \n",
       "32          Success  (1899.999, 2000.0]  \n",
       "35          Failure  (1899.999, 2000.0]  \n",
       "38          Failure  (1899.999, 2000.0]  \n",
       "46  Partial Failure  (1899.999, 2000.0]  "
      ]
     },
     "execution_count": 305,
     "metadata": {},
     "output_type": "execute_result"
    }
   ],
   "source": [
    "sp[sp['Rocket']== 'Vanguard']"
   ]
  },
  {
   "cell_type": "code",
   "execution_count": 296,
   "metadata": {},
   "outputs": [
    {
     "data": {
      "text/html": [
       "<div>\n",
       "<style scoped>\n",
       "    .dataframe tbody tr th:only-of-type {\n",
       "        vertical-align: middle;\n",
       "    }\n",
       "\n",
       "    .dataframe tbody tr th {\n",
       "        vertical-align: top;\n",
       "    }\n",
       "\n",
       "    .dataframe thead th {\n",
       "        text-align: right;\n",
       "    }\n",
       "</style>\n",
       "<table border=\"1\" class=\"dataframe\">\n",
       "  <thead>\n",
       "    <tr style=\"text-align: right;\">\n",
       "      <th></th>\n",
       "      <th>Company</th>\n",
       "      <th>Location</th>\n",
       "      <th>Date</th>\n",
       "      <th>Year</th>\n",
       "      <th>Month</th>\n",
       "      <th>Day</th>\n",
       "      <th>Time</th>\n",
       "      <th>Hour</th>\n",
       "      <th>Rocket</th>\n",
       "      <th>Mission</th>\n",
       "      <th>RocketStatus</th>\n",
       "      <th>Price</th>\n",
       "      <th>MissionStatus</th>\n",
       "      <th>grade</th>\n",
       "    </tr>\n",
       "  </thead>\n",
       "  <tbody>\n",
       "  </tbody>\n",
       "</table>\n",
       "</div>"
      ],
      "text/plain": [
       "Empty DataFrame\n",
       "Columns: [Company, Location, Date, Year, Month, Day, Time, Hour, Rocket, Mission, RocketStatus, Price, MissionStatus, grade]\n",
       "Index: []"
      ]
     },
     "execution_count": 296,
     "metadata": {},
     "output_type": "execute_result"
    }
   ],
   "source": [
    "r = sp['Rocket']== 'Saturn V'\n",
    "s = sp['MissionStatus']== 'Failure'\n",
    "\n",
    "sp[r&s]"
   ]
  },
  {
   "cell_type": "code",
   "execution_count": 32,
   "metadata": {},
   "outputs": [
    {
     "data": {
      "text/html": [
       "<div>\n",
       "<style scoped>\n",
       "    .dataframe tbody tr th:only-of-type {\n",
       "        vertical-align: middle;\n",
       "    }\n",
       "\n",
       "    .dataframe tbody tr th {\n",
       "        vertical-align: top;\n",
       "    }\n",
       "\n",
       "    .dataframe thead th {\n",
       "        text-align: right;\n",
       "    }\n",
       "</style>\n",
       "<table border=\"1\" class=\"dataframe\">\n",
       "  <thead>\n",
       "    <tr style=\"text-align: right;\">\n",
       "      <th></th>\n",
       "      <th>Company</th>\n",
       "      <th>Location</th>\n",
       "      <th>Date</th>\n",
       "      <th>Time</th>\n",
       "      <th>Rocket</th>\n",
       "      <th>Mission</th>\n",
       "      <th>RocketStatus</th>\n",
       "      <th>Price</th>\n",
       "      <th>MissionStatus</th>\n",
       "    </tr>\n",
       "  </thead>\n",
       "  <tbody>\n",
       "    <tr>\n",
       "      <th>607</th>\n",
       "      <td>NASA</td>\n",
       "      <td>LC-39A, Kennedy Space Center, Florida, USA</td>\n",
       "      <td>1967-11-09</td>\n",
       "      <td>12:00:00</td>\n",
       "      <td>Saturn V</td>\n",
       "      <td>Apollo 4</td>\n",
       "      <td>Retired</td>\n",
       "      <td>1,160.00</td>\n",
       "      <td>Success</td>\n",
       "    </tr>\n",
       "    <tr>\n",
       "      <th>720</th>\n",
       "      <td>NASA</td>\n",
       "      <td>LC-39A, Kennedy Space Center, Florida, USA</td>\n",
       "      <td>1968-12-21</td>\n",
       "      <td>12:51:00</td>\n",
       "      <td>Saturn V</td>\n",
       "      <td>Apollo 8</td>\n",
       "      <td>Retired</td>\n",
       "      <td>1,160.00</td>\n",
       "      <td>Success</td>\n",
       "    </tr>\n",
       "    <tr>\n",
       "      <th>739</th>\n",
       "      <td>NASA</td>\n",
       "      <td>LC-39A, Kennedy Space Center, Florida, USA</td>\n",
       "      <td>1969-03-03</td>\n",
       "      <td>16:00:00</td>\n",
       "      <td>Saturn V</td>\n",
       "      <td>Apollo 9</td>\n",
       "      <td>Retired</td>\n",
       "      <td>1,160.00</td>\n",
       "      <td>Success</td>\n",
       "    </tr>\n",
       "    <tr>\n",
       "      <th>763</th>\n",
       "      <td>NASA</td>\n",
       "      <td>LC-39B, Kennedy Space Center, Florida, USA</td>\n",
       "      <td>1969-05-18</td>\n",
       "      <td>16:49:00</td>\n",
       "      <td>Saturn V</td>\n",
       "      <td>Apollo 10</td>\n",
       "      <td>Retired</td>\n",
       "      <td>1,160.00</td>\n",
       "      <td>Success</td>\n",
       "    </tr>\n",
       "    <tr>\n",
       "      <th>778</th>\n",
       "      <td>NASA</td>\n",
       "      <td>LC-39A, Kennedy Space Center, Florida, USA</td>\n",
       "      <td>1969-07-16</td>\n",
       "      <td>13:32:00</td>\n",
       "      <td>Saturn V</td>\n",
       "      <td>Apollo 11</td>\n",
       "      <td>Retired</td>\n",
       "      <td>1,160.00</td>\n",
       "      <td>Success</td>\n",
       "    </tr>\n",
       "    <tr>\n",
       "      <th>812</th>\n",
       "      <td>NASA</td>\n",
       "      <td>LC-39A, Kennedy Space Center, Florida, USA</td>\n",
       "      <td>1969-11-14</td>\n",
       "      <td>16:22:00</td>\n",
       "      <td>Saturn V</td>\n",
       "      <td>Apollo 12</td>\n",
       "      <td>Retired</td>\n",
       "      <td>1,160.00</td>\n",
       "      <td>Success</td>\n",
       "    </tr>\n",
       "    <tr>\n",
       "      <th>848</th>\n",
       "      <td>NASA</td>\n",
       "      <td>LC-39A, Kennedy Space Center, Florida, USA</td>\n",
       "      <td>1970-04-11</td>\n",
       "      <td>19:13:00</td>\n",
       "      <td>Saturn V</td>\n",
       "      <td>Apollo 13</td>\n",
       "      <td>Retired</td>\n",
       "      <td>1,160.00</td>\n",
       "      <td>Success</td>\n",
       "    </tr>\n",
       "    <tr>\n",
       "      <th>939</th>\n",
       "      <td>NASA</td>\n",
       "      <td>LC-39A, Kennedy Space Center, Florida, USA</td>\n",
       "      <td>1971-01-31</td>\n",
       "      <td>21:03:00</td>\n",
       "      <td>Saturn V</td>\n",
       "      <td>Apollo 14</td>\n",
       "      <td>Retired</td>\n",
       "      <td>1,160.00</td>\n",
       "      <td>Success</td>\n",
       "    </tr>\n",
       "    <tr>\n",
       "      <th>995</th>\n",
       "      <td>NASA</td>\n",
       "      <td>LC-39A, Kennedy Space Center, Florida, USA</td>\n",
       "      <td>1971-07-26</td>\n",
       "      <td>13:34:00</td>\n",
       "      <td>Saturn V</td>\n",
       "      <td>Apollo 15</td>\n",
       "      <td>Retired</td>\n",
       "      <td>1,160.00</td>\n",
       "      <td>Success</td>\n",
       "    </tr>\n",
       "    <tr>\n",
       "      <th>1080</th>\n",
       "      <td>NASA</td>\n",
       "      <td>LC-39A, Kennedy Space Center, Florida, USA</td>\n",
       "      <td>1972-04-16</td>\n",
       "      <td>17:54:00</td>\n",
       "      <td>Saturn V</td>\n",
       "      <td>Apollo 16</td>\n",
       "      <td>Retired</td>\n",
       "      <td>1,160.00</td>\n",
       "      <td>Success</td>\n",
       "    </tr>\n",
       "    <tr>\n",
       "      <th>1143</th>\n",
       "      <td>NASA</td>\n",
       "      <td>LC-39A, Kennedy Space Center, Florida, USA</td>\n",
       "      <td>1972-12-19</td>\n",
       "      <td>19:24:00</td>\n",
       "      <td>Saturn V</td>\n",
       "      <td>Apollo 17</td>\n",
       "      <td>Retired</td>\n",
       "      <td>1,160.00</td>\n",
       "      <td>Success</td>\n",
       "    </tr>\n",
       "    <tr>\n",
       "      <th>1174</th>\n",
       "      <td>NASA</td>\n",
       "      <td>LC-39A, Kennedy Space Center, Florida, USA</td>\n",
       "      <td>1973-05-14</td>\n",
       "      <td>17:30:00</td>\n",
       "      <td>Saturn V</td>\n",
       "      <td>Skylab 1</td>\n",
       "      <td>Retired</td>\n",
       "      <td>1,160.00</td>\n",
       "      <td>Success</td>\n",
       "    </tr>\n",
       "  </tbody>\n",
       "</table>\n",
       "</div>"
      ],
      "text/plain": [
       "     Company                                    Location        Date  \\\n",
       "607     NASA  LC-39A, Kennedy Space Center, Florida, USA  1967-11-09   \n",
       "720     NASA  LC-39A, Kennedy Space Center, Florida, USA  1968-12-21   \n",
       "739     NASA  LC-39A, Kennedy Space Center, Florida, USA  1969-03-03   \n",
       "763     NASA  LC-39B, Kennedy Space Center, Florida, USA  1969-05-18   \n",
       "778     NASA  LC-39A, Kennedy Space Center, Florida, USA  1969-07-16   \n",
       "812     NASA  LC-39A, Kennedy Space Center, Florida, USA  1969-11-14   \n",
       "848     NASA  LC-39A, Kennedy Space Center, Florida, USA  1970-04-11   \n",
       "939     NASA  LC-39A, Kennedy Space Center, Florida, USA  1971-01-31   \n",
       "995     NASA  LC-39A, Kennedy Space Center, Florida, USA  1971-07-26   \n",
       "1080    NASA  LC-39A, Kennedy Space Center, Florida, USA  1972-04-16   \n",
       "1143    NASA  LC-39A, Kennedy Space Center, Florida, USA  1972-12-19   \n",
       "1174    NASA  LC-39A, Kennedy Space Center, Florida, USA  1973-05-14   \n",
       "\n",
       "          Time    Rocket    Mission RocketStatus     Price MissionStatus  \n",
       "607   12:00:00  Saturn V   Apollo 4      Retired  1,160.00       Success  \n",
       "720   12:51:00  Saturn V   Apollo 8      Retired  1,160.00       Success  \n",
       "739   16:00:00  Saturn V   Apollo 9      Retired  1,160.00       Success  \n",
       "763   16:49:00  Saturn V  Apollo 10      Retired  1,160.00       Success  \n",
       "778   13:32:00  Saturn V  Apollo 11      Retired  1,160.00       Success  \n",
       "812   16:22:00  Saturn V  Apollo 12      Retired  1,160.00       Success  \n",
       "848   19:13:00  Saturn V  Apollo 13      Retired  1,160.00       Success  \n",
       "939   21:03:00  Saturn V  Apollo 14      Retired  1,160.00       Success  \n",
       "995   13:34:00  Saturn V  Apollo 15      Retired  1,160.00       Success  \n",
       "1080  17:54:00  Saturn V  Apollo 16      Retired  1,160.00       Success  \n",
       "1143  19:24:00  Saturn V  Apollo 17      Retired  1,160.00       Success  \n",
       "1174  17:30:00  Saturn V   Skylab 1      Retired  1,160.00       Success  "
      ]
     },
     "execution_count": 32,
     "metadata": {},
     "output_type": "execute_result"
    }
   ],
   "source": [
    "r = sp['Rocket']== 'Saturn V'\n",
    "s = sp['MissionStatus']== 'Success'  # != 'Failure'\n",
    "\n",
    "sp[r&s]"
   ]
  },
  {
   "cell_type": "markdown",
   "metadata": {},
   "source": [
    "- Saturn V rocet was a successfull rocet with no complete failures (only 1 partial failure)"
   ]
  },
  {
   "cell_type": "code",
   "execution_count": 48,
   "metadata": {},
   "outputs": [],
   "source": [
    "sp['MissionStatus'] = sp['MissionStatus'].astype('category')"
   ]
  },
  {
   "cell_type": "code",
   "execution_count": 306,
   "metadata": {},
   "outputs": [
    {
     "name": "stdout",
     "output_type": "stream",
     "text": [
      "<class 'pandas.core.frame.DataFrame'>\n",
      "RangeIndex: 4630 entries, 0 to 4629\n",
      "Data columns (total 14 columns):\n",
      " #   Column         Non-Null Count  Dtype         \n",
      "---  ------         --------------  -----         \n",
      " 0   Company        4630 non-null   object        \n",
      " 1   Location       4630 non-null   object        \n",
      " 2   Date           4630 non-null   datetime64[ns]\n",
      " 3   Year           4630 non-null   int64         \n",
      " 4   Month          4630 non-null   int64         \n",
      " 5   Day            4630 non-null   int64         \n",
      " 6   Time           4503 non-null   object        \n",
      " 7   Hour           4630 non-null   object        \n",
      " 8   Rocket         4630 non-null   object        \n",
      " 9   Mission        4630 non-null   object        \n",
      " 10  RocketStatus   4630 non-null   object        \n",
      " 11  Price          1265 non-null   float64       \n",
      " 12  MissionStatus  4630 non-null   object        \n",
      " 13  grade          4630 non-null   category      \n",
      "dtypes: category(1), datetime64[ns](1), float64(1), int64(3), object(8)\n",
      "memory usage: 475.0+ KB\n"
     ]
    }
   ],
   "source": [
    "sp.info()"
   ]
  },
  {
   "cell_type": "markdown",
   "metadata": {},
   "source": [
    "### Missions Status Analysis by Rockets,Year\n"
   ]
  },
  {
   "cell_type": "code",
   "execution_count": 386,
   "metadata": {},
   "outputs": [
    {
     "data": {
      "text/plain": [
       "<matplotlib.axes._subplots.AxesSubplot at 0x280d31d0790>"
      ]
     },
     "execution_count": 386,
     "metadata": {},
     "output_type": "execute_result"
    },
    {
     "data": {
      "image/png": "[encoded data removed]",
      "text/plain": [
       "<Figure size 4320x360 with 1 Axes>"
      ]
     },
     "metadata": {},
     "output_type": "display_data"
    }
   ],
   "source": [
    "import matplotlib as plot\n",
    "\n",
    "kwargs = dict(\n",
    "    startangle = 75,\n",
    "    colormap   = 'Pastel2',\n",
    "    fontsize   = 13,\n",
    "    explode    = (0.1,0.2,0.4,0.6),\n",
    "    figsize    = (60,5),\n",
    "    #utopct    = '%1.1f%%',\n",
    "    #itle      = 'Mission Status Distribution'\n",
    ")\n",
    "\n",
    "sp['MissionStatus'].value_counts().plot.pie(**kwargs)"
   ]
  },
  {
   "cell_type": "code",
   "execution_count": 378,
   "metadata": {
    "scrolled": true
   },
   "outputs": [
    {
     "data": {
      "text/plain": [
       "Rocket\n",
       "ASLV                4\n",
       "Angara 1.2          2\n",
       "Angara A5/Briz-M    2\n",
       "Angara A5/Persey    1\n",
       "Antares 110         2\n",
       "                   ..\n",
       "Zenit-3 SLB         6\n",
       "Zenit-3 SLBF        4\n",
       "Zhongke-1A          1\n",
       "ZhuQue-1            1\n",
       "Zoljanah            1\n",
       "Name: MissionStatus, Length: 370, dtype: int64"
      ]
     },
     "execution_count": 378,
     "metadata": {},
     "output_type": "execute_result"
    }
   ],
   "source": [
    "sp.groupby(\"Rocket\")['MissionStatus'].count()"
   ]
  },
  {
   "cell_type": "code",
   "execution_count": 354,
   "metadata": {
    "scrolled": true
   },
   "outputs": [
    {
     "data": {
      "text/html": [
       "<div>\n",
       "<style scoped>\n",
       "    .dataframe tbody tr th:only-of-type {\n",
       "        vertical-align: middle;\n",
       "    }\n",
       "\n",
       "    .dataframe tbody tr th {\n",
       "        vertical-align: top;\n",
       "    }\n",
       "\n",
       "    .dataframe thead th {\n",
       "        text-align: right;\n",
       "    }\n",
       "</style>\n",
       "<table border=\"1\" class=\"dataframe\">\n",
       "  <thead>\n",
       "    <tr style=\"text-align: right;\">\n",
       "      <th></th>\n",
       "      <th>Rocket</th>\n",
       "      <th>MissionStatus</th>\n",
       "    </tr>\n",
       "  </thead>\n",
       "  <tbody>\n",
       "    <tr>\n",
       "      <th>75</th>\n",
       "      <td>Cosmos-3M (11K65M)</td>\n",
       "      <td>419</td>\n",
       "    </tr>\n",
       "    <tr>\n",
       "      <th>325</th>\n",
       "      <td>Voskhod</td>\n",
       "      <td>283</td>\n",
       "    </tr>\n",
       "    <tr>\n",
       "      <th>194</th>\n",
       "      <td>Molniya-M /Block ML</td>\n",
       "      <td>122</td>\n",
       "    </tr>\n",
       "    <tr>\n",
       "      <th>73</th>\n",
       "      <td>Cosmos-2I (63SM)</td>\n",
       "      <td>118</td>\n",
       "    </tr>\n",
       "    <tr>\n",
       "      <th>274</th>\n",
       "      <td>Soyuz U</td>\n",
       "      <td>118</td>\n",
       "    </tr>\n",
       "    <tr>\n",
       "      <th>...</th>\n",
       "      <td>...</td>\n",
       "      <td>...</td>\n",
       "    </tr>\n",
       "    <tr>\n",
       "      <th>170</th>\n",
       "      <td>Long March 3C</td>\n",
       "      <td>1</td>\n",
       "    </tr>\n",
       "    <tr>\n",
       "      <th>160</th>\n",
       "      <td>Long March 2D/YZ-3</td>\n",
       "      <td>1</td>\n",
       "    </tr>\n",
       "    <tr>\n",
       "      <th>157</th>\n",
       "      <td>Long March 2C/SMA</td>\n",
       "      <td>1</td>\n",
       "    </tr>\n",
       "    <tr>\n",
       "      <th>149</th>\n",
       "      <td>Lambda-IV S</td>\n",
       "      <td>1</td>\n",
       "    </tr>\n",
       "    <tr>\n",
       "      <th>336</th>\n",
       "      <td>Zoljanah</td>\n",
       "      <td>1</td>\n",
       "    </tr>\n",
       "  </tbody>\n",
       "</table>\n",
       "<p>337 rows × 2 columns</p>\n",
       "</div>"
      ],
      "text/plain": [
       "                  Rocket  MissionStatus\n",
       "75    Cosmos-3M (11K65M)            419\n",
       "325              Voskhod            283\n",
       "194  Molniya-M /Block ML            122\n",
       "73      Cosmos-2I (63SM)            118\n",
       "274              Soyuz U            118\n",
       "..                   ...            ...\n",
       "170        Long March 3C              1\n",
       "160   Long March 2D/YZ-3              1\n",
       "157    Long March 2C/SMA              1\n",
       "149          Lambda-IV S              1\n",
       "336             Zoljanah              1\n",
       "\n",
       "[337 rows x 2 columns]"
      ]
     },
     "execution_count": 354,
     "metadata": {},
     "output_type": "execute_result"
    }
   ],
   "source": [
    "(sp[sp.MissionStatus == 'Success'].groupby(\"Rocket\").MissionStatus.count().reset_index()).sort_values(\n",
    "    by = ['MissionStatus'],ascending=False)"
   ]
  },
  {
   "cell_type": "code",
   "execution_count": 342,
   "metadata": {},
   "outputs": [
    {
     "data": {
      "text/html": [
       "<div>\n",
       "<style scoped>\n",
       "    .dataframe tbody tr th:only-of-type {\n",
       "        vertical-align: middle;\n",
       "    }\n",
       "\n",
       "    .dataframe tbody tr th {\n",
       "        vertical-align: top;\n",
       "    }\n",
       "\n",
       "    .dataframe thead th {\n",
       "        text-align: right;\n",
       "    }\n",
       "</style>\n",
       "<table border=\"1\" class=\"dataframe\">\n",
       "  <thead>\n",
       "    <tr style=\"text-align: right;\">\n",
       "      <th></th>\n",
       "      <th>Rocket</th>\n",
       "      <th>MissionStatus</th>\n",
       "    </tr>\n",
       "  </thead>\n",
       "  <tbody>\n",
       "    <tr>\n",
       "      <th>75</th>\n",
       "      <td>Cosmos-3M (11K65M)</td>\n",
       "      <td>419</td>\n",
       "    </tr>\n",
       "    <tr>\n",
       "      <th>325</th>\n",
       "      <td>Voskhod</td>\n",
       "      <td>283</td>\n",
       "    </tr>\n",
       "    <tr>\n",
       "      <th>194</th>\n",
       "      <td>Molniya-M /Block ML</td>\n",
       "      <td>122</td>\n",
       "    </tr>\n",
       "    <tr>\n",
       "      <th>73</th>\n",
       "      <td>Cosmos-2I (63SM)</td>\n",
       "      <td>118</td>\n",
       "    </tr>\n",
       "    <tr>\n",
       "      <th>274</th>\n",
       "      <td>Soyuz U</td>\n",
       "      <td>118</td>\n",
       "    </tr>\n",
       "    <tr>\n",
       "      <th>...</th>\n",
       "      <td>...</td>\n",
       "      <td>...</td>\n",
       "    </tr>\n",
       "    <tr>\n",
       "      <th>170</th>\n",
       "      <td>Long March 3C</td>\n",
       "      <td>1</td>\n",
       "    </tr>\n",
       "    <tr>\n",
       "      <th>160</th>\n",
       "      <td>Long March 2D/YZ-3</td>\n",
       "      <td>1</td>\n",
       "    </tr>\n",
       "    <tr>\n",
       "      <th>157</th>\n",
       "      <td>Long March 2C/SMA</td>\n",
       "      <td>1</td>\n",
       "    </tr>\n",
       "    <tr>\n",
       "      <th>149</th>\n",
       "      <td>Lambda-IV S</td>\n",
       "      <td>1</td>\n",
       "    </tr>\n",
       "    <tr>\n",
       "      <th>336</th>\n",
       "      <td>Zoljanah</td>\n",
       "      <td>1</td>\n",
       "    </tr>\n",
       "  </tbody>\n",
       "</table>\n",
       "<p>337 rows × 2 columns</p>\n",
       "</div>"
      ],
      "text/plain": [
       "                  Rocket  MissionStatus\n",
       "75    Cosmos-3M (11K65M)            419\n",
       "325              Voskhod            283\n",
       "194  Molniya-M /Block ML            122\n",
       "73      Cosmos-2I (63SM)            118\n",
       "274              Soyuz U            118\n",
       "..                   ...            ...\n",
       "170        Long March 3C              1\n",
       "160   Long March 2D/YZ-3              1\n",
       "157    Long March 2C/SMA              1\n",
       "149          Lambda-IV S              1\n",
       "336             Zoljanah              1\n",
       "\n",
       "[337 rows x 2 columns]"
      ]
     },
     "execution_count": 342,
     "metadata": {},
     "output_type": "execute_result"
    }
   ],
   "source": [
    "# Rocket Analysis based on Mission Success\n",
    "\n",
    "(sp[sp.MissionStatus == 'Success'].groupby(\"Rocket\").MissionStatus.count().reset_index()).sort_values(\n",
    "    by = ['MissionStatus'],ascending=False)\n",
    "\n",
    "# OR\n",
    "\n",
    "# sp.groupby(\"Rocket\")[\"MissionStatus\"].apply(lambda su:su.str.contains(\"Success\").sum()).nlargest(5)\n"
   ]
  },
  {
   "cell_type": "code",
   "execution_count": 344,
   "metadata": {
    "scrolled": true
   },
   "outputs": [
    {
     "data": {
      "text/html": [
       "<div>\n",
       "<style scoped>\n",
       "    .dataframe tbody tr th:only-of-type {\n",
       "        vertical-align: middle;\n",
       "    }\n",
       "\n",
       "    .dataframe tbody tr th {\n",
       "        vertical-align: top;\n",
       "    }\n",
       "\n",
       "    .dataframe thead th {\n",
       "        text-align: right;\n",
       "    }\n",
       "</style>\n",
       "<table border=\"1\" class=\"dataframe\">\n",
       "  <thead>\n",
       "    <tr style=\"text-align: right;\">\n",
       "      <th></th>\n",
       "      <th>Rocket</th>\n",
       "      <th>MissionStatus</th>\n",
       "    </tr>\n",
       "  </thead>\n",
       "  <tbody>\n",
       "    <tr>\n",
       "      <th>41</th>\n",
       "      <td>Cosmos-3M (11K65M)</td>\n",
       "      <td>19</td>\n",
       "    </tr>\n",
       "    <tr>\n",
       "      <th>76</th>\n",
       "      <td>Molniya</td>\n",
       "      <td>16</td>\n",
       "    </tr>\n",
       "    <tr>\n",
       "      <th>148</th>\n",
       "      <td>Voskhod</td>\n",
       "      <td>13</td>\n",
       "    </tr>\n",
       "    <tr>\n",
       "      <th>38</th>\n",
       "      <td>Cosmos-2I (63S1)</td>\n",
       "      <td>12</td>\n",
       "    </tr>\n",
       "    <tr>\n",
       "      <th>90</th>\n",
       "      <td>Proton K/Block D</td>\n",
       "      <td>12</td>\n",
       "    </tr>\n",
       "  </tbody>\n",
       "</table>\n",
       "</div>"
      ],
      "text/plain": [
       "                 Rocket  MissionStatus\n",
       "41   Cosmos-3M (11K65M)             19\n",
       "76              Molniya             16\n",
       "148             Voskhod             13\n",
       "38     Cosmos-2I (63S1)             12\n",
       "90     Proton K/Block D             12"
      ]
     },
     "execution_count": 344,
     "metadata": {},
     "output_type": "execute_result"
    }
   ],
   "source": [
    "# Rocket Analysis based on Mission Failure\n",
    "\n",
    "(sp[sp.MissionStatus == 'Failure'].groupby(\"Rocket\").MissionStatus.count().reset_index()).sort_values(\n",
    "    by = ['MissionStatus'],ascending=False).head(5)\n",
    "\n",
    "# OR\n",
    "\n",
    "# sp.groupby(\"Rocket\")[\"MissionStatus\"].apply(lambda su:su.str.contains(\"Failure\").sum()).nlargest(5)"
   ]
  },
  {
   "cell_type": "code",
   "execution_count": 346,
   "metadata": {
    "scrolled": true
   },
   "outputs": [
    {
     "data": {
      "text/html": [
       "<div>\n",
       "<style scoped>\n",
       "    .dataframe tbody tr th:only-of-type {\n",
       "        vertical-align: middle;\n",
       "    }\n",
       "\n",
       "    .dataframe tbody tr th {\n",
       "        vertical-align: top;\n",
       "    }\n",
       "\n",
       "    .dataframe thead th {\n",
       "        text-align: right;\n",
       "    }\n",
       "</style>\n",
       "<table border=\"1\" class=\"dataframe\">\n",
       "  <thead>\n",
       "    <tr style=\"text-align: right;\">\n",
       "      <th></th>\n",
       "      <th>Rocket</th>\n",
       "      <th>MissionStatus</th>\n",
       "    </tr>\n",
       "  </thead>\n",
       "  <tbody>\n",
       "    <tr>\n",
       "      <th>12</th>\n",
       "      <td>Cosmos-3M (11K65M)</td>\n",
       "      <td>8</td>\n",
       "    </tr>\n",
       "    <tr>\n",
       "      <th>27</th>\n",
       "      <td>Molniya-M /Block ML</td>\n",
       "      <td>5</td>\n",
       "    </tr>\n",
       "    <tr>\n",
       "      <th>48</th>\n",
       "      <td>Starship Prototype</td>\n",
       "      <td>3</td>\n",
       "    </tr>\n",
       "    <tr>\n",
       "      <th>60</th>\n",
       "      <td>Voskhod</td>\n",
       "      <td>3</td>\n",
       "    </tr>\n",
       "    <tr>\n",
       "      <th>38</th>\n",
       "      <td>SARGE</td>\n",
       "      <td>3</td>\n",
       "    </tr>\n",
       "  </tbody>\n",
       "</table>\n",
       "</div>"
      ],
      "text/plain": [
       "                 Rocket  MissionStatus\n",
       "12   Cosmos-3M (11K65M)              8\n",
       "27  Molniya-M /Block ML              5\n",
       "48   Starship Prototype              3\n",
       "60              Voskhod              3\n",
       "38                SARGE              3"
      ]
     },
     "execution_count": 346,
     "metadata": {},
     "output_type": "execute_result"
    }
   ],
   "source": [
    "# Rocket Analysis based on Partial Mission Failure\n",
    "\n",
    "(sp[sp.MissionStatus == 'Partial Failure'].groupby(\"Rocket\").MissionStatus.count().reset_index()).sort_values(\n",
    "    by = ['MissionStatus'],ascending=False).head(5)"
   ]
  },
  {
   "cell_type": "code",
   "execution_count": 385,
   "metadata": {},
   "outputs": [
    {
     "data": {
      "text/html": [
       "<div>\n",
       "<style scoped>\n",
       "    .dataframe tbody tr th:only-of-type {\n",
       "        vertical-align: middle;\n",
       "    }\n",
       "\n",
       "    .dataframe tbody tr th {\n",
       "        vertical-align: top;\n",
       "    }\n",
       "\n",
       "    .dataframe thead th {\n",
       "        text-align: right;\n",
       "    }\n",
       "</style>\n",
       "<table border=\"1\" class=\"dataframe\">\n",
       "  <thead>\n",
       "    <tr style=\"text-align: right;\">\n",
       "      <th></th>\n",
       "      <th>Rocket</th>\n",
       "      <th>MissionStatus</th>\n",
       "    </tr>\n",
       "  </thead>\n",
       "  <tbody>\n",
       "    <tr>\n",
       "      <th>0</th>\n",
       "      <td>Falcon 9 Block 3</td>\n",
       "      <td>1</td>\n",
       "    </tr>\n",
       "    <tr>\n",
       "      <th>1</th>\n",
       "      <td>Safir-1B+</td>\n",
       "      <td>1</td>\n",
       "    </tr>\n",
       "    <tr>\n",
       "      <th>2</th>\n",
       "      <td>Soyuz</td>\n",
       "      <td>1</td>\n",
       "    </tr>\n",
       "    <tr>\n",
       "      <th>3</th>\n",
       "      <td>VLS-1</td>\n",
       "      <td>1</td>\n",
       "    </tr>\n",
       "  </tbody>\n",
       "</table>\n",
       "</div>"
      ],
      "text/plain": [
       "             Rocket  MissionStatus\n",
       "0  Falcon 9 Block 3              1\n",
       "1         Safir-1B+              1\n",
       "2             Soyuz              1\n",
       "3             VLS-1              1"
      ]
     },
     "execution_count": 385,
     "metadata": {},
     "output_type": "execute_result"
    }
   ],
   "source": [
    "# Rocket Analysis based on Prelaunch Mission Failure\n",
    "\n",
    "(sp[sp.MissionStatus == 'Prelaunch Failure'].groupby(\"Rocket\").MissionStatus.count().reset_index()).sort_values(\n",
    "    by = ['MissionStatus'],ascending=False)"
   ]
  },
  {
   "cell_type": "markdown",
   "metadata": {},
   "source": [
    "- Voskhod had 283-Success, 13-Failures, 3-Partial Failures\n",
    "- Prelaunch failure has occured only 4 times  with the above rockets\n"
   ]
  },
  {
   "cell_type": "code",
   "execution_count": 409,
   "metadata": {
    "scrolled": true
   },
   "outputs": [
    {
     "data": {
      "text/html": [
       "<div>\n",
       "<style scoped>\n",
       "    .dataframe tbody tr th:only-of-type {\n",
       "        vertical-align: middle;\n",
       "    }\n",
       "\n",
       "    .dataframe tbody tr th {\n",
       "        vertical-align: top;\n",
       "    }\n",
       "\n",
       "    .dataframe thead th {\n",
       "        text-align: right;\n",
       "    }\n",
       "</style>\n",
       "<table border=\"1\" class=\"dataframe\">\n",
       "  <thead>\n",
       "    <tr style=\"text-align: right;\">\n",
       "      <th></th>\n",
       "      <th>Year</th>\n",
       "      <th>MissionStatus</th>\n",
       "      <th>Count</th>\n",
       "    </tr>\n",
       "  </thead>\n",
       "  <tbody>\n",
       "    <tr>\n",
       "      <th>0</th>\n",
       "      <td>1957</td>\n",
       "      <td>Failure</td>\n",
       "      <td>1</td>\n",
       "    </tr>\n",
       "    <tr>\n",
       "      <th>1</th>\n",
       "      <td>1957</td>\n",
       "      <td>Success</td>\n",
       "      <td>2</td>\n",
       "    </tr>\n",
       "    <tr>\n",
       "      <th>2</th>\n",
       "      <td>1958</td>\n",
       "      <td>Failure</td>\n",
       "      <td>20</td>\n",
       "    </tr>\n",
       "    <tr>\n",
       "      <th>3</th>\n",
       "      <td>1958</td>\n",
       "      <td>Partial Failure</td>\n",
       "      <td>2</td>\n",
       "    </tr>\n",
       "    <tr>\n",
       "      <th>4</th>\n",
       "      <td>1958</td>\n",
       "      <td>Success</td>\n",
       "      <td>6</td>\n",
       "    </tr>\n",
       "    <tr>\n",
       "      <th>...</th>\n",
       "      <td>...</td>\n",
       "      <td>...</td>\n",
       "      <td>...</td>\n",
       "    </tr>\n",
       "    <tr>\n",
       "      <th>179</th>\n",
       "      <td>2021</td>\n",
       "      <td>Failure</td>\n",
       "      <td>11</td>\n",
       "    </tr>\n",
       "    <tr>\n",
       "      <th>180</th>\n",
       "      <td>2021</td>\n",
       "      <td>Partial Failure</td>\n",
       "      <td>3</td>\n",
       "    </tr>\n",
       "    <tr>\n",
       "      <th>181</th>\n",
       "      <td>2021</td>\n",
       "      <td>Success</td>\n",
       "      <td>143</td>\n",
       "    </tr>\n",
       "    <tr>\n",
       "      <th>182</th>\n",
       "      <td>2022</td>\n",
       "      <td>Failure</td>\n",
       "      <td>3</td>\n",
       "    </tr>\n",
       "    <tr>\n",
       "      <th>183</th>\n",
       "      <td>2022</td>\n",
       "      <td>Success</td>\n",
       "      <td>90</td>\n",
       "    </tr>\n",
       "  </tbody>\n",
       "</table>\n",
       "<p>184 rows × 3 columns</p>\n",
       "</div>"
      ],
      "text/plain": [
       "     Year    MissionStatus  Count\n",
       "0    1957          Failure      1\n",
       "1    1957          Success      2\n",
       "2    1958          Failure     20\n",
       "3    1958  Partial Failure      2\n",
       "4    1958          Success      6\n",
       "..    ...              ...    ...\n",
       "179  2021          Failure     11\n",
       "180  2021  Partial Failure      3\n",
       "181  2021          Success    143\n",
       "182  2022          Failure      3\n",
       "183  2022          Success     90\n",
       "\n",
       "[184 rows x 3 columns]"
      ]
     },
     "execution_count": 409,
     "metadata": {},
     "output_type": "execute_result"
    }
   ],
   "source": [
    "ndf = pd.DataFrame(sp.groupby(['Year','MissionStatus']).size().to_frame('Count').reset_index())\n",
    "ndf"
   ]
  },
  {
   "cell_type": "code",
   "execution_count": 413,
   "metadata": {
    "scrolled": true
   },
   "outputs": [
    {
     "data": {
      "text/html": [
       "<div>\n",
       "<style scoped>\n",
       "    .dataframe tbody tr th:only-of-type {\n",
       "        vertical-align: middle;\n",
       "    }\n",
       "\n",
       "    .dataframe tbody tr th {\n",
       "        vertical-align: top;\n",
       "    }\n",
       "\n",
       "    .dataframe thead th {\n",
       "        text-align: right;\n",
       "    }\n",
       "</style>\n",
       "<table border=\"1\" class=\"dataframe\">\n",
       "  <thead>\n",
       "    <tr style=\"text-align: right;\">\n",
       "      <th></th>\n",
       "      <th>Year</th>\n",
       "      <th>MissionStatus</th>\n",
       "      <th>Count</th>\n",
       "    </tr>\n",
       "  </thead>\n",
       "  <tbody>\n",
       "    <tr>\n",
       "      <th>34</th>\n",
       "      <td>1969</td>\n",
       "      <td>Failure</td>\n",
       "      <td>17</td>\n",
       "    </tr>\n",
       "    <tr>\n",
       "      <th>35</th>\n",
       "      <td>1969</td>\n",
       "      <td>Partial Failure</td>\n",
       "      <td>1</td>\n",
       "    </tr>\n",
       "    <tr>\n",
       "      <th>36</th>\n",
       "      <td>1969</td>\n",
       "      <td>Success</td>\n",
       "      <td>85</td>\n",
       "    </tr>\n",
       "  </tbody>\n",
       "</table>\n",
       "</div>"
      ],
      "text/plain": [
       "    Year    MissionStatus  Count\n",
       "34  1969          Failure     17\n",
       "35  1969  Partial Failure      1\n",
       "36  1969          Success     85"
      ]
     },
     "execution_count": 413,
     "metadata": {},
     "output_type": "execute_result"
    }
   ],
   "source": [
    "ndf.loc[(ndf['Year']==1969)]"
   ]
  },
  {
   "cell_type": "markdown",
   "metadata": {},
   "source": []
  }
 ],
 "metadata": {
  "kernelspec": {
   "display_name": "Python 3",
   "language": "python",
   "name": "python3"
  },
  "language_info": {
   "codemirror_mode": {
    "name": "ipython",
    "version": 3
   },
   "file_extension": ".py",
   "mimetype": "text/x-python",
   "name": "python",
   "nbconvert_exporter": "python",
   "pygments_lexer": "ipython3",
   "version": "3.8.3"
  }
 },
 "nbformat": 4,
 "nbformat_minor": 4
}
